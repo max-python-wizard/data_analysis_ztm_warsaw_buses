{
 "cells": [
  {
   "cell_type": "code",
   "execution_count": 1,
   "id": "2352a287-c127-4b25-af4f-d8bdec852e0c",
   "metadata": {},
   "outputs": [],
   "source": [
    "import spacial_data_analysis_ztm"
   ]
  },
  {
   "cell_type": "code",
   "execution_count": null,
   "id": "77e1f1ab-a9c7-4182-ac0b-8e5dd8d93710",
   "metadata": {},
   "outputs": [],
   "source": [
    "# oryginalny CRS ze strony ztm crs='EPSG:4326'\n",
    "ztm_crs = 'EPSG:4326'\n",
    "gdf_night = spacial_data_analysis_ztm.covert_long_lat_into_geodataframe(df_night, ztm_crs)"
   ]
  }
 ],
 "metadata": {
  "kernelspec": {
   "display_name": "nlp",
   "language": "python",
   "name": "nlp"
  },
  "language_info": {
   "codemirror_mode": {
    "name": "ipython",
    "version": 3
   },
   "file_extension": ".py",
   "mimetype": "text/x-python",
   "name": "python",
   "nbconvert_exporter": "python",
   "pygments_lexer": "ipython3",
   "version": "3.9.2"
  }
 },
 "nbformat": 4,
 "nbformat_minor": 5
}
