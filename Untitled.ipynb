{
 "cells": [
  {
   "cell_type": "code",
   "execution_count": 2,
   "id": "9275d85f-5a91-4f61-9ef8-758893604b33",
   "metadata": {},
   "outputs": [],
   "source": [
    "import pandas as pd"
   ]
  },
  {
   "cell_type": "code",
   "execution_count": 56,
   "id": "092dfd92-f44a-4dc4-a03a-6e95eb5a348b",
   "metadata": {},
   "outputs": [],
   "source": [
    "lines = ['111', '111', '117', '117']\n",
    "lat = [52.23312749177165, 52.239184825276396, 52.237996088369876, 52.23226459286634]\n",
    "lon = [21.019626295412838, 21.017303196032262, 21.050034242560585, 21.022349324437076]\n",
    "\n",
    "time = ['2021-06-27 15:00:00', '2021-06-27 15:04:00', '2021-06-27 15:00:00', '2021-06-27 15:09:00']\n",
    "\n",
    "vehicleNumber = [1, 1, 2, 2, 3]\n",
    "brigade = [1, 1, 2, 2]\n",
    "\n",
    "list_of_tuples = list(zip(lines, lon, vehicleNumber, time, brigade, lat))\n",
    "\n",
    "df = pd.DataFrame(list_of_tuples, columns=['Lines', 'Lon', 'VehicleNumber', 'Time', 'Brigade', 'Lat'])\n"
   ]
  },
  {
   "cell_type": "code",
   "execution_count": 57,
   "id": "8f54680e-2a8a-4cb0-9e17-bed47b232682",
   "metadata": {},
   "outputs": [
    {
     "data": {
      "text/html": [
       "<div>\n",
       "<style scoped>\n",
       "    .dataframe tbody tr th:only-of-type {\n",
       "        vertical-align: middle;\n",
       "    }\n",
       "\n",
       "    .dataframe tbody tr th {\n",
       "        vertical-align: top;\n",
       "    }\n",
       "\n",
       "    .dataframe thead th {\n",
       "        text-align: right;\n",
       "    }\n",
       "</style>\n",
       "<table border=\"1\" class=\"dataframe\">\n",
       "  <thead>\n",
       "    <tr style=\"text-align: right;\">\n",
       "      <th></th>\n",
       "      <th>Lines</th>\n",
       "      <th>Lon</th>\n",
       "      <th>VehicleNumber</th>\n",
       "      <th>Time</th>\n",
       "      <th>Brigade</th>\n",
       "      <th>Lat</th>\n",
       "    </tr>\n",
       "  </thead>\n",
       "  <tbody>\n",
       "    <tr>\n",
       "      <th>0</th>\n",
       "      <td>111</td>\n",
       "      <td>21.019626</td>\n",
       "      <td>1</td>\n",
       "      <td>2021-06-27 15:00:00</td>\n",
       "      <td>1</td>\n",
       "      <td>52.233127</td>\n",
       "    </tr>\n",
       "    <tr>\n",
       "      <th>1</th>\n",
       "      <td>111</td>\n",
       "      <td>21.017303</td>\n",
       "      <td>1</td>\n",
       "      <td>2021-06-27 15:04:00</td>\n",
       "      <td>1</td>\n",
       "      <td>52.239185</td>\n",
       "    </tr>\n",
       "    <tr>\n",
       "      <th>2</th>\n",
       "      <td>117</td>\n",
       "      <td>21.050034</td>\n",
       "      <td>2</td>\n",
       "      <td>2021-06-27 15:00:00</td>\n",
       "      <td>2</td>\n",
       "      <td>52.237996</td>\n",
       "    </tr>\n",
       "    <tr>\n",
       "      <th>3</th>\n",
       "      <td>117</td>\n",
       "      <td>21.022349</td>\n",
       "      <td>2</td>\n",
       "      <td>2021-06-27 15:09:00</td>\n",
       "      <td>2</td>\n",
       "      <td>52.232265</td>\n",
       "    </tr>\n",
       "  </tbody>\n",
       "</table>\n",
       "</div>"
      ],
      "text/plain": [
       "  Lines        Lon  VehicleNumber                 Time  Brigade        Lat\n",
       "0   111  21.019626              1  2021-06-27 15:00:00        1  52.233127\n",
       "1   111  21.017303              1  2021-06-27 15:04:00        1  52.239185\n",
       "2   117  21.050034              2  2021-06-27 15:00:00        2  52.237996\n",
       "3   117  21.022349              2  2021-06-27 15:09:00        2  52.232265"
      ]
     },
     "execution_count": 57,
     "metadata": {},
     "output_type": "execute_result"
    }
   ],
   "source": [
    "df"
   ]
  },
  {
   "cell_type": "code",
   "execution_count": 30,
   "id": "815155fd-d40e-489d-87b1-cb8a482eb810",
   "metadata": {},
   "outputs": [],
   "source": [
    "df = pd.concat([df]*2)"
   ]
  },
  {
   "cell_type": "code",
   "execution_count": 31,
   "id": "6daa2dfc-956c-4463-94dd-d974131dac3e",
   "metadata": {},
   "outputs": [
    {
     "data": {
      "text/html": [
       "<div>\n",
       "<style scoped>\n",
       "    .dataframe tbody tr th:only-of-type {\n",
       "        vertical-align: middle;\n",
       "    }\n",
       "\n",
       "    .dataframe tbody tr th {\n",
       "        vertical-align: top;\n",
       "    }\n",
       "\n",
       "    .dataframe thead th {\n",
       "        text-align: right;\n",
       "    }\n",
       "</style>\n",
       "<table border=\"1\" class=\"dataframe\">\n",
       "  <thead>\n",
       "    <tr style=\"text-align: right;\">\n",
       "      <th></th>\n",
       "      <th>Lines</th>\n",
       "      <th>Lon</th>\n",
       "      <th>VehicleNumber</th>\n",
       "      <th>Time</th>\n",
       "      <th>Brigade</th>\n",
       "      <th>Lat</th>\n",
       "    </tr>\n",
       "  </thead>\n",
       "  <tbody>\n",
       "    <tr>\n",
       "      <th>0</th>\n",
       "      <td>111</td>\n",
       "      <td>21.019626</td>\n",
       "      <td>0001</td>\n",
       "      <td>2021-06-27 15:00:00</td>\n",
       "      <td>1</td>\n",
       "      <td>52.233127</td>\n",
       "    </tr>\n",
       "    <tr>\n",
       "      <th>1</th>\n",
       "      <td>111</td>\n",
       "      <td>21.017303</td>\n",
       "      <td>0001</td>\n",
       "      <td>2021-06-27 15:04:00</td>\n",
       "      <td>1</td>\n",
       "      <td>52.239185</td>\n",
       "    </tr>\n",
       "    <tr>\n",
       "      <th>2</th>\n",
       "      <td>117</td>\n",
       "      <td>21.050034</td>\n",
       "      <td>0002</td>\n",
       "      <td>2021-06-27 15:00:00</td>\n",
       "      <td>2</td>\n",
       "      <td>52.237996</td>\n",
       "    </tr>\n",
       "    <tr>\n",
       "      <th>3</th>\n",
       "      <td>117</td>\n",
       "      <td>21.022349</td>\n",
       "      <td>0002</td>\n",
       "      <td>2021-06-27 15:09:00</td>\n",
       "      <td>2</td>\n",
       "      <td>52.232265</td>\n",
       "    </tr>\n",
       "    <tr>\n",
       "      <th>0</th>\n",
       "      <td>111</td>\n",
       "      <td>21.019626</td>\n",
       "      <td>0001</td>\n",
       "      <td>2021-06-27 15:00:00</td>\n",
       "      <td>1</td>\n",
       "      <td>52.233127</td>\n",
       "    </tr>\n",
       "    <tr>\n",
       "      <th>1</th>\n",
       "      <td>111</td>\n",
       "      <td>21.017303</td>\n",
       "      <td>0001</td>\n",
       "      <td>2021-06-27 15:04:00</td>\n",
       "      <td>1</td>\n",
       "      <td>52.239185</td>\n",
       "    </tr>\n",
       "    <tr>\n",
       "      <th>2</th>\n",
       "      <td>117</td>\n",
       "      <td>21.050034</td>\n",
       "      <td>0002</td>\n",
       "      <td>2021-06-27 15:00:00</td>\n",
       "      <td>2</td>\n",
       "      <td>52.237996</td>\n",
       "    </tr>\n",
       "    <tr>\n",
       "      <th>3</th>\n",
       "      <td>117</td>\n",
       "      <td>21.022349</td>\n",
       "      <td>0002</td>\n",
       "      <td>2021-06-27 15:09:00</td>\n",
       "      <td>2</td>\n",
       "      <td>52.232265</td>\n",
       "    </tr>\n",
       "  </tbody>\n",
       "</table>\n",
       "</div>"
      ],
      "text/plain": [
       "  Lines        Lon VehicleNumber                 Time  Brigade        Lat\n",
       "0   111  21.019626          0001  2021-06-27 15:00:00        1  52.233127\n",
       "1   111  21.017303          0001  2021-06-27 15:04:00        1  52.239185\n",
       "2   117  21.050034          0002  2021-06-27 15:00:00        2  52.237996\n",
       "3   117  21.022349          0002  2021-06-27 15:09:00        2  52.232265\n",
       "0   111  21.019626          0001  2021-06-27 15:00:00        1  52.233127\n",
       "1   111  21.017303          0001  2021-06-27 15:04:00        1  52.239185\n",
       "2   117  21.050034          0002  2021-06-27 15:00:00        2  52.237996\n",
       "3   117  21.022349          0002  2021-06-27 15:09:00        2  52.232265"
      ]
     },
     "execution_count": 31,
     "metadata": {},
     "output_type": "execute_result"
    }
   ],
   "source": [
    "df"
   ]
  },
  {
   "cell_type": "code",
   "execution_count": null,
   "id": "2397cc5b-42d0-4884-ae1b-e42e62df2ea8",
   "metadata": {},
   "outputs": [],
   "source": []
  },
  {
   "cell_type": "code",
   "execution_count": 42,
   "id": "11200430-7d86-4f3b-ae8a-39890f3f175c",
   "metadata": {},
   "outputs": [
    {
     "data": {
      "text/plain": [
       "True"
      ]
     },
     "execution_count": 42,
     "metadata": {},
     "output_type": "execute_result"
    }
   ],
   "source": [
    "list((df.index == [0, 1, 2, 3, 0, 1, 2, 3])) == [True,  True,  True,  True,  True,  True,  True,  True]"
   ]
  },
  {
   "cell_type": "code",
   "execution_count": 9,
   "id": "45cc79bd-3e0b-4400-b469-e27bf460e604",
   "metadata": {},
   "outputs": [],
   "source": [
    "df[4,] = df.iloc[0]"
   ]
  },
  {
   "cell_type": "code",
   "execution_count": 20,
   "id": "7fb8c696-ab50-40b6-99ae-9ed284f35fe6",
   "metadata": {},
   "outputs": [
    {
     "data": {
      "text/plain": [
       "Lines                            111\n",
       "Lon                        21.019626\n",
       "VehicleNumber                   0001\n",
       "Time             2021-06-27 15:00:00\n",
       "Brigade                            1\n",
       "Lat                        52.233127\n",
       "4                                NaN\n",
       "(4,)                             NaN\n",
       "Name: 0, dtype: object"
      ]
     },
     "execution_count": 20,
     "metadata": {},
     "output_type": "execute_result"
    }
   ],
   "source": [
    "df.iloc[0]"
   ]
  },
  {
   "cell_type": "code",
   "execution_count": 32,
   "id": "49109263-c234-4a52-a8e8-e7fd897cd0f7",
   "metadata": {},
   "outputs": [
    {
     "data": {
      "text/plain": [
       "(8, 6)"
      ]
     },
     "execution_count": 32,
     "metadata": {},
     "output_type": "execute_result"
    }
   ],
   "source": [
    "df.shape"
   ]
  },
  {
   "cell_type": "code",
   "execution_count": 35,
   "id": "b94b46aa-820c-47a0-8f67-65696ee406c1",
   "metadata": {},
   "outputs": [
    {
     "data": {
      "text/plain": [
       "True"
      ]
     },
     "execution_count": 35,
     "metadata": {},
     "output_type": "execute_result"
    }
   ],
   "source": [
    "'Lat' in df.columns"
   ]
  },
  {
   "cell_type": "code",
   "execution_count": 43,
   "id": "6de9fc50-fe27-42d4-8c83-8a6aae85aca7",
   "metadata": {},
   "outputs": [],
   "source": [
    "import spacial_data_analysis_ztm"
   ]
  },
  {
   "cell_type": "code",
   "execution_count": 44,
   "id": "e7723276-7066-47bb-ab67-302a8c183c8a",
   "metadata": {},
   "outputs": [
    {
     "data": {
      "text/html": [
       "<div>\n",
       "<style scoped>\n",
       "    .dataframe tbody tr th:only-of-type {\n",
       "        vertical-align: middle;\n",
       "    }\n",
       "\n",
       "    .dataframe tbody tr th {\n",
       "        vertical-align: top;\n",
       "    }\n",
       "\n",
       "    .dataframe thead th {\n",
       "        text-align: right;\n",
       "    }\n",
       "</style>\n",
       "<table border=\"1\" class=\"dataframe\">\n",
       "  <thead>\n",
       "    <tr style=\"text-align: right;\">\n",
       "      <th></th>\n",
       "      <th>Lines</th>\n",
       "      <th>Lon</th>\n",
       "      <th>VehicleNumber</th>\n",
       "      <th>Time</th>\n",
       "      <th>Brigade</th>\n",
       "      <th>Lat</th>\n",
       "    </tr>\n",
       "  </thead>\n",
       "  <tbody>\n",
       "    <tr>\n",
       "      <th>0</th>\n",
       "      <td>111</td>\n",
       "      <td>21.019626</td>\n",
       "      <td>0001</td>\n",
       "      <td>2021-06-27 15:00:00</td>\n",
       "      <td>1</td>\n",
       "      <td>52.233127</td>\n",
       "    </tr>\n",
       "    <tr>\n",
       "      <th>1</th>\n",
       "      <td>111</td>\n",
       "      <td>21.017303</td>\n",
       "      <td>0001</td>\n",
       "      <td>2021-06-27 15:04:00</td>\n",
       "      <td>1</td>\n",
       "      <td>52.239185</td>\n",
       "    </tr>\n",
       "    <tr>\n",
       "      <th>2</th>\n",
       "      <td>117</td>\n",
       "      <td>21.050034</td>\n",
       "      <td>0002</td>\n",
       "      <td>2021-06-27 15:00:00</td>\n",
       "      <td>2</td>\n",
       "      <td>52.237996</td>\n",
       "    </tr>\n",
       "    <tr>\n",
       "      <th>3</th>\n",
       "      <td>117</td>\n",
       "      <td>21.022349</td>\n",
       "      <td>0002</td>\n",
       "      <td>2021-06-27 15:09:00</td>\n",
       "      <td>2</td>\n",
       "      <td>52.232265</td>\n",
       "    </tr>\n",
       "    <tr>\n",
       "      <th>0</th>\n",
       "      <td>111</td>\n",
       "      <td>21.019626</td>\n",
       "      <td>0001</td>\n",
       "      <td>2021-06-27 15:00:00</td>\n",
       "      <td>1</td>\n",
       "      <td>52.233127</td>\n",
       "    </tr>\n",
       "    <tr>\n",
       "      <th>1</th>\n",
       "      <td>111</td>\n",
       "      <td>21.017303</td>\n",
       "      <td>0001</td>\n",
       "      <td>2021-06-27 15:04:00</td>\n",
       "      <td>1</td>\n",
       "      <td>52.239185</td>\n",
       "    </tr>\n",
       "    <tr>\n",
       "      <th>2</th>\n",
       "      <td>117</td>\n",
       "      <td>21.050034</td>\n",
       "      <td>0002</td>\n",
       "      <td>2021-06-27 15:00:00</td>\n",
       "      <td>2</td>\n",
       "      <td>52.237996</td>\n",
       "    </tr>\n",
       "    <tr>\n",
       "      <th>3</th>\n",
       "      <td>117</td>\n",
       "      <td>21.022349</td>\n",
       "      <td>0002</td>\n",
       "      <td>2021-06-27 15:09:00</td>\n",
       "      <td>2</td>\n",
       "      <td>52.232265</td>\n",
       "    </tr>\n",
       "  </tbody>\n",
       "</table>\n",
       "</div>"
      ],
      "text/plain": [
       "  Lines        Lon VehicleNumber                 Time  Brigade        Lat\n",
       "0   111  21.019626          0001  2021-06-27 15:00:00        1  52.233127\n",
       "1   111  21.017303          0001  2021-06-27 15:04:00        1  52.239185\n",
       "2   117  21.050034          0002  2021-06-27 15:00:00        2  52.237996\n",
       "3   117  21.022349          0002  2021-06-27 15:09:00        2  52.232265\n",
       "0   111  21.019626          0001  2021-06-27 15:00:00        1  52.233127\n",
       "1   111  21.017303          0001  2021-06-27 15:04:00        1  52.239185\n",
       "2   117  21.050034          0002  2021-06-27 15:00:00        2  52.237996\n",
       "3   117  21.022349          0002  2021-06-27 15:09:00        2  52.232265"
      ]
     },
     "execution_count": 44,
     "metadata": {},
     "output_type": "execute_result"
    }
   ],
   "source": [
    "df"
   ]
  },
  {
   "cell_type": "code",
   "execution_count": 58,
   "id": "71151935-c396-4e38-89ec-11533b9211ca",
   "metadata": {},
   "outputs": [],
   "source": [
    "# oryginalny CRS ze strony ztm crs='EPSG:4326'\n",
    "ztm_crs = 'EPSG:4326'\n",
    "gdf = spacial_data_analysis_ztm.covert_long_lat_into_geodataframe(df, ztm_crs)"
   ]
  },
  {
   "cell_type": "code",
   "execution_count": 59,
   "id": "11063ad0-676f-4f8a-b5fd-0244b4fad67b",
   "metadata": {},
   "outputs": [
    {
     "data": {
      "text/plain": [
       "<AxesSubplot:>"
      ]
     },
     "execution_count": 59,
     "metadata": {},
     "output_type": "execute_result"
    },
    {
     "data": {
      "image/png": "[encoded data removed]",
      "text/plain": [
       "<Figure size 432x288 with 1 Axes>"
      ]
     },
     "metadata": {
      "needs_background": "light"
     },
     "output_type": "display_data"
    }
   ],
   "source": [
    "gdf.plot()"
   ]
  },
  {
   "cell_type": "code",
   "execution_count": 60,
   "id": "b6ab849f-8ab9-46c9-a845-5c42fac81c10",
   "metadata": {},
   "outputs": [],
   "source": [
    "gdf = gdf.to_crs(epsg=2178)"
   ]
  },
  {
   "cell_type": "code",
   "execution_count": 61,
   "id": "63c07505-4993-4075-9ea6-014eb54c577e",
   "metadata": {},
   "outputs": [],
   "source": [
    "gdf = spacial_data_analysis_ztm.sort_vehicle_number_time(gdf)"
   ]
  },
  {
   "cell_type": "code",
   "execution_count": 62,
   "id": "b85203f9-e923-4271-a52f-a45d919edb23",
   "metadata": {},
   "outputs": [
    {
     "name": "stdout",
     "output_type": "stream",
     "text": [
      "[]"
     ]
    }
   ],
   "source": [
    "gdf = spacial_data_analysis_ztm.calculate_distance_timedelta(gdf)"
   ]
  },
  {
   "cell_type": "code",
   "execution_count": 65,
   "id": "1355dbf6-5511-4cfb-bf8d-bd68a9c17639",
   "metadata": {},
   "outputs": [
    {
     "data": {
      "text/html": [
       "<div>\n",
       "<style scoped>\n",
       "    .dataframe tbody tr th:only-of-type {\n",
       "        vertical-align: middle;\n",
       "    }\n",
       "\n",
       "    .dataframe tbody tr th {\n",
       "        vertical-align: top;\n",
       "    }\n",
       "\n",
       "    .dataframe thead th {\n",
       "        text-align: right;\n",
       "    }\n",
       "</style>\n",
       "<table border=\"1\" class=\"dataframe\">\n",
       "  <thead>\n",
       "    <tr style=\"text-align: right;\">\n",
       "      <th></th>\n",
       "      <th>Lines</th>\n",
       "      <th>Lon</th>\n",
       "      <th>VehicleNumber</th>\n",
       "      <th>Time</th>\n",
       "      <th>Brigade</th>\n",
       "      <th>Lat</th>\n",
       "      <th>geometry</th>\n",
       "      <th>distance</th>\n",
       "    </tr>\n",
       "  </thead>\n",
       "  <tbody>\n",
       "    <tr>\n",
       "      <th>0</th>\n",
       "      <td>111</td>\n",
       "      <td>21.019626</td>\n",
       "      <td>1</td>\n",
       "      <td>2021-06-27 15:00:00</td>\n",
       "      <td>1</td>\n",
       "      <td>52.233127</td>\n",
       "      <td>POINT (7501340.779 5788837.952)</td>\n",
       "      <td>NaN</td>\n",
       "    </tr>\n",
       "    <tr>\n",
       "      <th>1</th>\n",
       "      <td>111</td>\n",
       "      <td>21.017303</td>\n",
       "      <td>1</td>\n",
       "      <td>2021-06-27 15:04:00</td>\n",
       "      <td>1</td>\n",
       "      <td>52.239185</td>\n",
       "      <td>POINT (7501181.914 5789511.870)</td>\n",
       "      <td>692.389887</td>\n",
       "    </tr>\n",
       "    <tr>\n",
       "      <th>2</th>\n",
       "      <td>117</td>\n",
       "      <td>21.050034</td>\n",
       "      <td>2</td>\n",
       "      <td>2021-06-27 15:00:00</td>\n",
       "      <td>2</td>\n",
       "      <td>52.237996</td>\n",
       "      <td>POINT (7503417.737 5789380.646)</td>\n",
       "      <td>NaN</td>\n",
       "    </tr>\n",
       "    <tr>\n",
       "      <th>3</th>\n",
       "      <td>117</td>\n",
       "      <td>21.022349</td>\n",
       "      <td>2</td>\n",
       "      <td>2021-06-27 15:09:00</td>\n",
       "      <td>2</td>\n",
       "      <td>52.232265</td>\n",
       "      <td>POINT (7501526.833 5788741.997)</td>\n",
       "      <td>NaN</td>\n",
       "    </tr>\n",
       "  </tbody>\n",
       "</table>\n",
       "</div>"
      ],
      "text/plain": [
       "  Lines        Lon  VehicleNumber                 Time  Brigade        Lat  \\\n",
       "0   111  21.019626              1  2021-06-27 15:00:00        1  52.233127   \n",
       "1   111  21.017303              1  2021-06-27 15:04:00        1  52.239185   \n",
       "2   117  21.050034              2  2021-06-27 15:00:00        2  52.237996   \n",
       "3   117  21.022349              2  2021-06-27 15:09:00        2  52.232265   \n",
       "\n",
       "                          geometry    distance  \n",
       "0  POINT (7501340.779 5788837.952)         NaN  \n",
       "1  POINT (7501181.914 5789511.870)  692.389887  \n",
       "2  POINT (7503417.737 5789380.646)         NaN  \n",
       "3  POINT (7501526.833 5788741.997)         NaN  "
      ]
     },
     "execution_count": 65,
     "metadata": {},
     "output_type": "execute_result"
    }
   ],
   "source": [
    "gdf"
   ]
  },
  {
   "cell_type": "code",
   "execution_count": 64,
   "id": "24972cce-6f2e-4aa1-a458-22a118b8a148",
   "metadata": {},
   "outputs": [],
   "source": [
    "gdf.loc[gdf['VehicleNumber'] == 1, 'distance'] = gdf[gdf['VehicleNumber'] == 1].distance(gdf[gdf['VehicleNumber'] == 1].shift())\n"
   ]
  },
  {
   "cell_type": "code",
   "execution_count": null,
   "id": "377c10b5-b198-4f7e-ba08-5393a1e7654c",
   "metadata": {},
   "outputs": [],
   "source": []
  },
  {
   "cell_type": "code",
   "execution_count": null,
   "id": "8cc7d5b5-d52a-4733-91d7-18517e2c7fbb",
   "metadata": {},
   "outputs": [],
   "source": []
  },
  {
   "cell_type": "code",
   "execution_count": null,
   "id": "afb355fb-84df-41f5-985e-db3152337715",
   "metadata": {},
   "outputs": [],
   "source": [
    "gdf.loc[gdf['VehicleNumber'] == vehicle_num, 'TimeDelta'] = \\\n",
    "            gdf.loc[gdf['VehicleNumber'] == vehicle_num, 'Time'] - \\\n",
    "            gdf.loc[gdf['VehicleNumber'] == vehicle_num, 'Time'].shift()"
   ]
  }
 ],
 "metadata": {
  "kernelspec": {
   "display_name": "nlp",
   "language": "python",
   "name": "nlp"
  },
  "language_info": {
   "codemirror_mode": {
    "name": "ipython",
    "version": 3
   },
   "file_extension": ".py",
   "mimetype": "text/x-python",
   "name": "python",
   "nbconvert_exporter": "python",
   "pygments_lexer": "ipython3",
   "version": "3.9.2"
  }
 },
 "nbformat": 4,
 "nbformat_minor": 5
}
