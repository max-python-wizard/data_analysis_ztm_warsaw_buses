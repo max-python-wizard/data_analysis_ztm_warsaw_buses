{
 "cells": [
  {
   "cell_type": "code",
   "execution_count": 1,
   "id": "8a05a042-57ae-43ae-84c5-b40a265b85f2",
   "metadata": {},
   "outputs": [],
   "source": [
    "from importlib import metadata"
   ]
  },
  {
   "cell_type": "code",
   "execution_count": 3,
   "id": "8fe1dcbc-4ba3-44b4-a29e-2f60119bdd13",
   "metadata": {},
   "outputs": [
    {
     "name": "stdout",
     "output_type": "stream",
     "text": [
      "Processing ./spacial_data_analysis_ztm\n",
      "\u001b[33m  DEPRECATION: A future pip version will change local packages to be built in-place without first copying to a temporary directory. We recommend you use --use-feature=in-tree-build to test your packages with this new behavior before it becomes the default.\n",
      "   pip 21.3 will remove support for this functionality. You can find discussion regarding this at https://github.com/pypa/pip/issues/7555.\u001b[0m\n",
      "Building wheels for collected packages: sda\n",
      "  Building wheel for sda (setup.py) ... \u001b[?25ldone\n",
      "\u001b[?25h  Created wheel for sda: filename=sda-0.7-py3-none-any.whl size=974 sha256=e671f6123cbc3c7a16570ec3e89b231c3931c18581ee42f883c7d53c1f2c3dee\n",
      "  Stored in directory: /tmp/pip-ephem-wheel-cache-zkf0tui_/wheels/44/a8/2d/1f34e57b9ec3e51c2a8a7002225360b392853a38f072a491a9\n",
      "Successfully built sda\n",
      "Installing collected packages: sda\n",
      "  Attempting uninstall: sda\n",
      "    Found existing installation: sda 0.7\n",
      "    Uninstalling sda-0.7:\n",
      "      Successfully uninstalled sda-0.7\n",
      "Successfully installed sda-0.7\n",
      "Note: you may need to restart the kernel to use updated packages.\n"
     ]
    }
   ],
   "source": [
    "pip install ./spacial_data_analysis_ztm"
   ]
  },
  {
   "cell_type": "code",
   "execution_count": 5,
   "id": "b9158b9e-1662-4046-aa8f-ce9f84c3dda0",
   "metadata": {},
   "outputs": [],
   "source": [
    "import spacial_data_analysis_ztm"
   ]
  },
  {
   "cell_type": "code",
   "execution_count": 5,
   "id": "835838c6-7016-45b9-91d6-37c578eeee8a",
   "metadata": {},
   "outputs": [
    {
     "name": "stdout",
     "output_type": "stream",
     "text": [
      "Defaulting to user installation because normal site-packages is not writeable\n",
      "Processing ./package1\n",
      "Using legacy 'setup.py install' for simple-package-1, since package 'wheel' is not installed.\n",
      "Installing collected packages: simple-package-1\n",
      "    Running setup.py install for simple-package-1 ... \u001b[?25ldone\n",
      "\u001b[?25hSuccessfully installed simple-package-1-0.1\n"
     ]
    }
   ],
   "source": [
    "!pip install ./package1"
   ]
  },
  {
   "cell_type": "code",
   "execution_count": 9,
   "id": "a2f8bd25-0d38-4e8d-8758-b17a7cd5c25b",
   "metadata": {},
   "outputs": [
    {
     "data": {
      "text/plain": [
       "'/home/byun/extra/miniconda/envs/nlp/lib/python3.9/site-packages/spacial_data_analysis_ztm.py'"
      ]
     },
     "execution_count": 9,
     "metadata": {},
     "output_type": "execute_result"
    }
   ],
   "source": [
    "spacial_data_analysis_ztm.__file__"
   ]
  },
  {
   "cell_type": "code",
   "execution_count": 6,
   "id": "2acb7d0c-3ffa-48be-b585-1f1788812144",
   "metadata": {},
   "outputs": [
    {
     "name": "stdout",
     "output_type": "stream",
     "text": [
      "This is dummy function form simple package 1\n"
     ]
    },
    {
     "data": {
      "text/plain": [
       "'/home/byun/.local/lib/python3.9/site-packages/simple_package1.py'"
      ]
     },
     "execution_count": 6,
     "metadata": {},
     "output_type": "execute_result"
    }
   ],
   "source": [
    "import simple_package1\n",
    "simple_package1.function()\n",
    "simple_package1.__file__"
   ]
  },
  {
   "cell_type": "code",
   "execution_count": 22,
   "id": "29739b98-6335-42b5-a3f9-55f83bf0dcf7",
   "metadata": {},
   "outputs": [
    {
     "data": {
      "text/plain": [
       "'Maksymilian Jackl'"
      ]
     },
     "execution_count": 22,
     "metadata": {},
     "output_type": "execute_result"
    }
   ],
   "source": [
    "from importlib import metadata\n",
    "\n",
    "# for python bellow 3.8 \n",
    "# !pip install importlib_metadata\n",
    "# import importlib_metadata as metadata \n",
    "\n",
    "metadata.metadata('sda')[\"author\"]"
   ]
  },
  {
   "cell_type": "code",
   "execution_count": null,
   "id": "689ea4cb-5f7a-4200-b3dc-6b5164ae3314",
   "metadata": {},
   "outputs": [],
   "source": []
  }
 ],
 "metadata": {
  "kernelspec": {
   "display_name": "nlp",
   "language": "python",
   "name": "nlp"
  },
  "language_info": {
   "codemirror_mode": {
    "name": "ipython",
    "version": 3
   },
   "file_extension": ".py",
   "mimetype": "text/x-python",
   "name": "python",
   "nbconvert_exporter": "python",
   "pygments_lexer": "ipython3",
   "version": "3.9.2"
  }
 },
 "nbformat": 4,
 "nbformat_minor": 5
}
