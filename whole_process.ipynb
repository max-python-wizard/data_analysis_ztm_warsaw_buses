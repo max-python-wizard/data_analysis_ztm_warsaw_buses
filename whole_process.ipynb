{
 "cells": [
  {
   "cell_type": "markdown",
   "id": "cd979563-9870-4283-9d18-6477399d1945",
   "metadata": {},
   "source": [
    "# Analiza danych przejazdów autobusów ZTM"
   ]
  },
  {
   "cell_type": "markdown",
   "id": "8292c8d4-2763-416e-9679-c1d503591c58",
   "metadata": {},
   "source": [
    "Importowanie bibliotek"
   ]
  },
  {
   "cell_type": "code",
   "execution_count": 1,
   "id": "858ea378-94fc-4592-a5cc-0cb38676d938",
   "metadata": {},
   "outputs": [],
   "source": [
    "import pandas as pd\n",
    "import geopandas as gpd\n",
    "import matplotlib.pyplot as plt"
   ]
  },
  {
   "cell_type": "code",
   "execution_count": 2,
   "id": "2e28d7b5-dd41-40a1-86ac-2cf457390da9",
   "metadata": {},
   "outputs": [],
   "source": [
    "plt.rcParams['figure.figsize'] = [16, 8]"
   ]
  },
  {
   "cell_type": "markdown",
   "id": "d98c0ad9-e5d5-4c9a-a4df-ed1808706555",
   "metadata": {},
   "source": [
    "### Instalowanie i importowanie własnej biblioteki"
   ]
  },
  {
   "cell_type": "code",
   "execution_count": 3,
   "id": "faaf2396-140d-44d8-8fdc-12b023b7a97f",
   "metadata": {},
   "outputs": [
    {
     "name": "stdout",
     "output_type": "stream",
     "text": [
      "Processing ./spacial_data_analysis_ztm\n",
      "\u001b[33m  DEPRECATION: A future pip version will change local packages to be built in-place without first copying to a temporary directory. We recommend you use --use-feature=in-tree-build to test your packages with this new behavior before it becomes the default.\n",
      "   pip 21.3 will remove support for this functionality. You can find discussion regarding this at https://github.com/pypa/pip/issues/7555.\u001b[0m\n",
      "Building wheels for collected packages: sda\n",
      "  Building wheel for sda (setup.py) ... \u001b[?25ldone\n",
      "\u001b[?25h  Created wheel for sda: filename=sda-0.7-py3-none-any.whl size=974 sha256=abb31f035429b71d2373085a2a022a72725b78980b6c5f5d1b9fcfd6f6826f75\n",
      "  Stored in directory: /tmp/pip-ephem-wheel-cache-3632a0k7/wheels/44/a8/2d/1f34e57b9ec3e51c2a8a7002225360b392853a38f072a491a9\n",
      "Successfully built sda\n",
      "Installing collected packages: sda\n",
      "  Attempting uninstall: sda\n",
      "    Found existing installation: sda 0.7\n",
      "    Uninstalling sda-0.7:\n",
      "      Successfully uninstalled sda-0.7\n",
      "Successfully installed sda-0.7\n",
      "Note: you may need to restart the kernel to use updated packages.\n"
     ]
    }
   ],
   "source": [
    "pip install ./spacial_data_analysis_ztm"
   ]
  },
  {
   "cell_type": "code",
   "execution_count": 4,
   "id": "08a48653-cbc0-4b35-b2a0-ee1333d5bc25",
   "metadata": {},
   "outputs": [],
   "source": [
    "import spacial_data_analysis_ztm"
   ]
  },
  {
   "cell_type": "code",
   "execution_count": 5,
   "id": "6694feca-0815-4cdb-b92e-1e3a203fd86e",
   "metadata": {},
   "outputs": [],
   "source": [
    "#spacial_data_analysis_ztm.__file__"
   ]
  },
  {
   "cell_type": "markdown",
   "id": "64dc69b3-afe5-4dbb-85b1-aba729ee8c89",
   "metadata": {},
   "source": [
    "Ładowanie wcześniej ściągniętych danych zapisanych ze środka nocy 28.06.2021\n",
    "Funkcja ta również usuwa duplikaty i konwertuje czas zapisany w ciągu znaków na pandas datetime"
   ]
  },
  {
   "cell_type": "code",
   "execution_count": 6,
   "id": "ff252c36-5052-47ec-8994-f267961b2ff7",
   "metadata": {},
   "outputs": [
    {
     "name": "stdout",
     "output_type": "stream",
     "text": [
      "data/28.06.2021_night_minute\n",
      "FInished importing files\n"
     ]
    }
   ],
   "source": [
    "df_night = spacial_data_analysis_ztm.load_files_directory_into_df('data/28.06.2021_night_minute')"
   ]
  },
  {
   "cell_type": "markdown",
   "id": "db31c288-acdd-46b8-b945-9fece0b9e6d1",
   "metadata": {},
   "source": [
    "Konwertowanie Lon i Lat (długość i szerokość geograficzna) z DataFrame na typ POINT w GeoDataFrame (rozbudowane DataFrame z biblioteki Geopandas)."
   ]
  },
  {
   "cell_type": "code",
   "execution_count": 7,
   "id": "53174a32-88ad-448c-b616-4f34f407403f",
   "metadata": {},
   "outputs": [],
   "source": [
    "# oryginalny CRS ze strony ztm crs='EPSG:4326'\n",
    "ztm_crs = 'EPSG:4326'"
   ]
  },
  {
   "cell_type": "code",
   "execution_count": 8,
   "id": "144919b9-a27c-4463-81d9-b08ffd545ee7",
   "metadata": {},
   "outputs": [],
   "source": [
    "gdf_night = spacial_data_analysis_ztm.covert_long_lat_into_geodataframe(df_night, ztm_crs)"
   ]
  },
  {
   "cell_type": "markdown",
   "id": "d1c4656a-1823-4fd6-aa2a-3f7de0020da8",
   "metadata": {},
   "source": [
    "Sprawdzanie czy dane zostały załadowanie"
   ]
  },
  {
   "cell_type": "code",
   "execution_count": 9,
   "id": "104f66d2-5e98-4b67-8fc0-bd90f6405acb",
   "metadata": {},
   "outputs": [
    {
     "data": {
      "text/html": [
       "<div>\n",
       "<style scoped>\n",
       "    .dataframe tbody tr th:only-of-type {\n",
       "        vertical-align: middle;\n",
       "    }\n",
       "\n",
       "    .dataframe tbody tr th {\n",
       "        vertical-align: top;\n",
       "    }\n",
       "\n",
       "    .dataframe thead th {\n",
       "        text-align: right;\n",
       "    }\n",
       "</style>\n",
       "<table border=\"1\" class=\"dataframe\">\n",
       "  <thead>\n",
       "    <tr style=\"text-align: right;\">\n",
       "      <th></th>\n",
       "      <th>Lines</th>\n",
       "      <th>Lon</th>\n",
       "      <th>VehicleNumber</th>\n",
       "      <th>Time</th>\n",
       "      <th>Lat</th>\n",
       "      <th>Brigade</th>\n",
       "      <th>Unnamed: 0</th>\n",
       "      <th>geometry</th>\n",
       "    </tr>\n",
       "  </thead>\n",
       "  <tbody>\n",
       "    <tr>\n",
       "      <th>0</th>\n",
       "      <td>213</td>\n",
       "      <td>21.115615</td>\n",
       "      <td>1000</td>\n",
       "      <td>2021-06-27 23:51:33</td>\n",
       "      <td>52.234600</td>\n",
       "      <td>2</td>\n",
       "      <td>0.0</td>\n",
       "      <td>POINT (21.11562 52.23460)</td>\n",
       "    </tr>\n",
       "    <tr>\n",
       "      <th>1</th>\n",
       "      <td>213</td>\n",
       "      <td>21.115168</td>\n",
       "      <td>1001</td>\n",
       "      <td>2021-06-28 00:30:59</td>\n",
       "      <td>52.234600</td>\n",
       "      <td>3</td>\n",
       "      <td>1.0</td>\n",
       "      <td>POINT (21.11517 52.23460)</td>\n",
       "    </tr>\n",
       "    <tr>\n",
       "      <th>2</th>\n",
       "      <td>213</td>\n",
       "      <td>21.114898</td>\n",
       "      <td>1003</td>\n",
       "      <td>2021-06-27 00:02:20</td>\n",
       "      <td>52.234726</td>\n",
       "      <td>1</td>\n",
       "      <td>2.0</td>\n",
       "      <td>POINT (21.11490 52.23473)</td>\n",
       "    </tr>\n",
       "    <tr>\n",
       "      <th>3</th>\n",
       "      <td>213</td>\n",
       "      <td>21.115269</td>\n",
       "      <td>1005</td>\n",
       "      <td>2021-06-27 23:19:40</td>\n",
       "      <td>52.234594</td>\n",
       "      <td>4</td>\n",
       "      <td>3.0</td>\n",
       "      <td>POINT (21.11527 52.23459)</td>\n",
       "    </tr>\n",
       "    <tr>\n",
       "      <th>4</th>\n",
       "      <td>130</td>\n",
       "      <td>21.115590</td>\n",
       "      <td>1008</td>\n",
       "      <td>2021-06-25 20:19:05</td>\n",
       "      <td>52.234613</td>\n",
       "      <td>04</td>\n",
       "      <td>4.0</td>\n",
       "      <td>POINT (21.11559 52.23461)</td>\n",
       "    </tr>\n",
       "  </tbody>\n",
       "</table>\n",
       "</div>"
      ],
      "text/plain": [
       "  Lines        Lon VehicleNumber                Time        Lat Brigade  \\\n",
       "0   213  21.115615          1000 2021-06-27 23:51:33  52.234600       2   \n",
       "1   213  21.115168          1001 2021-06-28 00:30:59  52.234600       3   \n",
       "2   213  21.114898          1003 2021-06-27 00:02:20  52.234726       1   \n",
       "3   213  21.115269          1005 2021-06-27 23:19:40  52.234594       4   \n",
       "4   130  21.115590          1008 2021-06-25 20:19:05  52.234613      04   \n",
       "\n",
       "   Unnamed: 0                   geometry  \n",
       "0         0.0  POINT (21.11562 52.23460)  \n",
       "1         1.0  POINT (21.11517 52.23460)  \n",
       "2         2.0  POINT (21.11490 52.23473)  \n",
       "3         3.0  POINT (21.11527 52.23459)  \n",
       "4         4.0  POINT (21.11559 52.23461)  "
      ]
     },
     "execution_count": 9,
     "metadata": {},
     "output_type": "execute_result"
    }
   ],
   "source": [
    "gdf_night.head()"
   ]
  },
  {
   "cell_type": "markdown",
   "id": "14cb9603-3e6b-471d-966a-c985523932b9",
   "metadata": {},
   "source": [
    "Konwertowanie zapisu przestrzennego z CRS na projected CRS (potrzebne do obliczania odległości)"
   ]
  },
  {
   "cell_type": "code",
   "execution_count": 10,
   "id": "4bd60256-677f-486f-be5e-ab3f4d6fd4b2",
   "metadata": {},
   "outputs": [],
   "source": [
    "gdf_night = gdf_night.to_crs(epsg=2178)"
   ]
  },
  {
   "cell_type": "code",
   "execution_count": 11,
   "id": "dff6c88c-5fd1-43af-aba5-05262d38c8ef",
   "metadata": {},
   "outputs": [
    {
     "data": {
      "text/plain": [
       "<Projected CRS: EPSG:2178>\n",
       "Name: ETRS89 / Poland CS2000 zone 7\n",
       "Axis Info [cartesian]:\n",
       "- x[north]: Northing (metre)\n",
       "- y[east]: Easting (metre)\n",
       "Area of Use:\n",
       "- name: Poland - onshore and offshore between 19°30'E and 22°30'E.\n",
       "- bounds: (19.5, 49.09, 22.5, 54.55)\n",
       "Coordinate Operation:\n",
       "- name: Poland CS2000 zone 7\n",
       "- method: Transverse Mercator\n",
       "Datum: European Terrestrial Reference System 1989 ensemble\n",
       "- Ellipsoid: GRS 1980\n",
       "- Prime Meridian: Greenwich"
      ]
     },
     "execution_count": 11,
     "metadata": {},
     "output_type": "execute_result"
    }
   ],
   "source": [
    "gdf_night.crs"
   ]
  },
  {
   "cell_type": "markdown",
   "id": "4003c864-ed01-4947-b48e-cdf0534c10bb",
   "metadata": {},
   "source": [
    "\n",
    "Sortowanie GeoDataFrame ze względu na kolumny VehicleNumber i Time"
   ]
  },
  {
   "cell_type": "code",
   "execution_count": 12,
   "id": "721cf5aa-ef1c-4008-bb9f-dbff29496b27",
   "metadata": {},
   "outputs": [],
   "source": [
    "gdf_night = spacial_data_analysis_ztm.sort_vehicle_number_time(gdf_night)"
   ]
  },
  {
   "cell_type": "markdown",
   "id": "c83e5ec0-7235-4698-aa08-e05b4a498491",
   "metadata": {},
   "source": [
    "Usuwanie duplikatów bazując na bazując na VehicleNumber i Time"
   ]
  },
  {
   "cell_type": "code",
   "execution_count": 13,
   "id": "6c57526a-201a-4872-bcb7-cf3a6238b0cf",
   "metadata": {
    "lines_to_next_cell": 2
   },
   "outputs": [],
   "source": [
    "gdf_night = spacial_data_analysis_ztm.remove_duplicates(gdf_night)"
   ]
  },
  {
   "cell_type": "markdown",
   "id": "d3937e88-beb6-4175-8d79-74fbf47917c2",
   "metadata": {},
   "source": [
    "Usuwanie tych pojazdów (vehlcle), które występują tylko jeden raz (nie da na nich nic policzyć; często jest to jakaś pozostałość, która zostaje w danych)"
   ]
  },
  {
   "cell_type": "code",
   "execution_count": 14,
   "id": "fe283737-93e2-41e9-b84b-47b38a7906d6",
   "metadata": {},
   "outputs": [],
   "source": [
    "gdf_night = spacial_data_analysis_ztm.remove_vehicles_one_occurrence(gdf_night)"
   ]
  },
  {
   "cell_type": "markdown",
   "id": "3cd4971a-9857-4b41-a77b-2745e0e1325c",
   "metadata": {},
   "source": [
    "Kalkulowanie dystansu pomiędzy punktami (POINT) w kolumnie geometry, oraz obliczanie różnic czasu na podstawie kolumny Time (TIMEDELTAS)\n",
    "\n",
    "Uwaga. Może zając kokoło minuty, im większe dane tym dłużej."
   ]
  },
  {
   "cell_type": "code",
   "execution_count": 15,
   "id": "d2f898d6-384f-47f9-ac6f-113b1605de13",
   "metadata": {
    "lines_to_end_of_cell_marker": 2
   },
   "outputs": [
    {
     "name": "stdout",
     "output_type": "stream",
     "text": [
      "[......................................................]"
     ]
    }
   ],
   "source": [
    "gdf_night = spacial_data_analysis_ztm.calculate_distance_timedelta(gdf_night)"
   ]
  },
  {
   "cell_type": "code",
   "execution_count": 16,
   "id": "af48bfb6-b4b2-47e0-be1d-612e23b76559",
   "metadata": {},
   "outputs": [
    {
     "data": {
      "text/plain": [
       "8193"
      ]
     },
     "execution_count": 16,
     "metadata": {},
     "output_type": "execute_result"
    }
   ],
   "source": [
    "len(gdf_night)"
   ]
  },
  {
   "cell_type": "markdown",
   "id": "da35be85-edfc-4c08-bbf7-8da50a458f5f",
   "metadata": {},
   "source": [
    "Sprawdzanie pierwszych kilku wierszy"
   ]
  },
  {
   "cell_type": "code",
   "execution_count": 17,
   "id": "4543c90a-e7bf-4ed0-8a90-332d6cde1e94",
   "metadata": {},
   "outputs": [
    {
     "data": {
      "text/html": [
       "<div>\n",
       "<style scoped>\n",
       "    .dataframe tbody tr th:only-of-type {\n",
       "        vertical-align: middle;\n",
       "    }\n",
       "\n",
       "    .dataframe tbody tr th {\n",
       "        vertical-align: top;\n",
       "    }\n",
       "\n",
       "    .dataframe thead th {\n",
       "        text-align: right;\n",
       "    }\n",
       "</style>\n",
       "<table border=\"1\" class=\"dataframe\">\n",
       "  <thead>\n",
       "    <tr style=\"text-align: right;\">\n",
       "      <th></th>\n",
       "      <th>Lines</th>\n",
       "      <th>Lon</th>\n",
       "      <th>VehicleNumber</th>\n",
       "      <th>Time</th>\n",
       "      <th>Lat</th>\n",
       "      <th>Brigade</th>\n",
       "      <th>Unnamed: 0</th>\n",
       "      <th>geometry</th>\n",
       "      <th>distance</th>\n",
       "      <th>TimeDelta</th>\n",
       "    </tr>\n",
       "  </thead>\n",
       "  <tbody>\n",
       "    <tr>\n",
       "      <th>326</th>\n",
       "      <td>150</td>\n",
       "      <td>20.864546</td>\n",
       "      <td>776</td>\n",
       "      <td>2021-06-28 00:44:21</td>\n",
       "      <td>52.360001</td>\n",
       "      <td></td>\n",
       "      <td>326.0</td>\n",
       "      <td>POINT (7490772.809 5802962.913)</td>\n",
       "      <td>NaN</td>\n",
       "      <td>NaT</td>\n",
       "    </tr>\n",
       "    <tr>\n",
       "      <th>829</th>\n",
       "      <td>150</td>\n",
       "      <td>20.864511</td>\n",
       "      <td>776</td>\n",
       "      <td>2021-06-28 00:45:18</td>\n",
       "      <td>52.359990</td>\n",
       "      <td></td>\n",
       "      <td>326.0</td>\n",
       "      <td>POINT (7490770.395 5802961.683)</td>\n",
       "      <td>2.709341</td>\n",
       "      <td>0 days 00:00:57</td>\n",
       "    </tr>\n",
       "    <tr>\n",
       "      <th>1332</th>\n",
       "      <td>150</td>\n",
       "      <td>20.864550</td>\n",
       "      <td>776</td>\n",
       "      <td>2021-06-28 00:46:13</td>\n",
       "      <td>52.360017</td>\n",
       "      <td></td>\n",
       "      <td>326.0</td>\n",
       "      <td>POINT (7490773.091 5802964.738)</td>\n",
       "      <td>4.074632</td>\n",
       "      <td>0 days 00:00:55</td>\n",
       "    </tr>\n",
       "    <tr>\n",
       "      <th>1833</th>\n",
       "      <td>150</td>\n",
       "      <td>20.864516</td>\n",
       "      <td>776</td>\n",
       "      <td>2021-06-28 00:47:17</td>\n",
       "      <td>52.359986</td>\n",
       "      <td></td>\n",
       "      <td>325.0</td>\n",
       "      <td>POINT (7490770.755 5802961.270)</td>\n",
       "      <td>4.180773</td>\n",
       "      <td>0 days 00:01:04</td>\n",
       "    </tr>\n",
       "    <tr>\n",
       "      <th>2335</th>\n",
       "      <td>150</td>\n",
       "      <td>20.864538</td>\n",
       "      <td>776</td>\n",
       "      <td>2021-06-28 00:48:15</td>\n",
       "      <td>52.359985</td>\n",
       "      <td></td>\n",
       "      <td>325.0</td>\n",
       "      <td>POINT (7490772.260 5802961.134)</td>\n",
       "      <td>1.511374</td>\n",
       "      <td>0 days 00:00:58</td>\n",
       "    </tr>\n",
       "  </tbody>\n",
       "</table>\n",
       "</div>"
      ],
      "text/plain": [
       "     Lines        Lon VehicleNumber                Time        Lat Brigade  \\\n",
       "326    150  20.864546           776 2021-06-28 00:44:21  52.360001           \n",
       "829    150  20.864511           776 2021-06-28 00:45:18  52.359990           \n",
       "1332   150  20.864550           776 2021-06-28 00:46:13  52.360017           \n",
       "1833   150  20.864516           776 2021-06-28 00:47:17  52.359986           \n",
       "2335   150  20.864538           776 2021-06-28 00:48:15  52.359985           \n",
       "\n",
       "      Unnamed: 0                         geometry  distance       TimeDelta  \n",
       "326        326.0  POINT (7490772.809 5802962.913)       NaN             NaT  \n",
       "829        326.0  POINT (7490770.395 5802961.683)  2.709341 0 days 00:00:57  \n",
       "1332       326.0  POINT (7490773.091 5802964.738)  4.074632 0 days 00:00:55  \n",
       "1833       325.0  POINT (7490770.755 5802961.270)  4.180773 0 days 00:01:04  \n",
       "2335       325.0  POINT (7490772.260 5802961.134)  1.511374 0 days 00:00:58  "
      ]
     },
     "execution_count": 17,
     "metadata": {},
     "output_type": "execute_result"
    }
   ],
   "source": [
    "gdf_night.head()"
   ]
  },
  {
   "cell_type": "markdown",
   "id": "f502cb04-4e0d-444f-8487-7509a5dbf5da",
   "metadata": {},
   "source": [
    "Kalkulowanie metrów na sekundę - dzielenie metrów na różnicę w czasie (timedeltas)"
   ]
  },
  {
   "cell_type": "code",
   "execution_count": 18,
   "id": "99fe00f1-0be7-4a79-8044-0474a606a18f",
   "metadata": {},
   "outputs": [],
   "source": [
    "gdf_night = spacial_data_analysis_ztm.calculate_mpers(gdf_night)"
   ]
  },
  {
   "cell_type": "code",
   "execution_count": 19,
   "id": "5ed293f3-245d-4b9e-af44-a7cf669aff62",
   "metadata": {},
   "outputs": [
    {
     "data": {
      "text/html": [
       "<div>\n",
       "<style scoped>\n",
       "    .dataframe tbody tr th:only-of-type {\n",
       "        vertical-align: middle;\n",
       "    }\n",
       "\n",
       "    .dataframe tbody tr th {\n",
       "        vertical-align: top;\n",
       "    }\n",
       "\n",
       "    .dataframe thead th {\n",
       "        text-align: right;\n",
       "    }\n",
       "</style>\n",
       "<table border=\"1\" class=\"dataframe\">\n",
       "  <thead>\n",
       "    <tr style=\"text-align: right;\">\n",
       "      <th></th>\n",
       "      <th>Lines</th>\n",
       "      <th>Lon</th>\n",
       "      <th>VehicleNumber</th>\n",
       "      <th>Time</th>\n",
       "      <th>Lat</th>\n",
       "      <th>Brigade</th>\n",
       "      <th>Unnamed: 0</th>\n",
       "      <th>geometry</th>\n",
       "      <th>distance</th>\n",
       "      <th>TimeDelta</th>\n",
       "      <th>seconds</th>\n",
       "      <th>speed_m/s</th>\n",
       "      <th>speed_km_h</th>\n",
       "    </tr>\n",
       "  </thead>\n",
       "  <tbody>\n",
       "    <tr>\n",
       "      <th>326</th>\n",
       "      <td>150</td>\n",
       "      <td>20.864546</td>\n",
       "      <td>776</td>\n",
       "      <td>2021-06-28 00:44:21</td>\n",
       "      <td>52.360001</td>\n",
       "      <td></td>\n",
       "      <td>326.0</td>\n",
       "      <td>POINT (7490772.809 5802962.913)</td>\n",
       "      <td>NaN</td>\n",
       "      <td>NaT</td>\n",
       "      <td>NaN</td>\n",
       "      <td>NaN</td>\n",
       "      <td>NaN</td>\n",
       "    </tr>\n",
       "    <tr>\n",
       "      <th>829</th>\n",
       "      <td>150</td>\n",
       "      <td>20.864511</td>\n",
       "      <td>776</td>\n",
       "      <td>2021-06-28 00:45:18</td>\n",
       "      <td>52.359990</td>\n",
       "      <td></td>\n",
       "      <td>326.0</td>\n",
       "      <td>POINT (7490770.395 5802961.683)</td>\n",
       "      <td>2.709341</td>\n",
       "      <td>0 days 00:00:57</td>\n",
       "      <td>57.0</td>\n",
       "      <td>0.047532</td>\n",
       "      <td>0.171116</td>\n",
       "    </tr>\n",
       "    <tr>\n",
       "      <th>1332</th>\n",
       "      <td>150</td>\n",
       "      <td>20.864550</td>\n",
       "      <td>776</td>\n",
       "      <td>2021-06-28 00:46:13</td>\n",
       "      <td>52.360017</td>\n",
       "      <td></td>\n",
       "      <td>326.0</td>\n",
       "      <td>POINT (7490773.091 5802964.738)</td>\n",
       "      <td>4.074632</td>\n",
       "      <td>0 days 00:00:55</td>\n",
       "      <td>55.0</td>\n",
       "      <td>0.074084</td>\n",
       "      <td>0.266703</td>\n",
       "    </tr>\n",
       "    <tr>\n",
       "      <th>1833</th>\n",
       "      <td>150</td>\n",
       "      <td>20.864516</td>\n",
       "      <td>776</td>\n",
       "      <td>2021-06-28 00:47:17</td>\n",
       "      <td>52.359986</td>\n",
       "      <td></td>\n",
       "      <td>325.0</td>\n",
       "      <td>POINT (7490770.755 5802961.270)</td>\n",
       "      <td>4.180773</td>\n",
       "      <td>0 days 00:01:04</td>\n",
       "      <td>64.0</td>\n",
       "      <td>0.065325</td>\n",
       "      <td>0.235168</td>\n",
       "    </tr>\n",
       "    <tr>\n",
       "      <th>2335</th>\n",
       "      <td>150</td>\n",
       "      <td>20.864538</td>\n",
       "      <td>776</td>\n",
       "      <td>2021-06-28 00:48:15</td>\n",
       "      <td>52.359985</td>\n",
       "      <td></td>\n",
       "      <td>325.0</td>\n",
       "      <td>POINT (7490772.260 5802961.134)</td>\n",
       "      <td>1.511374</td>\n",
       "      <td>0 days 00:00:58</td>\n",
       "      <td>58.0</td>\n",
       "      <td>0.026058</td>\n",
       "      <td>0.093809</td>\n",
       "    </tr>\n",
       "  </tbody>\n",
       "</table>\n",
       "</div>"
      ],
      "text/plain": [
       "     Lines        Lon VehicleNumber                Time        Lat Brigade  \\\n",
       "326    150  20.864546           776 2021-06-28 00:44:21  52.360001           \n",
       "829    150  20.864511           776 2021-06-28 00:45:18  52.359990           \n",
       "1332   150  20.864550           776 2021-06-28 00:46:13  52.360017           \n",
       "1833   150  20.864516           776 2021-06-28 00:47:17  52.359986           \n",
       "2335   150  20.864538           776 2021-06-28 00:48:15  52.359985           \n",
       "\n",
       "      Unnamed: 0                         geometry  distance       TimeDelta  \\\n",
       "326        326.0  POINT (7490772.809 5802962.913)       NaN             NaT   \n",
       "829        326.0  POINT (7490770.395 5802961.683)  2.709341 0 days 00:00:57   \n",
       "1332       326.0  POINT (7490773.091 5802964.738)  4.074632 0 days 00:00:55   \n",
       "1833       325.0  POINT (7490770.755 5802961.270)  4.180773 0 days 00:01:04   \n",
       "2335       325.0  POINT (7490772.260 5802961.134)  1.511374 0 days 00:00:58   \n",
       "\n",
       "      seconds  speed_m/s  speed_km_h  \n",
       "326       NaN        NaN         NaN  \n",
       "829      57.0   0.047532    0.171116  \n",
       "1332     55.0   0.074084    0.266703  \n",
       "1833     64.0   0.065325    0.235168  \n",
       "2335     58.0   0.026058    0.093809  "
      ]
     },
     "execution_count": 19,
     "metadata": {},
     "output_type": "execute_result"
    }
   ],
   "source": [
    "gdf_night.head()"
   ]
  },
  {
   "cell_type": "code",
   "execution_count": null,
   "id": "5b4ab00a-d663-43df-b3e7-e4c68f7a8e8f",
   "metadata": {},
   "outputs": [],
   "source": []
  },
  {
   "cell_type": "markdown",
   "id": "3f15260d-0997-421e-aa5e-7cc96dad144a",
   "metadata": {},
   "source": [
    "## Dane z dnia\n",
    "Ładowanie wcześniej ściągniętych danych zapisanych z dnia 28.06.2021.\n",
    "Powtarzanie całego powyższego procesu dla danych z dnia (w przeciwieństwie do nocy)."
   ]
  },
  {
   "cell_type": "code",
   "execution_count": 20,
   "id": "ba62c52a-98fb-4886-aadd-ab49b03351e8",
   "metadata": {},
   "outputs": [
    {
     "name": "stdout",
     "output_type": "stream",
     "text": [
      "data/28.06.2021_day_minute\n",
      "FInished importing files\n"
     ]
    }
   ],
   "source": [
    "df_day = spacial_data_analysis_ztm.load_files_directory_into_df('data/28.06.2021_day_minute')"
   ]
  },
  {
   "cell_type": "markdown",
   "id": "55d15c22-6d5a-4925-822f-16c84489abb5",
   "metadata": {},
   "source": [
    "Konwertowanie Lon i Lat (długość i szerokość geograficzna) z DataFrame na typ POINT w GeoDataFrame (rozbudowane DataFrame z biblioteki Geopandas)."
   ]
  },
  {
   "cell_type": "code",
   "execution_count": 21,
   "id": "d1d0f6b8-0496-42e5-850e-c8203e68f7f6",
   "metadata": {},
   "outputs": [],
   "source": [
    "gdf_day = spacial_data_analysis_ztm.covert_long_lat_into_geodataframe(df_day, ztm_crs)"
   ]
  },
  {
   "cell_type": "markdown",
   "id": "02169b17-630a-4571-bdb8-c2676234812b",
   "metadata": {},
   "source": [
    "Sprawdzanie czy dane zostały załadowanie"
   ]
  },
  {
   "cell_type": "code",
   "execution_count": 22,
   "id": "6cdb167c-0782-40cf-8d48-4fc166174681",
   "metadata": {},
   "outputs": [
    {
     "data": {
      "text/html": [
       "<div>\n",
       "<style scoped>\n",
       "    .dataframe tbody tr th:only-of-type {\n",
       "        vertical-align: middle;\n",
       "    }\n",
       "\n",
       "    .dataframe tbody tr th {\n",
       "        vertical-align: top;\n",
       "    }\n",
       "\n",
       "    .dataframe thead th {\n",
       "        text-align: right;\n",
       "    }\n",
       "</style>\n",
       "<table border=\"1\" class=\"dataframe\">\n",
       "  <thead>\n",
       "    <tr style=\"text-align: right;\">\n",
       "      <th></th>\n",
       "      <th>Lines</th>\n",
       "      <th>Lon</th>\n",
       "      <th>VehicleNumber</th>\n",
       "      <th>Time</th>\n",
       "      <th>Lat</th>\n",
       "      <th>Brigade</th>\n",
       "      <th>Unnamed: 0</th>\n",
       "      <th>geometry</th>\n",
       "    </tr>\n",
       "  </thead>\n",
       "  <tbody>\n",
       "    <tr>\n",
       "      <th>0</th>\n",
       "      <td>213</td>\n",
       "      <td>21.203191</td>\n",
       "      <td>1001</td>\n",
       "      <td>2021-06-28 16:07:22</td>\n",
       "      <td>52.159396</td>\n",
       "      <td>1</td>\n",
       "      <td>0.0</td>\n",
       "      <td>POINT (21.20319 52.15940)</td>\n",
       "    </tr>\n",
       "    <tr>\n",
       "      <th>1</th>\n",
       "      <td>213</td>\n",
       "      <td>21.212667</td>\n",
       "      <td>1003</td>\n",
       "      <td>2021-06-28 16:07:18</td>\n",
       "      <td>52.161133</td>\n",
       "      <td>05</td>\n",
       "      <td>1.0</td>\n",
       "      <td>POINT (21.21267 52.16113)</td>\n",
       "    </tr>\n",
       "    <tr>\n",
       "      <th>2</th>\n",
       "      <td>213</td>\n",
       "      <td>21.102286</td>\n",
       "      <td>1004</td>\n",
       "      <td>2021-06-28 16:07:15</td>\n",
       "      <td>52.222845</td>\n",
       "      <td>3</td>\n",
       "      <td>2.0</td>\n",
       "      <td>POINT (21.10229 52.22285)</td>\n",
       "    </tr>\n",
       "    <tr>\n",
       "      <th>3</th>\n",
       "      <td>196</td>\n",
       "      <td>21.177343</td>\n",
       "      <td>1005</td>\n",
       "      <td>2021-06-28 16:07:18</td>\n",
       "      <td>52.256837</td>\n",
       "      <td>2</td>\n",
       "      <td>3.0</td>\n",
       "      <td>POINT (21.17734 52.25684)</td>\n",
       "    </tr>\n",
       "    <tr>\n",
       "      <th>4</th>\n",
       "      <td>196</td>\n",
       "      <td>21.176384</td>\n",
       "      <td>1008</td>\n",
       "      <td>2021-06-28 16:07:14</td>\n",
       "      <td>52.256761</td>\n",
       "      <td>03</td>\n",
       "      <td>4.0</td>\n",
       "      <td>POINT (21.17638 52.25676)</td>\n",
       "    </tr>\n",
       "  </tbody>\n",
       "</table>\n",
       "</div>"
      ],
      "text/plain": [
       "  Lines        Lon VehicleNumber                Time        Lat Brigade  \\\n",
       "0   213  21.203191          1001 2021-06-28 16:07:22  52.159396       1   \n",
       "1   213  21.212667          1003 2021-06-28 16:07:18  52.161133      05   \n",
       "2   213  21.102286          1004 2021-06-28 16:07:15  52.222845       3   \n",
       "3   196  21.177343          1005 2021-06-28 16:07:18  52.256837       2   \n",
       "4   196  21.176384          1008 2021-06-28 16:07:14  52.256761      03   \n",
       "\n",
       "   Unnamed: 0                   geometry  \n",
       "0         0.0  POINT (21.20319 52.15940)  \n",
       "1         1.0  POINT (21.21267 52.16113)  \n",
       "2         2.0  POINT (21.10229 52.22285)  \n",
       "3         3.0  POINT (21.17734 52.25684)  \n",
       "4         4.0  POINT (21.17638 52.25676)  "
      ]
     },
     "execution_count": 22,
     "metadata": {},
     "output_type": "execute_result"
    }
   ],
   "source": [
    "gdf_day.head()"
   ]
  },
  {
   "cell_type": "markdown",
   "id": "50d0ae1c-92be-41cc-ac9f-f08d238e7a57",
   "metadata": {},
   "source": [
    "Konwertowanie zapisu przestrzennego z CRS na projected CRS (potrzebne do obliczania odległości)"
   ]
  },
  {
   "cell_type": "code",
   "execution_count": 23,
   "id": "384eab92-c009-4bf3-878f-39c79f387cdf",
   "metadata": {},
   "outputs": [],
   "source": [
    "gdf_day = gdf_day.to_crs(epsg=2178)"
   ]
  },
  {
   "cell_type": "code",
   "execution_count": 24,
   "id": "24e8b73a-290e-4009-856c-6a226f001c01",
   "metadata": {},
   "outputs": [
    {
     "data": {
      "text/plain": [
       "<Projected CRS: EPSG:2178>\n",
       "Name: ETRS89 / Poland CS2000 zone 7\n",
       "Axis Info [cartesian]:\n",
       "- x[north]: Northing (metre)\n",
       "- y[east]: Easting (metre)\n",
       "Area of Use:\n",
       "- name: Poland - onshore and offshore between 19°30'E and 22°30'E.\n",
       "- bounds: (19.5, 49.09, 22.5, 54.55)\n",
       "Coordinate Operation:\n",
       "- name: Poland CS2000 zone 7\n",
       "- method: Transverse Mercator\n",
       "Datum: European Terrestrial Reference System 1989 ensemble\n",
       "- Ellipsoid: GRS 1980\n",
       "- Prime Meridian: Greenwich"
      ]
     },
     "execution_count": 24,
     "metadata": {},
     "output_type": "execute_result"
    }
   ],
   "source": [
    "gdf_day.crs"
   ]
  },
  {
   "cell_type": "markdown",
   "id": "a0478d18-3da0-4cdf-985b-17bd1668e024",
   "metadata": {},
   "source": [
    "\n",
    "Sortowanie GeoDataFrame ze względu na kolumny VehicleNumber i Time"
   ]
  },
  {
   "cell_type": "code",
   "execution_count": 25,
   "id": "53b1c7b2-5ab5-4f51-90b1-e1d03c4c4c62",
   "metadata": {},
   "outputs": [],
   "source": [
    "gdf_day = spacial_data_analysis_ztm.sort_vehicle_number_time(gdf_day)"
   ]
  },
  {
   "cell_type": "code",
   "execution_count": null,
   "id": "078607ca-d320-45a6-b4e8-af152b267b73",
   "metadata": {},
   "outputs": [],
   "source": []
  },
  {
   "cell_type": "markdown",
   "id": "4a19cdf1-c9be-4de5-9eab-140cbc838a4a",
   "metadata": {},
   "source": [
    "Usuwanie duplikotów bazując na bazując na VehicleNumber i Time"
   ]
  },
  {
   "cell_type": "code",
   "execution_count": 26,
   "id": "636ab096-f8ec-46e4-a4fe-6eb403e83022",
   "metadata": {
    "lines_to_next_cell": 2
   },
   "outputs": [],
   "source": [
    "gdf_day = spacial_data_analysis_ztm.remove_duplicates(gdf_day)"
   ]
  },
  {
   "cell_type": "markdown",
   "id": "0ba47925-5370-463d-b99b-801efc5fc3b4",
   "metadata": {},
   "source": [
    "Usuwanie tych pojazdów (vehlcle), które występują tylko jeden raz (nie da się nic policzyć; często jest to jakaś pozostałość, która zostaje w danych)"
   ]
  },
  {
   "cell_type": "code",
   "execution_count": 27,
   "id": "bcbd3ea4-2b49-4a3e-b958-7dc1b559dcd8",
   "metadata": {},
   "outputs": [],
   "source": [
    "gdf_day = spacial_data_analysis_ztm.remove_vehicles_one_occurrence(gdf_day)"
   ]
  },
  {
   "cell_type": "markdown",
   "id": "4cb2cc56-af72-4570-9718-fbcbce8b2dc1",
   "metadata": {},
   "source": [
    "Kalkulowanie dystansu pomiędzy punktami (POINT) w kolumnie geometry, oraz obliczanie różnic czasu na podstawie kolumny Time (TIMEDELTAS)"
   ]
  },
  {
   "cell_type": "code",
   "execution_count": null,
   "id": "170cea49-4a9c-4a20-957f-efba6af64316",
   "metadata": {
    "lines_to_end_of_cell_marker": 2
   },
   "outputs": [
    {
     "name": "stdout",
     "output_type": "stream",
     "text": [
      "[..............."
     ]
    }
   ],
   "source": [
    "gdf_day = spacial_data_analysis_ztm.calculate_distance_timedelta(gdf_day)"
   ]
  },
  {
   "cell_type": "code",
   "execution_count": null,
   "id": "6791b1bf-b8de-4eb1-84be-7267567e65ed",
   "metadata": {},
   "outputs": [],
   "source": [
    "len(gdf_day)"
   ]
  },
  {
   "cell_type": "markdown",
   "id": "6fde10c6-2e35-4a81-8e63-a11fbc9f2070",
   "metadata": {},
   "source": [
    "Sprawdzanie pierwszych kilku wierszy"
   ]
  },
  {
   "cell_type": "code",
   "execution_count": null,
   "id": "b3ffe584-bd4a-4aa5-93e4-040058138dfb",
   "metadata": {},
   "outputs": [],
   "source": [
    "gdf_day.head()"
   ]
  },
  {
   "cell_type": "markdown",
   "id": "e0c19691-1b53-443b-88e6-0ddcf92d02f6",
   "metadata": {},
   "source": [
    "Kalkulowanie metrów na sekundę - dzielenie metrów na różnicę w czasie (timedeltas)"
   ]
  },
  {
   "cell_type": "code",
   "execution_count": null,
   "id": "3e26c529-2fa1-49b6-b89b-69cb7c3c61fc",
   "metadata": {},
   "outputs": [],
   "source": [
    "gdf_day = spacial_data_analysis_ztm.calculate_mpers(gdf_day)"
   ]
  },
  {
   "cell_type": "code",
   "execution_count": null,
   "id": "f1e9772a-d6c2-4b61-80e9-054677d21122",
   "metadata": {},
   "outputs": [],
   "source": [
    "gdf_day.head()"
   ]
  },
  {
   "cell_type": "markdown",
   "id": "b52e8b11-3fce-486b-9ed5-14bfff2f8e82",
   "metadata": {},
   "source": [
    "### Ładowanie mapy Warszawy z dzielnicami"
   ]
  },
  {
   "cell_type": "markdown",
   "id": "74f65e95-9d49-4a13-90f7-2efaad23f60e",
   "metadata": {},
   "source": [
    "Dane ze strony:\n",
    "https://github.com/andilabs/warszawa-dzielnice-geojson/\n",
    "Ściągnięte też do data/warsaw"
   ]
  },
  {
   "cell_type": "code",
   "execution_count": null,
   "id": "cfb24340-a11e-4d9f-8dfc-60ffc43ece59",
   "metadata": {},
   "outputs": [],
   "source": [
    "# dane ze strony\n",
    "#warsaw_file = \"https://raw.githubusercontent.com/andilabs/warszawa-dzielnice-geojson/master/warszawa-dzielnice.geojson\"\n",
    "\n",
    "# dane z pliku w katalogu data/warsaw\n",
    "warsaw_file = \"data/warsaw/warszawa-dzielnice.geojson\""
   ]
  },
  {
   "cell_type": "code",
   "execution_count": null,
   "id": "169f7350-066e-46fb-ba59-ddb501a69615",
   "metadata": {},
   "outputs": [],
   "source": [
    "warsaw = gpd.read_file(warsaw_file)"
   ]
  },
  {
   "cell_type": "code",
   "execution_count": null,
   "id": "587e8001-9a21-4373-8339-18c1626da4d5",
   "metadata": {},
   "outputs": [],
   "source": [
    "# usuwanie całej Warszawy (zostają dzielnice)\n",
    "warsaw = warsaw.iloc[1:]"
   ]
  },
  {
   "cell_type": "markdown",
   "id": "482f9c32-bec2-4803-9684-11ab70dc9be7",
   "metadata": {},
   "source": [
    "Konwertowanie zapisu przestrzennego z CRS na projected CRS"
   ]
  },
  {
   "cell_type": "code",
   "execution_count": null,
   "id": "e4467c45-b41b-45a3-b36d-cce76726336e",
   "metadata": {},
   "outputs": [],
   "source": [
    "projected_crs_poland = 'epsg:2178'"
   ]
  },
  {
   "cell_type": "code",
   "execution_count": null,
   "id": "c202a404-89b4-4434-9ea6-1c1d69e9e302",
   "metadata": {},
   "outputs": [],
   "source": [
    "warsaw = warsaw.to_crs(projected_crs_poland)"
   ]
  },
  {
   "cell_type": "code",
   "execution_count": null,
   "id": "a9095c5a-bbf2-4c0a-b840-035d718c951e",
   "metadata": {},
   "outputs": [],
   "source": []
  },
  {
   "cell_type": "markdown",
   "id": "8843227b-b765-4d42-a8ac-815347309614",
   "metadata": {},
   "source": [
    "#### Usuwanie prędkości zbyt dużych które muszą wynikać z błędów w danych\n",
    "\n",
    "Widać, że pewne prędkości są kompletnie błędne, wynika to z błędu w danych z api."
   ]
  },
  {
   "cell_type": "code",
   "execution_count": null,
   "id": "930f9ed7-10ae-447d-84ec-62ad3408bc85",
   "metadata": {},
   "outputs": [],
   "source": [
    "fix, (ax1, ax2) = plt.subplots(ncols=2) \n",
    "\n",
    "gdf_night['speed_km_h'].plot(ax=ax1)\n",
    "gdf_day['speed_km_h'].plot(ax=ax2)\n",
    "_ = plt.plot()"
   ]
  },
  {
   "cell_type": "code",
   "execution_count": null,
   "id": "0ec82b77-ba25-4f77-a518-407ac6728659",
   "metadata": {},
   "outputs": [],
   "source": [
    "gdf_day = spacial_data_analysis_ztm.remove_vehicle_extreme_speed(gdf_day, 100)"
   ]
  },
  {
   "cell_type": "code",
   "execution_count": null,
   "id": "3b15ca2b-0cb8-4a07-a1c8-6d24eba06feb",
   "metadata": {},
   "outputs": [],
   "source": [
    "gdf_night = spacial_data_analysis_ztm.remove_vehicle_extreme_speed(gdf_night, 100)"
   ]
  },
  {
   "cell_type": "markdown",
   "id": "e1b529a5-4b3f-492f-8aed-4dfb606027b0",
   "metadata": {},
   "source": [
    "Po usunięciu tych danych rozkłady powinny wyglądać \"normalnie\"."
   ]
  },
  {
   "cell_type": "code",
   "execution_count": null,
   "id": "9ab6129e-1892-49ba-a87b-b1deb673884e",
   "metadata": {},
   "outputs": [],
   "source": [
    "fix, (ax1, ax2) = plt.subplots(ncols=2) \n",
    "\n",
    "gdf_night['speed_km_h'].hist(ax=ax1)\n",
    "gdf_day['speed_km_h'].hist(ax=ax2)\n",
    "\n",
    "_ = plt.plot()"
   ]
  },
  {
   "cell_type": "markdown",
   "id": "588860cb-6349-4e5f-9bdd-eb8b2d2f97d9",
   "metadata": {},
   "source": [
    "#### Resetowanie indeksów\n",
    "\n",
    "Z usunięciem starego indeksu"
   ]
  },
  {
   "cell_type": "code",
   "execution_count": null,
   "id": "35728184-4a5d-4c34-b602-3c1ec0ecc1d4",
   "metadata": {},
   "outputs": [],
   "source": [
    "gdf_night = gdf_night.reset_index(drop=True)"
   ]
  },
  {
   "cell_type": "code",
   "execution_count": null,
   "id": "e3ed4040-f86b-4be6-a3f3-ab4b7e3a01dd",
   "metadata": {},
   "outputs": [],
   "source": [
    "gdf_day = gdf_day.reset_index(drop=True)"
   ]
  },
  {
   "cell_type": "code",
   "execution_count": null,
   "id": "833cbda6-c186-41eb-bdc9-9bf9c33c50db",
   "metadata": {},
   "outputs": [],
   "source": []
  },
  {
   "cell_type": "markdown",
   "id": "61bfcd3d-4506-46de-bbd1-56023feebbb0",
   "metadata": {},
   "source": [
    "#### Obliczanie na podstawie wartości POINT, do której dzielnicy należy dany punkt i dodawanie tej dzielnicy do kolumny District."
   ]
  },
  {
   "cell_type": "code",
   "execution_count": null,
   "id": "e1c7b183-5150-4046-86e7-2569e473159d",
   "metadata": {},
   "outputs": [],
   "source": [
    "# https://medium.com/analytics-vidhya/point-in-polygon-analysis-using-python-geopandas-27ea67888bff\n",
    "for i in warsaw.index:\n",
    "    pip = gdf_night.within(warsaw.loc[i, 'geometry'])\n",
    "    gdf_night.loc[pip, 'District'] = warsaw.loc[i, 'name']"
   ]
  },
  {
   "cell_type": "code",
   "execution_count": null,
   "id": "9be6c8bf-bca4-45c3-a309-4270d4da1016",
   "metadata": {},
   "outputs": [],
   "source": [
    "# https://medium.com/analytics-vidhya/point-in-polygon-analysis-using-python-geopandas-27ea67888bff\n",
    "for i in warsaw.index:\n",
    "    pip = gdf_day.within(warsaw.loc[i, 'geometry'])\n",
    "    gdf_day.loc[pip, 'District'] = warsaw.loc[i, 'name']"
   ]
  },
  {
   "cell_type": "code",
   "execution_count": null,
   "id": "7c553189-b0cf-454b-96da-1a98c8ae402f",
   "metadata": {},
   "outputs": [],
   "source": [
    "gdf_night"
   ]
  },
  {
   "cell_type": "markdown",
   "id": "5e4e6920-2bbb-4548-bbb4-4ce404af4e9e",
   "metadata": {},
   "source": [
    "### Mapa Warszawy"
   ]
  },
  {
   "cell_type": "code",
   "execution_count": null,
   "id": "d0630a85-1e3e-4f58-b416-b307eee95aee",
   "metadata": {},
   "outputs": [],
   "source": [
    "_ = warsaw.plot()"
   ]
  },
  {
   "cell_type": "markdown",
   "id": "588a3385-c4ef-4e45-9b87-b1ef93fc99f0",
   "metadata": {},
   "source": [
    "##### Mapa z miejscami gdzie przekraczana jest prędkość\n",
    "czerwony noc\n",
    "\n",
    "pomarańczowy dzień"
   ]
  },
  {
   "cell_type": "code",
   "execution_count": null,
   "id": "22041746-926d-4a76-aa8e-4b2245093554",
   "metadata": {},
   "outputs": [],
   "source": [
    "plt.rcParams['figure.figsize'] = [30, 15]\n",
    "fig, ax = plt.subplots()\n",
    "# ax.get_legend().remove()\n",
    "warsaw.plot(ax=ax, legend=False)\n",
    "gdf_night[gdf_night.speed_km_h > 50].plot(ax=ax, color='red', markersize=3, legend=False)\n",
    "gdf_day[gdf_day.speed_km_h > 50].plot(ax=ax, color='orange', markersize=2, legend=False)\n",
    "plt.plot(legend=False)\n",
    "plt.rcParams['figure.figsize'] = [16, 8]"
   ]
  },
  {
   "cell_type": "code",
   "execution_count": null,
   "id": "c361bcdd-e84f-4e39-8f87-126e8537a5a5",
   "metadata": {},
   "outputs": [],
   "source": []
  },
  {
   "cell_type": "code",
   "execution_count": null,
   "id": "36bc918c-9f81-4cfb-9021-06ca69165be2",
   "metadata": {},
   "outputs": [],
   "source": []
  },
  {
   "cell_type": "markdown",
   "id": "7cd1f939-0d5c-4901-893b-ffdadd899dee",
   "metadata": {},
   "source": [
    "###### Porównanie najwiekszej prędkości i średniej prędkości (dla wszystkich autobusów) z dnia i tych samych wartości z nocy."
   ]
  },
  {
   "cell_type": "code",
   "execution_count": null,
   "id": "6dfc90f0-8392-4d1b-8abd-de16d43f4afa",
   "metadata": {},
   "outputs": [],
   "source": [
    "# noc\n",
    "speed_max_night = gdf_night['speed_km_h'].max()\n",
    "# dzień\n",
    "speed_max_day = gdf_day['speed_km_h'].max()\n",
    "av_speed_night = gdf_night['speed_km_h'].mean()\n",
    "av_speed_day = gdf_day['speed_km_h'].mean()"
   ]
  },
  {
   "cell_type": "code",
   "execution_count": null,
   "id": "f221ecaa-65ae-4d39-aa6f-e1065cc7208c",
   "metadata": {},
   "outputs": [],
   "source": [
    "plt.rcParams['figure.figsize'] = [10, 5]\n",
    "plt.tight_layout()\n",
    "index = ['Top Speed', 'Average Speed']\n",
    "df_sp_av = pd.DataFrame({'Night': [speed_max_night, av_speed_night], 'Day': [speed_max_day, av_speed_day]}, index=index)\n",
    "_ = df_sp_av.plot.bar()"
   ]
  },
  {
   "cell_type": "code",
   "execution_count": null,
   "id": "e591a21a-3788-45f7-9f84-461cf55dc13e",
   "metadata": {
    "lines_to_next_cell": 2
   },
   "outputs": [],
   "source": []
  },
  {
   "cell_type": "markdown",
   "id": "a306b483-c174-4058-bf1a-407d1661c013",
   "metadata": {},
   "source": [
    "#### Procent pomiarów prędkości pojazdów powyżej 50 km/h"
   ]
  },
  {
   "cell_type": "code",
   "execution_count": null,
   "id": "80e39817-0d75-4e09-9b0a-def816d5a88b",
   "metadata": {},
   "outputs": [],
   "source": [
    "speeding_vehicles_night = spacial_data_analysis_ztm.return_vehicles_above_speed(gdf_night, 50)"
   ]
  },
  {
   "cell_type": "code",
   "execution_count": null,
   "id": "f2e5fbd5-c2eb-49b1-813e-3a01acee9c24",
   "metadata": {},
   "outputs": [],
   "source": [
    "speeding_vehicles_day = spacial_data_analysis_ztm.return_vehicles_above_speed(gdf_day, 50)"
   ]
  },
  {
   "cell_type": "code",
   "execution_count": null,
   "id": "e36e7af3-1350-486e-b98e-8e4257c413a0",
   "metadata": {},
   "outputs": [],
   "source": [
    "speeding_vehicles_night"
   ]
  },
  {
   "cell_type": "code",
   "execution_count": null,
   "id": "a0a6f535-0631-4e74-b571-3821617b4eb3",
   "metadata": {},
   "outputs": [],
   "source": [
    "speeding_vehicles_day"
   ]
  },
  {
   "cell_type": "code",
   "execution_count": null,
   "id": "9ff15957-dbe1-4b81-8511-31995054510a",
   "metadata": {},
   "outputs": [],
   "source": [
    "plt.rcParams['figure.figsize'] = [10, 5]\n",
    "index = ['% \\nspeeding vehicles']\n",
    "plt.tight_layout()\n",
    "df_sp_perc = pd.DataFrame({'Night': [speeding_vehicles_night], 'Day': [speeding_vehicles_day]}, index=index)\n",
    "_ = df_sp_perc.plot.bar()"
   ]
  },
  {
   "cell_type": "code",
   "execution_count": null,
   "id": "db0c9a81-1028-4a37-9d6e-fb97bd2159cb",
   "metadata": {},
   "outputs": [],
   "source": []
  },
  {
   "cell_type": "markdown",
   "id": "ef12f197-9e99-4c1d-a40e-cbace5e68ca6",
   "metadata": {},
   "source": [
    "### Sortowanie czy sprawdzanie czy w której autobus jest dzielnicy (albo czy jest poza Warszawą)"
   ]
  },
  {
   "cell_type": "markdown",
   "id": "afbfbb3a-2be9-44e6-ac54-8edad882d444",
   "metadata": {},
   "source": [
    "Znajdowanie największych wartości prędkości speed_km_h pod względem dzielnic i pojazdów.\n",
    "\n",
    "konwertowanie series z poprzedniego kroku na DataFrame.\n",
    "\n",
    "Konwersja 'District' z  indeksu na kolumnę.\n",
    "\n",
    "Aplikowanie maski na prędkość, a potem zwracanie liczby wystąpień dla poszczególnych dzielnic.\n"
   ]
  },
  {
   "cell_type": "code",
   "execution_count": null,
   "id": "160aba68-d92f-4b00-8c80-ecaff579e3eb",
   "metadata": {},
   "outputs": [],
   "source": [
    "districts_speeding_night = spacial_data_analysis_ztm.speeding_by_district(gdf_night)\n",
    "districts_speeding_day = spacial_data_analysis_ztm.speeding_by_district(gdf_day)"
   ]
  },
  {
   "cell_type": "code",
   "execution_count": null,
   "id": "6351e23d-fdff-48d1-8244-322830958f2f",
   "metadata": {},
   "outputs": [],
   "source": [
    "extra = set(districts_speeding_day.index) ^ set(districts_speeding_night.index)"
   ]
  },
  {
   "cell_type": "code",
   "execution_count": null,
   "id": "7d89f28c-e1dc-4281-9836-428ee3dba0cd",
   "metadata": {
    "lines_to_next_cell": 0
   },
   "outputs": [],
   "source": [
    "if (len(districts_speeding_day.index) > len(districts_speeding_night.index)):\n",
    "    for e in extra:\n",
    "        districts_speeding_night[e] = 0\n",
    "elif (len(districts_speeding_day.index) < len(districts_speeding_night.index)):\n",
    "    for e in extra:\n",
    "        districts_speeding_day[e] = 0\n",
    "#         pd.concat(districts_speeding_night, {e: 0})"
   ]
  },
  {
   "cell_type": "code",
   "execution_count": null,
   "id": "69d708ce-9548-4e50-9f37-866e1663418f",
   "metadata": {
    "lines_to_next_cell": 2
   },
   "outputs": [],
   "source": []
  },
  {
   "cell_type": "code",
   "execution_count": null,
   "id": "0332ec54-5e1b-416a-8a27-011deda95733",
   "metadata": {},
   "outputs": [],
   "source": [
    "speeding_df = pd.DataFrame([districts_speeding_day, districts_speeding_night], index=['Day', 'Night'])"
   ]
  },
  {
   "cell_type": "code",
   "execution_count": null,
   "id": "d4b9ba2c-40aa-414f-9bf5-3f6355367654",
   "metadata": {},
   "outputs": [],
   "source": [
    "plt.tight_layout()\n",
    "_ = speeding_df.plot.bar()"
   ]
  },
  {
   "cell_type": "markdown",
   "id": "72933fd6-9b91-4fdf-885f-68d662e59edf",
   "metadata": {},
   "source": [
    "W następujących dzielnicach więcej niż 5 pojazdów przekracza prędkość.\n",
    "\n",
    "Odpowiednio dla nocy i dnia."
   ]
  },
  {
   "cell_type": "code",
   "execution_count": null,
   "id": "c367e7ee-8ba7-4f5c-95b9-ca7108565051",
   "metadata": {},
   "outputs": [],
   "source": [
    "districts_speeding_night[districts_speeding_night > 5]"
   ]
  },
  {
   "cell_type": "code",
   "execution_count": null,
   "id": "7eca5aa4-02e2-457e-b9c6-d4449d0510a0",
   "metadata": {},
   "outputs": [],
   "source": [
    "districts_speeding_day[districts_speeding_day > 5]"
   ]
  },
  {
   "cell_type": "markdown",
   "id": "8aa436cd-0eca-4098-b1f5-404a0da5311a",
   "metadata": {},
   "source": [
    "#### Przekroczone prędkości nałożone na mapy\n"
   ]
  },
  {
   "cell_type": "code",
   "execution_count": null,
   "id": "c1a8264f-614a-4b59-a65e-05ec71747967",
   "metadata": {},
   "outputs": [],
   "source": [
    "dis = districts_speeding_night.idxmax(axis=0, skipna=True)"
   ]
  },
  {
   "cell_type": "code",
   "execution_count": null,
   "id": "c0d6e18d-73c4-4c34-9cc9-afafbe176e74",
   "metadata": {},
   "outputs": [],
   "source": [
    "plt.rcParams['figure.figsize'] = [20, 10]\n",
    "fig, ax = plt.subplots()\n",
    "warsaw[warsaw['name'] == dis].plot(ax=ax, label=dis, legend=False)\n",
    "gdf_night[(gdf_night.speed_km_h > 50) & (gdf_night.District == dis)].plot(ax=ax, color='red', markersize=8, legend=False)\n",
    "_ = plt.plot(legend=False)"
   ]
  },
  {
   "cell_type": "code",
   "execution_count": null,
   "id": "910cc9bb-ffcf-469b-b47f-e6849de03b2a",
   "metadata": {},
   "outputs": [],
   "source": []
  },
  {
   "cell_type": "code",
   "execution_count": null,
   "id": "966446b5-1950-48e2-b077-b536ce560f8c",
   "metadata": {},
   "outputs": [],
   "source": [
    "dis = districts_speeding_day.idxmax(axis=0, skipna=True)"
   ]
  },
  {
   "cell_type": "code",
   "execution_count": null,
   "id": "69b6ea80-dda1-46ab-85e1-2c44df9b909b",
   "metadata": {},
   "outputs": [],
   "source": [
    "plt.rcParams['figure.figsize'] = [20, 10]\n",
    "fig, ax = plt.subplots()\n",
    "warsaw[warsaw['name'] == dis].plot(ax=ax, label=dis, legend=False)\n",
    "gdf_day[(gdf_day.speed_km_h > 50) & (gdf_day.District == dis)].plot(ax=ax, color='red', markersize=8, legend=False)\n",
    "_ = plt.plot(legend=False)"
   ]
  },
  {
   "cell_type": "markdown",
   "id": "5bae4876-5294-465a-bfa8-b53d48d0d43b",
   "metadata": {},
   "source": [
    "Tutaj widać, że zdecydowana większość przekroczeń prędkości była na S8, co może oznaczać, że prędkość w sensie prawnym, nie była przekroczona."
   ]
  },
  {
   "cell_type": "code",
   "execution_count": null,
   "id": "ae09c309-0423-460a-9403-5802e502f50c",
   "metadata": {},
   "outputs": [],
   "source": []
  }
 ],
 "metadata": {
  "jupytext": {
   "encoding": "# -*- coding: utf-8 -*-",
   "formats": "ipynb,py:light"
  },
  "kernelspec": {
   "display_name": "nlp",
   "language": "python",
   "name": "nlp"
  },
  "language_info": {
   "codemirror_mode": {
    "name": "ipython",
    "version": 3
   },
   "file_extension": ".py",
   "mimetype": "text/x-python",
   "name": "python",
   "nbconvert_exporter": "python",
   "pygments_lexer": "ipython3",
   "version": "3.9.2"
  }
 },
 "nbformat": 4,
 "nbformat_minor": 5
}
