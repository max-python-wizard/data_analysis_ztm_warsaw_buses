{
 "cells": [
  {
   "cell_type": "markdown",
   "id": "cd979563-9870-4283-9d18-6477399d1945",
   "metadata": {},
   "source": [
    "# Analiza danych przejazdów autobusów ZTM"
   ]
  },
  {
   "cell_type": "markdown",
   "id": "8292c8d4-2763-416e-9679-c1d503591c58",
   "metadata": {},
   "source": [
    "Importowanie bibliotek"
   ]
  },
  {
   "cell_type": "code",
   "execution_count": 1,
   "id": "858ea378-94fc-4592-a5cc-0cb38676d938",
   "metadata": {},
   "outputs": [],
   "source": [
    "import pandas as pd\n",
    "import geopandas as gpd\n",
    "import matplotlib.pyplot as plt"
   ]
  },
  {
   "cell_type": "markdown",
   "id": "d98c0ad9-e5d5-4c9a-a4df-ed1808706555",
   "metadata": {},
   "source": [
    "Importowanie własnej biblioteki"
   ]
  },
  {
   "cell_type": "code",
   "execution_count": 2,
   "id": "08a48653-cbc0-4b35-b2a0-ee1333d5bc25",
   "metadata": {},
   "outputs": [],
   "source": [
    "import spacial_data_analysis_ztm"
   ]
  },
  {
   "cell_type": "code",
   "execution_count": null,
   "id": "6694feca-0815-4cdb-b92e-1e3a203fd86e",
   "metadata": {},
   "outputs": [],
   "source": []
  },
  {
   "cell_type": "markdown",
   "id": "64dc69b3-afe5-4dbb-85b1-aba729ee8c89",
   "metadata": {},
   "source": [
    "Ładowanie wcześniej ściągniętych danych zapisanych ze środka nocy 28.06.2021\n",
    "Funkcja ta również usuwa duplikaty i konwertuje czas zapisany w ciągu znaków na pandas datetime"
   ]
  },
  {
   "cell_type": "code",
   "execution_count": 3,
   "id": "ff252c36-5052-47ec-8994-f267961b2ff7",
   "metadata": {},
   "outputs": [
    {
     "name": "stdout",
     "output_type": "stream",
     "text": [
      "data/28.06.2021_night_minute\n",
      "FInished importing files\n"
     ]
    }
   ],
   "source": [
    "df_night = spacial_data_analysis_ztm.load_files_directory_into_df('data/28.06.2021_night_minute')"
   ]
  },
  {
   "cell_type": "markdown",
   "id": "db31c288-acdd-46b8-b945-9fece0b9e6d1",
   "metadata": {},
   "source": [
    "Konwertowanie Lon i Lat (długość i szerokość geograficzna) z DataFrame na typ POINT w GeoDataFrame (rozbudowane DataFrame z biblioteki Geopandas)."
   ]
  },
  {
   "cell_type": "code",
   "execution_count": 4,
   "id": "53174a32-88ad-448c-b616-4f34f407403f",
   "metadata": {},
   "outputs": [],
   "source": [
    "# oryginalny CRS ze strony ztm crs='EPSG:4326'\n",
    "ztm_crs = 'EPSG:4326'"
   ]
  },
  {
   "cell_type": "code",
   "execution_count": 5,
   "id": "144919b9-a27c-4463-81d9-b08ffd545ee7",
   "metadata": {},
   "outputs": [],
   "source": [
    "gdf_night = spacial_data_analysis_ztm.covert_long_lat_into_geodataframe(df_night, ztm_crs)"
   ]
  },
  {
   "cell_type": "markdown",
   "id": "d1c4656a-1823-4fd6-aa2a-3f7de0020da8",
   "metadata": {},
   "source": [
    "Sprawdzanie czy dane zostały załadowanie"
   ]
  },
  {
   "cell_type": "code",
   "execution_count": 6,
   "id": "104f66d2-5e98-4b67-8fc0-bd90f6405acb",
   "metadata": {},
   "outputs": [
    {
     "data": {
      "text/html": [
       "<div>\n",
       "<style scoped>\n",
       "    .dataframe tbody tr th:only-of-type {\n",
       "        vertical-align: middle;\n",
       "    }\n",
       "\n",
       "    .dataframe tbody tr th {\n",
       "        vertical-align: top;\n",
       "    }\n",
       "\n",
       "    .dataframe thead th {\n",
       "        text-align: right;\n",
       "    }\n",
       "</style>\n",
       "<table border=\"1\" class=\"dataframe\">\n",
       "  <thead>\n",
       "    <tr style=\"text-align: right;\">\n",
       "      <th></th>\n",
       "      <th>Lines</th>\n",
       "      <th>Lon</th>\n",
       "      <th>VehicleNumber</th>\n",
       "      <th>Time</th>\n",
       "      <th>Lat</th>\n",
       "      <th>Brigade</th>\n",
       "      <th>Unnamed: 0</th>\n",
       "      <th>geometry</th>\n",
       "    </tr>\n",
       "  </thead>\n",
       "  <tbody>\n",
       "    <tr>\n",
       "      <th>0</th>\n",
       "      <td>213</td>\n",
       "      <td>21.115615</td>\n",
       "      <td>1000</td>\n",
       "      <td>2021-06-27 23:51:33</td>\n",
       "      <td>52.234600</td>\n",
       "      <td>2</td>\n",
       "      <td>0.0</td>\n",
       "      <td>POINT (21.11562 52.23460)</td>\n",
       "    </tr>\n",
       "    <tr>\n",
       "      <th>1</th>\n",
       "      <td>213</td>\n",
       "      <td>21.115168</td>\n",
       "      <td>1001</td>\n",
       "      <td>2021-06-28 00:30:59</td>\n",
       "      <td>52.234600</td>\n",
       "      <td>3</td>\n",
       "      <td>1.0</td>\n",
       "      <td>POINT (21.11517 52.23460)</td>\n",
       "    </tr>\n",
       "    <tr>\n",
       "      <th>2</th>\n",
       "      <td>213</td>\n",
       "      <td>21.114898</td>\n",
       "      <td>1003</td>\n",
       "      <td>2021-06-27 00:02:20</td>\n",
       "      <td>52.234726</td>\n",
       "      <td>1</td>\n",
       "      <td>2.0</td>\n",
       "      <td>POINT (21.11490 52.23473)</td>\n",
       "    </tr>\n",
       "    <tr>\n",
       "      <th>3</th>\n",
       "      <td>213</td>\n",
       "      <td>21.115269</td>\n",
       "      <td>1005</td>\n",
       "      <td>2021-06-27 23:19:40</td>\n",
       "      <td>52.234594</td>\n",
       "      <td>4</td>\n",
       "      <td>3.0</td>\n",
       "      <td>POINT (21.11527 52.23459)</td>\n",
       "    </tr>\n",
       "    <tr>\n",
       "      <th>4</th>\n",
       "      <td>130</td>\n",
       "      <td>21.115590</td>\n",
       "      <td>1008</td>\n",
       "      <td>2021-06-25 20:19:05</td>\n",
       "      <td>52.234613</td>\n",
       "      <td>04</td>\n",
       "      <td>4.0</td>\n",
       "      <td>POINT (21.11559 52.23461)</td>\n",
       "    </tr>\n",
       "  </tbody>\n",
       "</table>\n",
       "</div>"
      ],
      "text/plain": [
       "  Lines        Lon VehicleNumber                Time        Lat Brigade  \\\n",
       "0   213  21.115615          1000 2021-06-27 23:51:33  52.234600       2   \n",
       "1   213  21.115168          1001 2021-06-28 00:30:59  52.234600       3   \n",
       "2   213  21.114898          1003 2021-06-27 00:02:20  52.234726       1   \n",
       "3   213  21.115269          1005 2021-06-27 23:19:40  52.234594       4   \n",
       "4   130  21.115590          1008 2021-06-25 20:19:05  52.234613      04   \n",
       "\n",
       "   Unnamed: 0                   geometry  \n",
       "0         0.0  POINT (21.11562 52.23460)  \n",
       "1         1.0  POINT (21.11517 52.23460)  \n",
       "2         2.0  POINT (21.11490 52.23473)  \n",
       "3         3.0  POINT (21.11527 52.23459)  \n",
       "4         4.0  POINT (21.11559 52.23461)  "
      ]
     },
     "execution_count": 6,
     "metadata": {},
     "output_type": "execute_result"
    }
   ],
   "source": [
    "gdf_night.head()"
   ]
  },
  {
   "cell_type": "markdown",
   "id": "14cb9603-3e6b-471d-966a-c985523932b9",
   "metadata": {},
   "source": [
    "Konwertowanie zapisu przestrzennego z CRS na projected CRS (potrzebne do obliczania odległości)"
   ]
  },
  {
   "cell_type": "code",
   "execution_count": 7,
   "id": "4bd60256-677f-486f-be5e-ab3f4d6fd4b2",
   "metadata": {},
   "outputs": [],
   "source": [
    "gdf_night = gdf_night.to_crs(epsg=2178)"
   ]
  },
  {
   "cell_type": "code",
   "execution_count": 8,
   "id": "dff6c88c-5fd1-43af-aba5-05262d38c8ef",
   "metadata": {},
   "outputs": [
    {
     "data": {
      "text/plain": [
       "<Projected CRS: EPSG:2178>\n",
       "Name: ETRS89 / Poland CS2000 zone 7\n",
       "Axis Info [cartesian]:\n",
       "- x[north]: Northing (metre)\n",
       "- y[east]: Easting (metre)\n",
       "Area of Use:\n",
       "- name: Poland - onshore and offshore between 19°30'E and 22°30'E.\n",
       "- bounds: (19.5, 49.09, 22.5, 54.55)\n",
       "Coordinate Operation:\n",
       "- name: Poland CS2000 zone 7\n",
       "- method: Transverse Mercator\n",
       "Datum: European Terrestrial Reference System 1989 ensemble\n",
       "- Ellipsoid: GRS 1980\n",
       "- Prime Meridian: Greenwich"
      ]
     },
     "execution_count": 8,
     "metadata": {},
     "output_type": "execute_result"
    }
   ],
   "source": [
    "gdf_night.crs"
   ]
  },
  {
   "cell_type": "markdown",
   "id": "4003c864-ed01-4947-b48e-cdf0534c10bb",
   "metadata": {},
   "source": [
    "\n",
    "Sortowanie GeoDataFrame ze względu na kolumny VehicleNumber i Time"
   ]
  },
  {
   "cell_type": "code",
   "execution_count": null,
   "id": "f0e39ebf-7e29-4116-b5b9-54c4ceae4c89",
   "metadata": {},
   "outputs": [],
   "source": []
  },
  {
   "cell_type": "code",
   "execution_count": 9,
   "id": "721cf5aa-ef1c-4008-bb9f-dbff29496b27",
   "metadata": {},
   "outputs": [],
   "source": [
    "gdf_night = spacial_data_analysis_ztm.sort_vehicle_number_time(gdf_night)"
   ]
  },
  {
   "cell_type": "code",
   "execution_count": null,
   "id": "731ae616-ca61-47c3-bdcf-2f77a9a24f38",
   "metadata": {},
   "outputs": [],
   "source": []
  },
  {
   "cell_type": "markdown",
   "id": "c83e5ec0-7235-4698-aa08-e05b4a498491",
   "metadata": {},
   "source": [
    "Usuwanie duplikotów bazując na bazując na VehicleNumber i Time"
   ]
  },
  {
   "cell_type": "code",
   "execution_count": 10,
   "id": "6c57526a-201a-4872-bcb7-cf3a6238b0cf",
   "metadata": {},
   "outputs": [],
   "source": [
    "gdf_night = spacial_data_analysis_ztm.remove_duplicates(gdf_night)\n"
   ]
  },
  {
   "cell_type": "markdown",
   "id": "d3937e88-beb6-4175-8d79-74fbf47917c2",
   "metadata": {},
   "source": [
    "Usuwanie tych pojazdów (vehlcle), które występują tylko jeden raz (nie da się nic policzyć; często jest to jakaś pozostałość, która zostaje w danych)"
   ]
  },
  {
   "cell_type": "code",
   "execution_count": 11,
   "id": "fe283737-93e2-41e9-b84b-47b38a7906d6",
   "metadata": {},
   "outputs": [],
   "source": [
    "gdf_night = spacial_data_analysis_ztm.remove_vehicles_one_occurrence(gdf_night)"
   ]
  },
  {
   "cell_type": "markdown",
   "id": "3cd4971a-9857-4b41-a77b-2745e0e1325c",
   "metadata": {},
   "source": [
    "Kalkulowanie dystansu pomiędzy punktami (POINT) w kolumnie geometry, oraz obliczanie różnic czasu na podstawie kolumny Time (TIMEDELTAS)"
   ]
  },
  {
   "cell_type": "code",
   "execution_count": 12,
   "id": "d2f898d6-384f-47f9-ac6f-113b1605de13",
   "metadata": {},
   "outputs": [
    {
     "name": "stdout",
     "output_type": "stream",
     "text": [
      "[......................................................]"
     ]
    }
   ],
   "source": [
    "gdf_night = spacial_data_analysis_ztm.calculate_distance_timedelta(gdf_night)\n",
    "\n"
   ]
  },
  {
   "cell_type": "code",
   "execution_count": 13,
   "id": "af48bfb6-b4b2-47e0-be1d-612e23b76559",
   "metadata": {},
   "outputs": [
    {
     "data": {
      "text/plain": [
       "8193"
      ]
     },
     "execution_count": 13,
     "metadata": {},
     "output_type": "execute_result"
    }
   ],
   "source": [
    "len(gdf_night)"
   ]
  },
  {
   "cell_type": "markdown",
   "id": "da35be85-edfc-4c08-bbf7-8da50a458f5f",
   "metadata": {},
   "source": [
    "Sprawdzanie pierwszych kilku wierszy"
   ]
  },
  {
   "cell_type": "code",
   "execution_count": 14,
   "id": "4543c90a-e7bf-4ed0-8a90-332d6cde1e94",
   "metadata": {},
   "outputs": [
    {
     "data": {
      "text/html": [
       "<div>\n",
       "<style scoped>\n",
       "    .dataframe tbody tr th:only-of-type {\n",
       "        vertical-align: middle;\n",
       "    }\n",
       "\n",
       "    .dataframe tbody tr th {\n",
       "        vertical-align: top;\n",
       "    }\n",
       "\n",
       "    .dataframe thead th {\n",
       "        text-align: right;\n",
       "    }\n",
       "</style>\n",
       "<table border=\"1\" class=\"dataframe\">\n",
       "  <thead>\n",
       "    <tr style=\"text-align: right;\">\n",
       "      <th></th>\n",
       "      <th>Lines</th>\n",
       "      <th>Lon</th>\n",
       "      <th>VehicleNumber</th>\n",
       "      <th>Time</th>\n",
       "      <th>Lat</th>\n",
       "      <th>Brigade</th>\n",
       "      <th>Unnamed: 0</th>\n",
       "      <th>geometry</th>\n",
       "      <th>distance</th>\n",
       "      <th>TimeDelta</th>\n",
       "    </tr>\n",
       "  </thead>\n",
       "  <tbody>\n",
       "    <tr>\n",
       "      <th>326</th>\n",
       "      <td>150</td>\n",
       "      <td>20.864546</td>\n",
       "      <td>776</td>\n",
       "      <td>2021-06-28 00:44:21</td>\n",
       "      <td>52.360001</td>\n",
       "      <td></td>\n",
       "      <td>326.0</td>\n",
       "      <td>POINT (7490772.809 5802962.913)</td>\n",
       "      <td>NaN</td>\n",
       "      <td>NaT</td>\n",
       "    </tr>\n",
       "    <tr>\n",
       "      <th>829</th>\n",
       "      <td>150</td>\n",
       "      <td>20.864511</td>\n",
       "      <td>776</td>\n",
       "      <td>2021-06-28 00:45:18</td>\n",
       "      <td>52.359990</td>\n",
       "      <td></td>\n",
       "      <td>326.0</td>\n",
       "      <td>POINT (7490770.395 5802961.683)</td>\n",
       "      <td>2.709341</td>\n",
       "      <td>0 days 00:00:57</td>\n",
       "    </tr>\n",
       "    <tr>\n",
       "      <th>1332</th>\n",
       "      <td>150</td>\n",
       "      <td>20.864550</td>\n",
       "      <td>776</td>\n",
       "      <td>2021-06-28 00:46:13</td>\n",
       "      <td>52.360017</td>\n",
       "      <td></td>\n",
       "      <td>326.0</td>\n",
       "      <td>POINT (7490773.091 5802964.738)</td>\n",
       "      <td>4.074632</td>\n",
       "      <td>0 days 00:00:55</td>\n",
       "    </tr>\n",
       "    <tr>\n",
       "      <th>1833</th>\n",
       "      <td>150</td>\n",
       "      <td>20.864516</td>\n",
       "      <td>776</td>\n",
       "      <td>2021-06-28 00:47:17</td>\n",
       "      <td>52.359986</td>\n",
       "      <td></td>\n",
       "      <td>325.0</td>\n",
       "      <td>POINT (7490770.755 5802961.270)</td>\n",
       "      <td>4.180773</td>\n",
       "      <td>0 days 00:01:04</td>\n",
       "    </tr>\n",
       "    <tr>\n",
       "      <th>2335</th>\n",
       "      <td>150</td>\n",
       "      <td>20.864538</td>\n",
       "      <td>776</td>\n",
       "      <td>2021-06-28 00:48:15</td>\n",
       "      <td>52.359985</td>\n",
       "      <td></td>\n",
       "      <td>325.0</td>\n",
       "      <td>POINT (7490772.260 5802961.134)</td>\n",
       "      <td>1.511374</td>\n",
       "      <td>0 days 00:00:58</td>\n",
       "    </tr>\n",
       "  </tbody>\n",
       "</table>\n",
       "</div>"
      ],
      "text/plain": [
       "     Lines        Lon VehicleNumber                Time        Lat Brigade  \\\n",
       "326    150  20.864546           776 2021-06-28 00:44:21  52.360001           \n",
       "829    150  20.864511           776 2021-06-28 00:45:18  52.359990           \n",
       "1332   150  20.864550           776 2021-06-28 00:46:13  52.360017           \n",
       "1833   150  20.864516           776 2021-06-28 00:47:17  52.359986           \n",
       "2335   150  20.864538           776 2021-06-28 00:48:15  52.359985           \n",
       "\n",
       "      Unnamed: 0                         geometry  distance       TimeDelta  \n",
       "326        326.0  POINT (7490772.809 5802962.913)       NaN             NaT  \n",
       "829        326.0  POINT (7490770.395 5802961.683)  2.709341 0 days 00:00:57  \n",
       "1332       326.0  POINT (7490773.091 5802964.738)  4.074632 0 days 00:00:55  \n",
       "1833       325.0  POINT (7490770.755 5802961.270)  4.180773 0 days 00:01:04  \n",
       "2335       325.0  POINT (7490772.260 5802961.134)  1.511374 0 days 00:00:58  "
      ]
     },
     "execution_count": 14,
     "metadata": {},
     "output_type": "execute_result"
    }
   ],
   "source": [
    "gdf_night.head()"
   ]
  },
  {
   "cell_type": "markdown",
   "id": "f502cb04-4e0d-444f-8487-7509a5dbf5da",
   "metadata": {},
   "source": [
    "Kalkulowanie metrów na sekundę - dzielenie metrów na różnicę w czasie (timedeltas)"
   ]
  },
  {
   "cell_type": "code",
   "execution_count": 15,
   "id": "99fe00f1-0be7-4a79-8044-0474a606a18f",
   "metadata": {},
   "outputs": [],
   "source": [
    "gdf_night = spacial_data_analysis_ztm.calculate_mpers(gdf_night)"
   ]
  },
  {
   "cell_type": "code",
   "execution_count": 16,
   "id": "5ed293f3-245d-4b9e-af44-a7cf669aff62",
   "metadata": {},
   "outputs": [
    {
     "data": {
      "text/html": [
       "<div>\n",
       "<style scoped>\n",
       "    .dataframe tbody tr th:only-of-type {\n",
       "        vertical-align: middle;\n",
       "    }\n",
       "\n",
       "    .dataframe tbody tr th {\n",
       "        vertical-align: top;\n",
       "    }\n",
       "\n",
       "    .dataframe thead th {\n",
       "        text-align: right;\n",
       "    }\n",
       "</style>\n",
       "<table border=\"1\" class=\"dataframe\">\n",
       "  <thead>\n",
       "    <tr style=\"text-align: right;\">\n",
       "      <th></th>\n",
       "      <th>Lines</th>\n",
       "      <th>Lon</th>\n",
       "      <th>VehicleNumber</th>\n",
       "      <th>Time</th>\n",
       "      <th>Lat</th>\n",
       "      <th>Brigade</th>\n",
       "      <th>Unnamed: 0</th>\n",
       "      <th>geometry</th>\n",
       "      <th>distance</th>\n",
       "      <th>TimeDelta</th>\n",
       "      <th>seconds</th>\n",
       "      <th>speed_m/s</th>\n",
       "      <th>speed_km/h</th>\n",
       "    </tr>\n",
       "  </thead>\n",
       "  <tbody>\n",
       "    <tr>\n",
       "      <th>326</th>\n",
       "      <td>150</td>\n",
       "      <td>20.864546</td>\n",
       "      <td>776</td>\n",
       "      <td>2021-06-28 00:44:21</td>\n",
       "      <td>52.360001</td>\n",
       "      <td></td>\n",
       "      <td>326.0</td>\n",
       "      <td>POINT (7490772.809 5802962.913)</td>\n",
       "      <td>NaN</td>\n",
       "      <td>NaT</td>\n",
       "      <td>NaN</td>\n",
       "      <td>NaN</td>\n",
       "      <td>NaN</td>\n",
       "    </tr>\n",
       "    <tr>\n",
       "      <th>829</th>\n",
       "      <td>150</td>\n",
       "      <td>20.864511</td>\n",
       "      <td>776</td>\n",
       "      <td>2021-06-28 00:45:18</td>\n",
       "      <td>52.359990</td>\n",
       "      <td></td>\n",
       "      <td>326.0</td>\n",
       "      <td>POINT (7490770.395 5802961.683)</td>\n",
       "      <td>2.709341</td>\n",
       "      <td>0 days 00:00:57</td>\n",
       "      <td>57.0</td>\n",
       "      <td>0.047532</td>\n",
       "      <td>0.171116</td>\n",
       "    </tr>\n",
       "    <tr>\n",
       "      <th>1332</th>\n",
       "      <td>150</td>\n",
       "      <td>20.864550</td>\n",
       "      <td>776</td>\n",
       "      <td>2021-06-28 00:46:13</td>\n",
       "      <td>52.360017</td>\n",
       "      <td></td>\n",
       "      <td>326.0</td>\n",
       "      <td>POINT (7490773.091 5802964.738)</td>\n",
       "      <td>4.074632</td>\n",
       "      <td>0 days 00:00:55</td>\n",
       "      <td>55.0</td>\n",
       "      <td>0.074084</td>\n",
       "      <td>0.266703</td>\n",
       "    </tr>\n",
       "    <tr>\n",
       "      <th>1833</th>\n",
       "      <td>150</td>\n",
       "      <td>20.864516</td>\n",
       "      <td>776</td>\n",
       "      <td>2021-06-28 00:47:17</td>\n",
       "      <td>52.359986</td>\n",
       "      <td></td>\n",
       "      <td>325.0</td>\n",
       "      <td>POINT (7490770.755 5802961.270)</td>\n",
       "      <td>4.180773</td>\n",
       "      <td>0 days 00:01:04</td>\n",
       "      <td>64.0</td>\n",
       "      <td>0.065325</td>\n",
       "      <td>0.235168</td>\n",
       "    </tr>\n",
       "    <tr>\n",
       "      <th>2335</th>\n",
       "      <td>150</td>\n",
       "      <td>20.864538</td>\n",
       "      <td>776</td>\n",
       "      <td>2021-06-28 00:48:15</td>\n",
       "      <td>52.359985</td>\n",
       "      <td></td>\n",
       "      <td>325.0</td>\n",
       "      <td>POINT (7490772.260 5802961.134)</td>\n",
       "      <td>1.511374</td>\n",
       "      <td>0 days 00:00:58</td>\n",
       "      <td>58.0</td>\n",
       "      <td>0.026058</td>\n",
       "      <td>0.093809</td>\n",
       "    </tr>\n",
       "  </tbody>\n",
       "</table>\n",
       "</div>"
      ],
      "text/plain": [
       "     Lines        Lon VehicleNumber                Time        Lat Brigade  \\\n",
       "326    150  20.864546           776 2021-06-28 00:44:21  52.360001           \n",
       "829    150  20.864511           776 2021-06-28 00:45:18  52.359990           \n",
       "1332   150  20.864550           776 2021-06-28 00:46:13  52.360017           \n",
       "1833   150  20.864516           776 2021-06-28 00:47:17  52.359986           \n",
       "2335   150  20.864538           776 2021-06-28 00:48:15  52.359985           \n",
       "\n",
       "      Unnamed: 0                         geometry  distance       TimeDelta  \\\n",
       "326        326.0  POINT (7490772.809 5802962.913)       NaN             NaT   \n",
       "829        326.0  POINT (7490770.395 5802961.683)  2.709341 0 days 00:00:57   \n",
       "1332       326.0  POINT (7490773.091 5802964.738)  4.074632 0 days 00:00:55   \n",
       "1833       325.0  POINT (7490770.755 5802961.270)  4.180773 0 days 00:01:04   \n",
       "2335       325.0  POINT (7490772.260 5802961.134)  1.511374 0 days 00:00:58   \n",
       "\n",
       "      seconds  speed_m/s  speed_km/h  \n",
       "326       NaN        NaN         NaN  \n",
       "829      57.0   0.047532    0.171116  \n",
       "1332     55.0   0.074084    0.266703  \n",
       "1833     64.0   0.065325    0.235168  \n",
       "2335     58.0   0.026058    0.093809  "
      ]
     },
     "execution_count": 16,
     "metadata": {},
     "output_type": "execute_result"
    }
   ],
   "source": [
    "gdf_night.head()"
   ]
  },
  {
   "cell_type": "code",
   "execution_count": null,
   "id": "5b4ab00a-d663-43df-b3e7-e4c68f7a8e8f",
   "metadata": {},
   "outputs": [],
   "source": []
  },
  {
   "cell_type": "markdown",
   "id": "3f15260d-0997-421e-aa5e-7cc96dad144a",
   "metadata": {},
   "source": [
    "## Dane z dnia\n",
    "Ładowanie wcześniej ściągniętych danych zapisanych z dnia 28.06.2021.\n",
    "Powtarzanie całego powyższego procesu z danych.\n"
   ]
  },
  {
   "cell_type": "code",
   "execution_count": 17,
   "id": "ba62c52a-98fb-4886-aadd-ab49b03351e8",
   "metadata": {},
   "outputs": [
    {
     "name": "stdout",
     "output_type": "stream",
     "text": [
      "data/28.06.2021_day_minute\n",
      "FInished importing files\n"
     ]
    }
   ],
   "source": [
    "df_day = spacial_data_analysis_ztm.load_files_directory_into_df('data/28.06.2021_day_minute')"
   ]
  },
  {
   "cell_type": "markdown",
   "id": "55d15c22-6d5a-4925-822f-16c84489abb5",
   "metadata": {},
   "source": [
    "Konwertowanie Lon i Lat (długość i szerokość geograficzna) z DataFrame na typ POINT w GeoDataFrame (rozbudowane DataFrame z biblioteki Geopandas)."
   ]
  },
  {
   "cell_type": "code",
   "execution_count": 18,
   "id": "d1d0f6b8-0496-42e5-850e-c8203e68f7f6",
   "metadata": {},
   "outputs": [],
   "source": [
    "gdf_day = spacial_data_analysis_ztm.covert_long_lat_into_geodataframe(df_day, ztm_crs)"
   ]
  },
  {
   "cell_type": "markdown",
   "id": "02169b17-630a-4571-bdb8-c2676234812b",
   "metadata": {},
   "source": [
    "Sprawdzanie czy dane zostały załadowanie"
   ]
  },
  {
   "cell_type": "code",
   "execution_count": 19,
   "id": "6cdb167c-0782-40cf-8d48-4fc166174681",
   "metadata": {},
   "outputs": [
    {
     "data": {
      "text/html": [
       "<div>\n",
       "<style scoped>\n",
       "    .dataframe tbody tr th:only-of-type {\n",
       "        vertical-align: middle;\n",
       "    }\n",
       "\n",
       "    .dataframe tbody tr th {\n",
       "        vertical-align: top;\n",
       "    }\n",
       "\n",
       "    .dataframe thead th {\n",
       "        text-align: right;\n",
       "    }\n",
       "</style>\n",
       "<table border=\"1\" class=\"dataframe\">\n",
       "  <thead>\n",
       "    <tr style=\"text-align: right;\">\n",
       "      <th></th>\n",
       "      <th>Lines</th>\n",
       "      <th>Lon</th>\n",
       "      <th>VehicleNumber</th>\n",
       "      <th>Time</th>\n",
       "      <th>Lat</th>\n",
       "      <th>Brigade</th>\n",
       "      <th>Unnamed: 0</th>\n",
       "      <th>geometry</th>\n",
       "    </tr>\n",
       "  </thead>\n",
       "  <tbody>\n",
       "    <tr>\n",
       "      <th>0</th>\n",
       "      <td>213</td>\n",
       "      <td>21.203191</td>\n",
       "      <td>1001</td>\n",
       "      <td>2021-06-28 16:07:22</td>\n",
       "      <td>52.159396</td>\n",
       "      <td>1</td>\n",
       "      <td>0.0</td>\n",
       "      <td>POINT (21.20319 52.15940)</td>\n",
       "    </tr>\n",
       "    <tr>\n",
       "      <th>1</th>\n",
       "      <td>213</td>\n",
       "      <td>21.212667</td>\n",
       "      <td>1003</td>\n",
       "      <td>2021-06-28 16:07:18</td>\n",
       "      <td>52.161133</td>\n",
       "      <td>05</td>\n",
       "      <td>1.0</td>\n",
       "      <td>POINT (21.21267 52.16113)</td>\n",
       "    </tr>\n",
       "    <tr>\n",
       "      <th>2</th>\n",
       "      <td>213</td>\n",
       "      <td>21.102286</td>\n",
       "      <td>1004</td>\n",
       "      <td>2021-06-28 16:07:15</td>\n",
       "      <td>52.222845</td>\n",
       "      <td>3</td>\n",
       "      <td>2.0</td>\n",
       "      <td>POINT (21.10229 52.22285)</td>\n",
       "    </tr>\n",
       "    <tr>\n",
       "      <th>3</th>\n",
       "      <td>196</td>\n",
       "      <td>21.177343</td>\n",
       "      <td>1005</td>\n",
       "      <td>2021-06-28 16:07:18</td>\n",
       "      <td>52.256837</td>\n",
       "      <td>2</td>\n",
       "      <td>3.0</td>\n",
       "      <td>POINT (21.17734 52.25684)</td>\n",
       "    </tr>\n",
       "    <tr>\n",
       "      <th>4</th>\n",
       "      <td>196</td>\n",
       "      <td>21.176384</td>\n",
       "      <td>1008</td>\n",
       "      <td>2021-06-28 16:07:14</td>\n",
       "      <td>52.256761</td>\n",
       "      <td>03</td>\n",
       "      <td>4.0</td>\n",
       "      <td>POINT (21.17638 52.25676)</td>\n",
       "    </tr>\n",
       "  </tbody>\n",
       "</table>\n",
       "</div>"
      ],
      "text/plain": [
       "  Lines        Lon VehicleNumber                Time        Lat Brigade  \\\n",
       "0   213  21.203191          1001 2021-06-28 16:07:22  52.159396       1   \n",
       "1   213  21.212667          1003 2021-06-28 16:07:18  52.161133      05   \n",
       "2   213  21.102286          1004 2021-06-28 16:07:15  52.222845       3   \n",
       "3   196  21.177343          1005 2021-06-28 16:07:18  52.256837       2   \n",
       "4   196  21.176384          1008 2021-06-28 16:07:14  52.256761      03   \n",
       "\n",
       "   Unnamed: 0                   geometry  \n",
       "0         0.0  POINT (21.20319 52.15940)  \n",
       "1         1.0  POINT (21.21267 52.16113)  \n",
       "2         2.0  POINT (21.10229 52.22285)  \n",
       "3         3.0  POINT (21.17734 52.25684)  \n",
       "4         4.0  POINT (21.17638 52.25676)  "
      ]
     },
     "execution_count": 19,
     "metadata": {},
     "output_type": "execute_result"
    }
   ],
   "source": [
    "gdf_day.head()"
   ]
  },
  {
   "cell_type": "markdown",
   "id": "50d0ae1c-92be-41cc-ac9f-f08d238e7a57",
   "metadata": {},
   "source": [
    "Konwertowanie zapisu przestrzennego z CRS na projected CRS (potrzebne do obliczania odległości)"
   ]
  },
  {
   "cell_type": "code",
   "execution_count": 20,
   "id": "384eab92-c009-4bf3-878f-39c79f387cdf",
   "metadata": {},
   "outputs": [],
   "source": [
    "gdf_day = gdf_day.to_crs(epsg=2178)"
   ]
  },
  {
   "cell_type": "code",
   "execution_count": 21,
   "id": "24e8b73a-290e-4009-856c-6a226f001c01",
   "metadata": {},
   "outputs": [
    {
     "data": {
      "text/plain": [
       "<Projected CRS: EPSG:2178>\n",
       "Name: ETRS89 / Poland CS2000 zone 7\n",
       "Axis Info [cartesian]:\n",
       "- x[north]: Northing (metre)\n",
       "- y[east]: Easting (metre)\n",
       "Area of Use:\n",
       "- name: Poland - onshore and offshore between 19°30'E and 22°30'E.\n",
       "- bounds: (19.5, 49.09, 22.5, 54.55)\n",
       "Coordinate Operation:\n",
       "- name: Poland CS2000 zone 7\n",
       "- method: Transverse Mercator\n",
       "Datum: European Terrestrial Reference System 1989 ensemble\n",
       "- Ellipsoid: GRS 1980\n",
       "- Prime Meridian: Greenwich"
      ]
     },
     "execution_count": 21,
     "metadata": {},
     "output_type": "execute_result"
    }
   ],
   "source": [
    "gdf_day.crs"
   ]
  },
  {
   "cell_type": "markdown",
   "id": "a0478d18-3da0-4cdf-985b-17bd1668e024",
   "metadata": {},
   "source": [
    "\n",
    "Sortowanie GeoDataFrame ze względu na kolumny VehicleNumber i Time"
   ]
  },
  {
   "cell_type": "code",
   "execution_count": 22,
   "id": "53b1c7b2-5ab5-4f51-90b1-e1d03c4c4c62",
   "metadata": {},
   "outputs": [],
   "source": [
    "gdf_day = spacial_data_analysis_ztm.sort_vehicle_number_time(gdf_day)"
   ]
  },
  {
   "cell_type": "code",
   "execution_count": null,
   "id": "078607ca-d320-45a6-b4e8-af152b267b73",
   "metadata": {},
   "outputs": [],
   "source": []
  },
  {
   "cell_type": "markdown",
   "id": "4a19cdf1-c9be-4de5-9eab-140cbc838a4a",
   "metadata": {},
   "source": [
    "Usuwanie duplikotów bazując na bazując na VehicleNumber i Time"
   ]
  },
  {
   "cell_type": "code",
   "execution_count": 23,
   "id": "636ab096-f8ec-46e4-a4fe-6eb403e83022",
   "metadata": {},
   "outputs": [],
   "source": [
    "gdf_day = spacial_data_analysis_ztm.remove_duplicates(gdf_day)\n"
   ]
  },
  {
   "cell_type": "markdown",
   "id": "0ba47925-5370-463d-b99b-801efc5fc3b4",
   "metadata": {},
   "source": [
    "Usuwanie tych pojazdów (vehlcle), które występują tylko jeden raz (nie da się nic policzyć; często jest to jakaś pozostałość, która zostaje w danych)"
   ]
  },
  {
   "cell_type": "code",
   "execution_count": 24,
   "id": "bcbd3ea4-2b49-4a3e-b958-7dc1b559dcd8",
   "metadata": {},
   "outputs": [],
   "source": [
    "gdf_day = spacial_data_analysis_ztm.remove_vehicles_one_occurrence(gdf_day)"
   ]
  },
  {
   "cell_type": "markdown",
   "id": "4cb2cc56-af72-4570-9718-fbcbce8b2dc1",
   "metadata": {},
   "source": [
    "Kalkulowanie dystansu pomiędzy punktami (POINT) w kolumnie geometry, oraz obliczanie różnic czasu na podstawie kolumny Time (TIMEDELTAS)"
   ]
  },
  {
   "cell_type": "code",
   "execution_count": 25,
   "id": "170cea49-4a9c-4a20-957f-efba6af64316",
   "metadata": {},
   "outputs": [
    {
     "name": "stdout",
     "output_type": "stream",
     "text": [
      "[...................................................]"
     ]
    }
   ],
   "source": [
    "gdf_day = spacial_data_analysis_ztm.calculate_distance_timedelta(gdf_day)\n",
    "\n"
   ]
  },
  {
   "cell_type": "code",
   "execution_count": 26,
   "id": "6791b1bf-b8de-4eb1-84be-7267567e65ed",
   "metadata": {},
   "outputs": [
    {
     "data": {
      "text/plain": [
       "112137"
      ]
     },
     "execution_count": 26,
     "metadata": {},
     "output_type": "execute_result"
    }
   ],
   "source": [
    "len(gdf_day)"
   ]
  },
  {
   "cell_type": "markdown",
   "id": "6fde10c6-2e35-4a81-8e63-a11fbc9f2070",
   "metadata": {},
   "source": [
    "Sprawdzanie pierwszych kilku wierszy"
   ]
  },
  {
   "cell_type": "code",
   "execution_count": 27,
   "id": "b3ffe584-bd4a-4aa5-93e4-040058138dfb",
   "metadata": {},
   "outputs": [
    {
     "data": {
      "text/html": [
       "<div>\n",
       "<style scoped>\n",
       "    .dataframe tbody tr th:only-of-type {\n",
       "        vertical-align: middle;\n",
       "    }\n",
       "\n",
       "    .dataframe tbody tr th {\n",
       "        vertical-align: top;\n",
       "    }\n",
       "\n",
       "    .dataframe thead th {\n",
       "        text-align: right;\n",
       "    }\n",
       "</style>\n",
       "<table border=\"1\" class=\"dataframe\">\n",
       "  <thead>\n",
       "    <tr style=\"text-align: right;\">\n",
       "      <th></th>\n",
       "      <th>Lines</th>\n",
       "      <th>Lon</th>\n",
       "      <th>VehicleNumber</th>\n",
       "      <th>Time</th>\n",
       "      <th>Lat</th>\n",
       "      <th>Brigade</th>\n",
       "      <th>Unnamed: 0</th>\n",
       "      <th>geometry</th>\n",
       "      <th>distance</th>\n",
       "      <th>TimeDelta</th>\n",
       "    </tr>\n",
       "  </thead>\n",
       "  <tbody>\n",
       "    <tr>\n",
       "      <th>805</th>\n",
       "      <td>110</td>\n",
       "      <td>20.968691</td>\n",
       "      <td>742</td>\n",
       "      <td>2021-06-28 16:07:21</td>\n",
       "      <td>52.272133</td>\n",
       "      <td>1</td>\n",
       "      <td>805.0</td>\n",
       "      <td>POINT (7497862.988 5793178.124)</td>\n",
       "      <td>NaN</td>\n",
       "      <td>NaT</td>\n",
       "    </tr>\n",
       "    <tr>\n",
       "      <th>2276</th>\n",
       "      <td>110</td>\n",
       "      <td>20.968685</td>\n",
       "      <td>742</td>\n",
       "      <td>2021-06-28 16:08:17</td>\n",
       "      <td>52.272137</td>\n",
       "      <td>1</td>\n",
       "      <td>805.0</td>\n",
       "      <td>POINT (7497862.578 5793178.570)</td>\n",
       "      <td>0.604808</td>\n",
       "      <td>0 days 00:00:56</td>\n",
       "    </tr>\n",
       "    <tr>\n",
       "      <th>3753</th>\n",
       "      <td>110</td>\n",
       "      <td>20.968588</td>\n",
       "      <td>742</td>\n",
       "      <td>2021-06-28 16:11:21</td>\n",
       "      <td>52.272190</td>\n",
       "      <td>1</td>\n",
       "      <td>805.0</td>\n",
       "      <td>POINT (7497855.960 5793184.469)</td>\n",
       "      <td>8.866186</td>\n",
       "      <td>0 days 00:03:04</td>\n",
       "    </tr>\n",
       "    <tr>\n",
       "      <th>5227</th>\n",
       "      <td>110</td>\n",
       "      <td>20.968618</td>\n",
       "      <td>742</td>\n",
       "      <td>2021-06-28 16:14:25</td>\n",
       "      <td>52.272160</td>\n",
       "      <td>1</td>\n",
       "      <td>807.0</td>\n",
       "      <td>POINT (7497858.006 5793181.131)</td>\n",
       "      <td>3.915946</td>\n",
       "      <td>0 days 00:03:04</td>\n",
       "    </tr>\n",
       "    <tr>\n",
       "      <th>6703</th>\n",
       "      <td>110</td>\n",
       "      <td>20.968636</td>\n",
       "      <td>742</td>\n",
       "      <td>2021-06-28 16:17:29</td>\n",
       "      <td>52.272190</td>\n",
       "      <td>1</td>\n",
       "      <td>807.0</td>\n",
       "      <td>POINT (7497859.236 5793184.468)</td>\n",
       "      <td>3.556846</td>\n",
       "      <td>0 days 00:03:04</td>\n",
       "    </tr>\n",
       "  </tbody>\n",
       "</table>\n",
       "</div>"
      ],
      "text/plain": [
       "     Lines        Lon VehicleNumber                Time        Lat Brigade  \\\n",
       "805    110  20.968691           742 2021-06-28 16:07:21  52.272133       1   \n",
       "2276   110  20.968685           742 2021-06-28 16:08:17  52.272137       1   \n",
       "3753   110  20.968588           742 2021-06-28 16:11:21  52.272190       1   \n",
       "5227   110  20.968618           742 2021-06-28 16:14:25  52.272160       1   \n",
       "6703   110  20.968636           742 2021-06-28 16:17:29  52.272190       1   \n",
       "\n",
       "      Unnamed: 0                         geometry  distance       TimeDelta  \n",
       "805        805.0  POINT (7497862.988 5793178.124)       NaN             NaT  \n",
       "2276       805.0  POINT (7497862.578 5793178.570)  0.604808 0 days 00:00:56  \n",
       "3753       805.0  POINT (7497855.960 5793184.469)  8.866186 0 days 00:03:04  \n",
       "5227       807.0  POINT (7497858.006 5793181.131)  3.915946 0 days 00:03:04  \n",
       "6703       807.0  POINT (7497859.236 5793184.468)  3.556846 0 days 00:03:04  "
      ]
     },
     "execution_count": 27,
     "metadata": {},
     "output_type": "execute_result"
    }
   ],
   "source": [
    "gdf_day.head()"
   ]
  },
  {
   "cell_type": "markdown",
   "id": "e0c19691-1b53-443b-88e6-0ddcf92d02f6",
   "metadata": {},
   "source": [
    "Kalkulowanie metrów na sekundę - dzielenie metrów na różnicę w czasie (timedeltas)"
   ]
  },
  {
   "cell_type": "code",
   "execution_count": 28,
   "id": "3e26c529-2fa1-49b6-b89b-69cb7c3c61fc",
   "metadata": {},
   "outputs": [],
   "source": [
    "gdf_day = spacial_data_analysis_ztm.calculate_mpers(gdf_day)"
   ]
  },
  {
   "cell_type": "code",
   "execution_count": 29,
   "id": "f1e9772a-d6c2-4b61-80e9-054677d21122",
   "metadata": {},
   "outputs": [
    {
     "data": {
      "text/html": [
       "<div>\n",
       "<style scoped>\n",
       "    .dataframe tbody tr th:only-of-type {\n",
       "        vertical-align: middle;\n",
       "    }\n",
       "\n",
       "    .dataframe tbody tr th {\n",
       "        vertical-align: top;\n",
       "    }\n",
       "\n",
       "    .dataframe thead th {\n",
       "        text-align: right;\n",
       "    }\n",
       "</style>\n",
       "<table border=\"1\" class=\"dataframe\">\n",
       "  <thead>\n",
       "    <tr style=\"text-align: right;\">\n",
       "      <th></th>\n",
       "      <th>Lines</th>\n",
       "      <th>Lon</th>\n",
       "      <th>VehicleNumber</th>\n",
       "      <th>Time</th>\n",
       "      <th>Lat</th>\n",
       "      <th>Brigade</th>\n",
       "      <th>Unnamed: 0</th>\n",
       "      <th>geometry</th>\n",
       "      <th>distance</th>\n",
       "      <th>TimeDelta</th>\n",
       "      <th>seconds</th>\n",
       "      <th>speed_m/s</th>\n",
       "      <th>speed_km/h</th>\n",
       "    </tr>\n",
       "  </thead>\n",
       "  <tbody>\n",
       "    <tr>\n",
       "      <th>805</th>\n",
       "      <td>110</td>\n",
       "      <td>20.968691</td>\n",
       "      <td>742</td>\n",
       "      <td>2021-06-28 16:07:21</td>\n",
       "      <td>52.272133</td>\n",
       "      <td>1</td>\n",
       "      <td>805.0</td>\n",
       "      <td>POINT (7497862.988 5793178.124)</td>\n",
       "      <td>NaN</td>\n",
       "      <td>NaT</td>\n",
       "      <td>NaN</td>\n",
       "      <td>NaN</td>\n",
       "      <td>NaN</td>\n",
       "    </tr>\n",
       "    <tr>\n",
       "      <th>2276</th>\n",
       "      <td>110</td>\n",
       "      <td>20.968685</td>\n",
       "      <td>742</td>\n",
       "      <td>2021-06-28 16:08:17</td>\n",
       "      <td>52.272137</td>\n",
       "      <td>1</td>\n",
       "      <td>805.0</td>\n",
       "      <td>POINT (7497862.578 5793178.570)</td>\n",
       "      <td>0.604808</td>\n",
       "      <td>0 days 00:00:56</td>\n",
       "      <td>56.0</td>\n",
       "      <td>0.010800</td>\n",
       "      <td>0.038880</td>\n",
       "    </tr>\n",
       "    <tr>\n",
       "      <th>3753</th>\n",
       "      <td>110</td>\n",
       "      <td>20.968588</td>\n",
       "      <td>742</td>\n",
       "      <td>2021-06-28 16:11:21</td>\n",
       "      <td>52.272190</td>\n",
       "      <td>1</td>\n",
       "      <td>805.0</td>\n",
       "      <td>POINT (7497855.960 5793184.469)</td>\n",
       "      <td>8.866186</td>\n",
       "      <td>0 days 00:03:04</td>\n",
       "      <td>184.0</td>\n",
       "      <td>0.048186</td>\n",
       "      <td>0.173469</td>\n",
       "    </tr>\n",
       "    <tr>\n",
       "      <th>5227</th>\n",
       "      <td>110</td>\n",
       "      <td>20.968618</td>\n",
       "      <td>742</td>\n",
       "      <td>2021-06-28 16:14:25</td>\n",
       "      <td>52.272160</td>\n",
       "      <td>1</td>\n",
       "      <td>807.0</td>\n",
       "      <td>POINT (7497858.006 5793181.131)</td>\n",
       "      <td>3.915946</td>\n",
       "      <td>0 days 00:03:04</td>\n",
       "      <td>184.0</td>\n",
       "      <td>0.021282</td>\n",
       "      <td>0.076616</td>\n",
       "    </tr>\n",
       "    <tr>\n",
       "      <th>6703</th>\n",
       "      <td>110</td>\n",
       "      <td>20.968636</td>\n",
       "      <td>742</td>\n",
       "      <td>2021-06-28 16:17:29</td>\n",
       "      <td>52.272190</td>\n",
       "      <td>1</td>\n",
       "      <td>807.0</td>\n",
       "      <td>POINT (7497859.236 5793184.468)</td>\n",
       "      <td>3.556846</td>\n",
       "      <td>0 days 00:03:04</td>\n",
       "      <td>184.0</td>\n",
       "      <td>0.019331</td>\n",
       "      <td>0.069590</td>\n",
       "    </tr>\n",
       "  </tbody>\n",
       "</table>\n",
       "</div>"
      ],
      "text/plain": [
       "     Lines        Lon VehicleNumber                Time        Lat Brigade  \\\n",
       "805    110  20.968691           742 2021-06-28 16:07:21  52.272133       1   \n",
       "2276   110  20.968685           742 2021-06-28 16:08:17  52.272137       1   \n",
       "3753   110  20.968588           742 2021-06-28 16:11:21  52.272190       1   \n",
       "5227   110  20.968618           742 2021-06-28 16:14:25  52.272160       1   \n",
       "6703   110  20.968636           742 2021-06-28 16:17:29  52.272190       1   \n",
       "\n",
       "      Unnamed: 0                         geometry  distance       TimeDelta  \\\n",
       "805        805.0  POINT (7497862.988 5793178.124)       NaN             NaT   \n",
       "2276       805.0  POINT (7497862.578 5793178.570)  0.604808 0 days 00:00:56   \n",
       "3753       805.0  POINT (7497855.960 5793184.469)  8.866186 0 days 00:03:04   \n",
       "5227       807.0  POINT (7497858.006 5793181.131)  3.915946 0 days 00:03:04   \n",
       "6703       807.0  POINT (7497859.236 5793184.468)  3.556846 0 days 00:03:04   \n",
       "\n",
       "      seconds  speed_m/s  speed_km/h  \n",
       "805       NaN        NaN         NaN  \n",
       "2276     56.0   0.010800    0.038880  \n",
       "3753    184.0   0.048186    0.173469  \n",
       "5227    184.0   0.021282    0.076616  \n",
       "6703    184.0   0.019331    0.069590  "
      ]
     },
     "execution_count": 29,
     "metadata": {},
     "output_type": "execute_result"
    }
   ],
   "source": [
    "gdf_day.head()"
   ]
  },
  {
   "cell_type": "code",
   "execution_count": null,
   "id": "9eb44728-9be8-4c61-a4de-72f1ebe19245",
   "metadata": {},
   "outputs": [],
   "source": []
  },
  {
   "cell_type": "code",
   "execution_count": null,
   "id": "6722fd7e-b601-4893-b398-2003ffe86809",
   "metadata": {},
   "outputs": [],
   "source": []
  },
  {
   "cell_type": "code",
   "execution_count": null,
   "id": "ffd54850-99f8-4363-b0af-47ce8d98f3d1",
   "metadata": {},
   "outputs": [],
   "source": []
  },
  {
   "cell_type": "code",
   "execution_count": null,
   "id": "cc23d145-b74a-473e-8706-3d849fc335d8",
   "metadata": {},
   "outputs": [],
   "source": []
  },
  {
   "cell_type": "code",
   "execution_count": null,
   "id": "146c40b2-14d5-44e6-af1f-1dd6330feef0",
   "metadata": {},
   "outputs": [],
   "source": []
  },
  {
   "cell_type": "markdown",
   "id": "b52e8b11-3fce-486b-9ed5-14bfff2f8e82",
   "metadata": {},
   "source": [
    "### Ładowanie mapy Warszawy z dzielnicami"
   ]
  },
  {
   "cell_type": "code",
   "execution_count": 30,
   "id": "cfb24340-a11e-4d9f-8dfc-60ffc43ece59",
   "metadata": {},
   "outputs": [],
   "source": [
    "warsaw_file = \"https://raw.githubusercontent.com/andilabs/warszawa-dzielnice-geojson/master/warszawa-dzielnice.geojson\""
   ]
  },
  {
   "cell_type": "code",
   "execution_count": 31,
   "id": "169f7350-066e-46fb-ba59-ddb501a69615",
   "metadata": {},
   "outputs": [],
   "source": [
    "warsaw = gpd.read_file(warsaw_file)"
   ]
  },
  {
   "cell_type": "code",
   "execution_count": 32,
   "id": "587e8001-9a21-4373-8339-18c1626da4d5",
   "metadata": {},
   "outputs": [],
   "source": [
    "# usuwanie całej Warszawy (zostają dzielnice)\n",
    "warsaw = warsaw.iloc[1:]"
   ]
  },
  {
   "cell_type": "markdown",
   "id": "482f9c32-bec2-4803-9684-11ab70dc9be7",
   "metadata": {},
   "source": [
    "Konwertowanie zapisu przestrzennego z CRS na projected CRS"
   ]
  },
  {
   "cell_type": "code",
   "execution_count": 33,
   "id": "e4467c45-b41b-45a3-b36d-cce76726336e",
   "metadata": {},
   "outputs": [],
   "source": [
    "projected_crs_poland = 'epsg:2178'"
   ]
  },
  {
   "cell_type": "code",
   "execution_count": 34,
   "id": "c202a404-89b4-4434-9ea6-1c1d69e9e302",
   "metadata": {},
   "outputs": [],
   "source": [
    "warsaw = warsaw.to_crs(projected_crs_poland)"
   ]
  },
  {
   "cell_type": "code",
   "execution_count": null,
   "id": "a9095c5a-bbf2-4c0a-b840-035d718c951e",
   "metadata": {},
   "outputs": [],
   "source": []
  },
  {
   "cell_type": "markdown",
   "id": "5f8a35b4-4b5f-4ff0-ba44-cacd170cdf1d",
   "metadata": {},
   "source": [
    "#### Porównanie najwiekszej prędkości z dnia na największą prędkość z nocy"
   ]
  },
  {
   "cell_type": "code",
   "execution_count": 50,
   "id": "35728184-4a5d-4c34-b602-3c1ec0ecc1d4",
   "metadata": {},
   "outputs": [],
   "source": [
    "gdf_night = gdf_night.reset_index()"
   ]
  },
  {
   "cell_type": "code",
   "execution_count": 51,
   "id": "e3ed4040-f86b-4be6-a3f3-ab4b7e3a01dd",
   "metadata": {},
   "outputs": [],
   "source": [
    "gdf_day = gdf_day.reset_index()"
   ]
  },
  {
   "cell_type": "code",
   "execution_count": 35,
   "id": "6dfc90f0-8392-4d1b-8abd-de16d43f4afa",
   "metadata": {},
   "outputs": [
    {
     "data": {
      "text/plain": [
       "81.39289804045526"
      ]
     },
     "execution_count": 35,
     "metadata": {},
     "output_type": "execute_result"
    }
   ],
   "source": [
    "# noc\n",
    "gdf_night['speed_km/h'].max()"
   ]
  },
  {
   "cell_type": "code",
   "execution_count": 36,
   "id": "e49eaab7-18ca-4136-9a8f-081230df9f95",
   "metadata": {},
   "outputs": [
    {
     "data": {
      "text/plain": [
       "2278.568236017543"
      ]
     },
     "execution_count": 36,
     "metadata": {},
     "output_type": "execute_result"
    }
   ],
   "source": [
    "# dzień\n",
    "gdf_day['speed_km/h'].max()"
   ]
  },
  {
   "cell_type": "code",
   "execution_count": null,
   "id": "cac1b132-32e4-4559-894c-010992f69bdb",
   "metadata": {},
   "outputs": [],
   "source": []
  },
  {
   "cell_type": "markdown",
   "id": "a306b483-c174-4058-bf1a-407d1661c013",
   "metadata": {},
   "source": [
    "#### Procent prędkości powyżej 50 km/h"
   ]
  },
  {
   "cell_type": "code",
   "execution_count": null,
   "id": "08b0d58a-7395-4bb8-9fcc-51cd6785d6af",
   "metadata": {},
   "outputs": [],
   "source": []
  },
  {
   "cell_type": "code",
   "execution_count": 19,
   "id": "3ab507b1-22bd-4eb4-9260-2290372ac9e7",
   "metadata": {},
   "outputs": [
    {
     "data": {
      "text/plain": [
       "81.39289804045526"
      ]
     },
     "execution_count": 19,
     "metadata": {},
     "output_type": "execute_result"
    }
   ],
   "source": []
  },
  {
   "cell_type": "code",
   "execution_count": 39,
   "id": "7b0dbe89-5432-41a4-92f9-9e0b3deef733",
   "metadata": {},
   "outputs": [],
   "source": [
    "speeding_buses = gdf_night[gdf_night['speed_km/h'] > 80]"
   ]
  },
  {
   "cell_type": "code",
   "execution_count": 40,
   "id": "41f44798-0506-4eaf-96cb-0e0e36d0f435",
   "metadata": {},
   "outputs": [
    {
     "data": {
      "text/html": [
       "<div>\n",
       "<style scoped>\n",
       "    .dataframe tbody tr th:only-of-type {\n",
       "        vertical-align: middle;\n",
       "    }\n",
       "\n",
       "    .dataframe tbody tr th {\n",
       "        vertical-align: top;\n",
       "    }\n",
       "\n",
       "    .dataframe thead th {\n",
       "        text-align: right;\n",
       "    }\n",
       "</style>\n",
       "<table border=\"1\" class=\"dataframe\">\n",
       "  <thead>\n",
       "    <tr style=\"text-align: right;\">\n",
       "      <th></th>\n",
       "      <th>Lines</th>\n",
       "      <th>Lon</th>\n",
       "      <th>VehicleNumber</th>\n",
       "      <th>Time</th>\n",
       "      <th>Lat</th>\n",
       "      <th>Brigade</th>\n",
       "      <th>Unnamed: 0</th>\n",
       "      <th>geometry</th>\n",
       "      <th>distance</th>\n",
       "      <th>TimeDelta</th>\n",
       "      <th>seconds</th>\n",
       "      <th>speed_m/s</th>\n",
       "      <th>speed_km/h</th>\n",
       "    </tr>\n",
       "  </thead>\n",
       "  <tbody>\n",
       "    <tr>\n",
       "      <th>9779</th>\n",
       "      <td>N86</td>\n",
       "      <td>21.005445</td>\n",
       "      <td>8891</td>\n",
       "      <td>2021-06-28 01:02:15</td>\n",
       "      <td>52.216801</td>\n",
       "      <td>1</td>\n",
       "      <td>447.0</td>\n",
       "      <td>POINT (7500372.134 5787021.282)</td>\n",
       "      <td>678.27415</td>\n",
       "      <td>0 days 00:00:30</td>\n",
       "      <td>30.0</td>\n",
       "      <td>22.609138</td>\n",
       "      <td>81.392898</td>\n",
       "    </tr>\n",
       "  </tbody>\n",
       "</table>\n",
       "</div>"
      ],
      "text/plain": [
       "     Lines        Lon VehicleNumber                Time        Lat Brigade  \\\n",
       "9779   N86  21.005445          8891 2021-06-28 01:02:15  52.216801       1   \n",
       "\n",
       "      Unnamed: 0                         geometry   distance       TimeDelta  \\\n",
       "9779       447.0  POINT (7500372.134 5787021.282)  678.27415 0 days 00:00:30   \n",
       "\n",
       "      seconds  speed_m/s  speed_km/h  \n",
       "9779     30.0  22.609138   81.392898  "
      ]
     },
     "execution_count": 40,
     "metadata": {},
     "output_type": "execute_result"
    }
   ],
   "source": [
    "speeding_buses"
   ]
  },
  {
   "cell_type": "code",
   "execution_count": null,
   "id": "55276071-3dbd-4809-8700-d9f71e06004e",
   "metadata": {},
   "outputs": [],
   "source": []
  },
  {
   "cell_type": "code",
   "execution_count": null,
   "id": "3b9cf297-3665-4d81-960d-8471d10ddb5a",
   "metadata": {},
   "outputs": [],
   "source": []
  },
  {
   "cell_type": "code",
   "execution_count": 52,
   "id": "76aa81c1-bf08-4227-add1-d296bcb8b4c9",
   "metadata": {},
   "outputs": [],
   "source": [
    "speeding_buses = gdf_day[gdf_day['speed_km/h'] > 50 && gdf_day['speed_km/h'] < 100]"
   ]
  },
  {
   "cell_type": "code",
   "execution_count": 53,
   "id": "ef6eb8ac-f3c9-4132-959d-6a5a9766e45f",
   "metadata": {},
   "outputs": [
    {
     "data": {
      "text/html": [
       "<div>\n",
       "<style scoped>\n",
       "    .dataframe tbody tr th:only-of-type {\n",
       "        vertical-align: middle;\n",
       "    }\n",
       "\n",
       "    .dataframe tbody tr th {\n",
       "        vertical-align: top;\n",
       "    }\n",
       "\n",
       "    .dataframe thead th {\n",
       "        text-align: right;\n",
       "    }\n",
       "</style>\n",
       "<table border=\"1\" class=\"dataframe\">\n",
       "  <thead>\n",
       "    <tr style=\"text-align: right;\">\n",
       "      <th></th>\n",
       "      <th>index</th>\n",
       "      <th>Lines</th>\n",
       "      <th>Lon</th>\n",
       "      <th>VehicleNumber</th>\n",
       "      <th>Time</th>\n",
       "      <th>Lat</th>\n",
       "      <th>Brigade</th>\n",
       "      <th>Unnamed: 0</th>\n",
       "      <th>geometry</th>\n",
       "      <th>distance</th>\n",
       "      <th>TimeDelta</th>\n",
       "      <th>seconds</th>\n",
       "      <th>speed_m/s</th>\n",
       "      <th>speed_km/h</th>\n",
       "    </tr>\n",
       "  </thead>\n",
       "  <tbody>\n",
       "    <tr>\n",
       "      <th>15929</th>\n",
       "      <td>1690</td>\n",
       "      <td>139</td>\n",
       "      <td>21.939664</td>\n",
       "      <td>1907</td>\n",
       "      <td>2021-06-28 16:08:16</td>\n",
       "      <td>52.220501</td>\n",
       "      <td>54</td>\n",
       "      <td>219.0</td>\n",
       "      <td>POINT (7564211.057 5787849.131)</td>\n",
       "      <td>6254.873131</td>\n",
       "      <td>0 days 00:01:00</td>\n",
       "      <td>60.0</td>\n",
       "      <td>104.247886</td>\n",
       "      <td>375.292388</td>\n",
       "    </tr>\n",
       "    <tr>\n",
       "      <th>15930</th>\n",
       "      <td>3167</td>\n",
       "      <td>139</td>\n",
       "      <td>22.405142</td>\n",
       "      <td>1907</td>\n",
       "      <td>2021-06-28 16:11:16</td>\n",
       "      <td>51.810956</td>\n",
       "      <td>54</td>\n",
       "      <td>219.0</td>\n",
       "      <td>POINT (7596898.585 5742801.297)</td>\n",
       "      <td>55657.720150</td>\n",
       "      <td>0 days 00:03:00</td>\n",
       "      <td>180.0</td>\n",
       "      <td>309.209556</td>\n",
       "      <td>1113.154403</td>\n",
       "    </tr>\n",
       "    <tr>\n",
       "      <th>15931</th>\n",
       "      <td>4639</td>\n",
       "      <td>139</td>\n",
       "      <td>22.630547</td>\n",
       "      <td>1907</td>\n",
       "      <td>2021-06-28 16:14:17</td>\n",
       "      <td>51.671944</td>\n",
       "      <td>54</td>\n",
       "      <td>219.0</td>\n",
       "      <td>POINT (7612787.264 5727660.814)</td>\n",
       "      <td>21947.308453</td>\n",
       "      <td>0 days 00:03:01</td>\n",
       "      <td>181.0</td>\n",
       "      <td>121.255848</td>\n",
       "      <td>436.521052</td>\n",
       "    </tr>\n",
       "    <tr>\n",
       "      <th>15932</th>\n",
       "      <td>6115</td>\n",
       "      <td>139</td>\n",
       "      <td>21.084335</td>\n",
       "      <td>1907</td>\n",
       "      <td>2021-06-28 16:17:26</td>\n",
       "      <td>52.163698</td>\n",
       "      <td>54</td>\n",
       "      <td>219.0</td>\n",
       "      <td>POINT (7505770.372 5781116.266)</td>\n",
       "      <td>119624.832391</td>\n",
       "      <td>0 days 00:03:09</td>\n",
       "      <td>189.0</td>\n",
       "      <td>632.935621</td>\n",
       "      <td>2278.568236</td>\n",
       "    </tr>\n",
       "    <tr>\n",
       "      <th>24651</th>\n",
       "      <td>105110</td>\n",
       "      <td>185</td>\n",
       "      <td>21.025814</td>\n",
       "      <td>3423</td>\n",
       "      <td>2021-06-28 17:22:06</td>\n",
       "      <td>52.242146</td>\n",
       "      <td>10</td>\n",
       "      <td>339.0</td>\n",
       "      <td>POINT (7501763.103 5789841.468)</td>\n",
       "      <td>160.570756</td>\n",
       "      <td>0 days 00:00:05</td>\n",
       "      <td>5.0</td>\n",
       "      <td>32.114151</td>\n",
       "      <td>115.610944</td>\n",
       "    </tr>\n",
       "    <tr>\n",
       "      <th>53148</th>\n",
       "      <td>36184</td>\n",
       "      <td>706</td>\n",
       "      <td>20.967652</td>\n",
       "      <td>7226</td>\n",
       "      <td>2021-06-28 16:36:44</td>\n",
       "      <td>52.165144</td>\n",
       "      <td>1</td>\n",
       "      <td>751.0</td>\n",
       "      <td>POINT (7497786.751 5781274.246)</td>\n",
       "      <td>2044.433446</td>\n",
       "      <td>0 days 00:01:09</td>\n",
       "      <td>69.0</td>\n",
       "      <td>29.629470</td>\n",
       "      <td>106.666093</td>\n",
       "    </tr>\n",
       "    <tr>\n",
       "      <th>53149</th>\n",
       "      <td>37662</td>\n",
       "      <td>706</td>\n",
       "      <td>20.942893</td>\n",
       "      <td>7226</td>\n",
       "      <td>2021-06-28 16:37:36</td>\n",
       "      <td>52.175118</td>\n",
       "      <td>1</td>\n",
       "      <td>751.0</td>\n",
       "      <td>POINT (7496093.628 5782385.017)</td>\n",
       "      <td>2024.964590</td>\n",
       "      <td>0 days 00:00:52</td>\n",
       "      <td>52.0</td>\n",
       "      <td>38.941627</td>\n",
       "      <td>140.189856</td>\n",
       "    </tr>\n",
       "    <tr>\n",
       "      <th>76625</th>\n",
       "      <td>14362</td>\n",
       "      <td>402</td>\n",
       "      <td>21.098527</td>\n",
       "      <td>8806</td>\n",
       "      <td>2021-06-28 16:21:55</td>\n",
       "      <td>52.218061</td>\n",
       "      <td>8</td>\n",
       "      <td>1076.0</td>\n",
       "      <td>POINT (7506733.212 5787166.013)</td>\n",
       "      <td>1205.261375</td>\n",
       "      <td>0 days 00:00:35</td>\n",
       "      <td>35.0</td>\n",
       "      <td>34.436039</td>\n",
       "      <td>123.969741</td>\n",
       "    </tr>\n",
       "    <tr>\n",
       "      <th>98036</th>\n",
       "      <td>55987</td>\n",
       "      <td>149</td>\n",
       "      <td>20.921910</td>\n",
       "      <td>9557</td>\n",
       "      <td>2021-06-28 16:49:14</td>\n",
       "      <td>52.240245</td>\n",
       "      <td>4</td>\n",
       "      <td>1358.0</td>\n",
       "      <td>POINT (7494666.113 5789632.598)</td>\n",
       "      <td>1589.339126</td>\n",
       "      <td>0 days 00:00:55</td>\n",
       "      <td>55.0</td>\n",
       "      <td>28.897075</td>\n",
       "      <td>104.029470</td>\n",
       "    </tr>\n",
       "    <tr>\n",
       "      <th>101553</th>\n",
       "      <td>82572</td>\n",
       "      <td>525</td>\n",
       "      <td>21.018232</td>\n",
       "      <td>9825</td>\n",
       "      <td>2021-06-28 16:07:25</td>\n",
       "      <td>52.217459</td>\n",
       "      <td>5</td>\n",
       "      <td>1407.0</td>\n",
       "      <td>POINT (7501245.965 5787094.602)</td>\n",
       "      <td>9995.146522</td>\n",
       "      <td>0 days 00:00:39</td>\n",
       "      <td>39.0</td>\n",
       "      <td>256.285808</td>\n",
       "      <td>922.628910</td>\n",
       "    </tr>\n",
       "  </tbody>\n",
       "</table>\n",
       "</div>"
      ],
      "text/plain": [
       "         index Lines        Lon VehicleNumber                Time        Lat  \\\n",
       "15929     1690   139  21.939664          1907 2021-06-28 16:08:16  52.220501   \n",
       "15930     3167   139  22.405142          1907 2021-06-28 16:11:16  51.810956   \n",
       "15931     4639   139  22.630547          1907 2021-06-28 16:14:17  51.671944   \n",
       "15932     6115   139  21.084335          1907 2021-06-28 16:17:26  52.163698   \n",
       "24651   105110   185  21.025814          3423 2021-06-28 17:22:06  52.242146   \n",
       "53148    36184   706  20.967652          7226 2021-06-28 16:36:44  52.165144   \n",
       "53149    37662   706  20.942893          7226 2021-06-28 16:37:36  52.175118   \n",
       "76625    14362   402  21.098527          8806 2021-06-28 16:21:55  52.218061   \n",
       "98036    55987   149  20.921910          9557 2021-06-28 16:49:14  52.240245   \n",
       "101553   82572   525  21.018232          9825 2021-06-28 16:07:25  52.217459   \n",
       "\n",
       "       Brigade  Unnamed: 0                         geometry       distance  \\\n",
       "15929       54       219.0  POINT (7564211.057 5787849.131)    6254.873131   \n",
       "15930       54       219.0  POINT (7596898.585 5742801.297)   55657.720150   \n",
       "15931       54       219.0  POINT (7612787.264 5727660.814)   21947.308453   \n",
       "15932       54       219.0  POINT (7505770.372 5781116.266)  119624.832391   \n",
       "24651       10       339.0  POINT (7501763.103 5789841.468)     160.570756   \n",
       "53148        1       751.0  POINT (7497786.751 5781274.246)    2044.433446   \n",
       "53149        1       751.0  POINT (7496093.628 5782385.017)    2024.964590   \n",
       "76625        8      1076.0  POINT (7506733.212 5787166.013)    1205.261375   \n",
       "98036        4      1358.0  POINT (7494666.113 5789632.598)    1589.339126   \n",
       "101553       5      1407.0  POINT (7501245.965 5787094.602)    9995.146522   \n",
       "\n",
       "             TimeDelta  seconds   speed_m/s   speed_km/h  \n",
       "15929  0 days 00:01:00     60.0  104.247886   375.292388  \n",
       "15930  0 days 00:03:00    180.0  309.209556  1113.154403  \n",
       "15931  0 days 00:03:01    181.0  121.255848   436.521052  \n",
       "15932  0 days 00:03:09    189.0  632.935621  2278.568236  \n",
       "24651  0 days 00:00:05      5.0   32.114151   115.610944  \n",
       "53148  0 days 00:01:09     69.0   29.629470   106.666093  \n",
       "53149  0 days 00:00:52     52.0   38.941627   140.189856  \n",
       "76625  0 days 00:00:35     35.0   34.436039   123.969741  \n",
       "98036  0 days 00:00:55     55.0   28.897075   104.029470  \n",
       "101553 0 days 00:00:39     39.0  256.285808   922.628910  "
      ]
     },
     "execution_count": 53,
     "metadata": {},
     "output_type": "execute_result"
    }
   ],
   "source": [
    "speeding_buses"
   ]
  },
  {
   "cell_type": "code",
   "execution_count": null,
   "id": "f70b0086-b437-42cb-ad25-3bdf6c8848dd",
   "metadata": {},
   "outputs": [],
   "source": []
  },
  {
   "cell_type": "code",
   "execution_count": 54,
   "id": "674e0c88-426c-42b2-99aa-79b8ade2bc8e",
   "metadata": {},
   "outputs": [
    {
     "data": {
      "text/html": [
       "<div>\n",
       "<style scoped>\n",
       "    .dataframe tbody tr th:only-of-type {\n",
       "        vertical-align: middle;\n",
       "    }\n",
       "\n",
       "    .dataframe tbody tr th {\n",
       "        vertical-align: top;\n",
       "    }\n",
       "\n",
       "    .dataframe thead th {\n",
       "        text-align: right;\n",
       "    }\n",
       "</style>\n",
       "<table border=\"1\" class=\"dataframe\">\n",
       "  <thead>\n",
       "    <tr style=\"text-align: right;\">\n",
       "      <th></th>\n",
       "      <th>index</th>\n",
       "      <th>Lines</th>\n",
       "      <th>Lon</th>\n",
       "      <th>VehicleNumber</th>\n",
       "      <th>Time</th>\n",
       "      <th>Lat</th>\n",
       "      <th>Brigade</th>\n",
       "      <th>Unnamed: 0</th>\n",
       "      <th>geometry</th>\n",
       "      <th>distance</th>\n",
       "      <th>TimeDelta</th>\n",
       "      <th>seconds</th>\n",
       "      <th>speed_m/s</th>\n",
       "      <th>speed_km/h</th>\n",
       "    </tr>\n",
       "  </thead>\n",
       "  <tbody>\n",
       "    <tr>\n",
       "      <th>15927</th>\n",
       "      <td>113832</td>\n",
       "      <td>251</td>\n",
       "      <td>21.045263</td>\n",
       "      <td>1906</td>\n",
       "      <td>2021-06-28 17:29:34</td>\n",
       "      <td>52.175081</td>\n",
       "      <td>52</td>\n",
       "      <td>220.0</td>\n",
       "      <td>POINT (7503096.186 5782380.307)</td>\n",
       "      <td>63.041996</td>\n",
       "      <td>0 days 00:00:50</td>\n",
       "      <td>50.0</td>\n",
       "      <td>1.260840</td>\n",
       "      <td>4.539024</td>\n",
       "    </tr>\n",
       "    <tr>\n",
       "      <th>15928</th>\n",
       "      <td>219</td>\n",
       "      <td>139</td>\n",
       "      <td>21.848253</td>\n",
       "      <td>1907</td>\n",
       "      <td>2021-06-28 16:07:16</td>\n",
       "      <td>52.223384</td>\n",
       "      <td>54</td>\n",
       "      <td>219.0</td>\n",
       "      <td>POINT (7557960.933 5788092.824)</td>\n",
       "      <td>NaN</td>\n",
       "      <td>NaT</td>\n",
       "      <td>NaN</td>\n",
       "      <td>NaN</td>\n",
       "      <td>NaN</td>\n",
       "    </tr>\n",
       "    <tr>\n",
       "      <th>15929</th>\n",
       "      <td>1690</td>\n",
       "      <td>139</td>\n",
       "      <td>21.939664</td>\n",
       "      <td>1907</td>\n",
       "      <td>2021-06-28 16:08:16</td>\n",
       "      <td>52.220501</td>\n",
       "      <td>54</td>\n",
       "      <td>219.0</td>\n",
       "      <td>POINT (7564211.057 5787849.131)</td>\n",
       "      <td>6254.873131</td>\n",
       "      <td>0 days 00:01:00</td>\n",
       "      <td>60.0</td>\n",
       "      <td>104.247886</td>\n",
       "      <td>375.292388</td>\n",
       "    </tr>\n",
       "    <tr>\n",
       "      <th>15930</th>\n",
       "      <td>3167</td>\n",
       "      <td>139</td>\n",
       "      <td>22.405142</td>\n",
       "      <td>1907</td>\n",
       "      <td>2021-06-28 16:11:16</td>\n",
       "      <td>51.810956</td>\n",
       "      <td>54</td>\n",
       "      <td>219.0</td>\n",
       "      <td>POINT (7596898.585 5742801.297)</td>\n",
       "      <td>55657.720150</td>\n",
       "      <td>0 days 00:03:00</td>\n",
       "      <td>180.0</td>\n",
       "      <td>309.209556</td>\n",
       "      <td>1113.154403</td>\n",
       "    </tr>\n",
       "    <tr>\n",
       "      <th>15931</th>\n",
       "      <td>4639</td>\n",
       "      <td>139</td>\n",
       "      <td>22.630547</td>\n",
       "      <td>1907</td>\n",
       "      <td>2021-06-28 16:14:17</td>\n",
       "      <td>51.671944</td>\n",
       "      <td>54</td>\n",
       "      <td>219.0</td>\n",
       "      <td>POINT (7612787.264 5727660.814)</td>\n",
       "      <td>21947.308453</td>\n",
       "      <td>0 days 00:03:01</td>\n",
       "      <td>181.0</td>\n",
       "      <td>121.255848</td>\n",
       "      <td>436.521052</td>\n",
       "    </tr>\n",
       "    <tr>\n",
       "      <th>15932</th>\n",
       "      <td>6115</td>\n",
       "      <td>139</td>\n",
       "      <td>21.084335</td>\n",
       "      <td>1907</td>\n",
       "      <td>2021-06-28 16:17:26</td>\n",
       "      <td>52.163698</td>\n",
       "      <td>54</td>\n",
       "      <td>219.0</td>\n",
       "      <td>POINT (7505770.372 5781116.266)</td>\n",
       "      <td>119624.832391</td>\n",
       "      <td>0 days 00:03:09</td>\n",
       "      <td>189.0</td>\n",
       "      <td>632.935621</td>\n",
       "      <td>2278.568236</td>\n",
       "    </tr>\n",
       "    <tr>\n",
       "      <th>15933</th>\n",
       "      <td>7593</td>\n",
       "      <td>139</td>\n",
       "      <td>21.084472</td>\n",
       "      <td>1907</td>\n",
       "      <td>2021-06-28 16:18:26</td>\n",
       "      <td>52.162945</td>\n",
       "      <td>54</td>\n",
       "      <td>219.0</td>\n",
       "      <td>POINT (7505779.850 5781032.419)</td>\n",
       "      <td>84.381172</td>\n",
       "      <td>0 days 00:01:00</td>\n",
       "      <td>60.0</td>\n",
       "      <td>1.406353</td>\n",
       "      <td>5.062870</td>\n",
       "    </tr>\n",
       "    <tr>\n",
       "      <th>15934</th>\n",
       "      <td>9073</td>\n",
       "      <td>139</td>\n",
       "      <td>21.085237</td>\n",
       "      <td>1907</td>\n",
       "      <td>2021-06-28 16:19:21</td>\n",
       "      <td>52.161686</td>\n",
       "      <td>54</td>\n",
       "      <td>219.0</td>\n",
       "      <td>POINT (7505832.324 5780892.401)</td>\n",
       "      <td>149.527308</td>\n",
       "      <td>0 days 00:00:55</td>\n",
       "      <td>55.0</td>\n",
       "      <td>2.718678</td>\n",
       "      <td>9.787242</td>\n",
       "    </tr>\n",
       "    <tr>\n",
       "      <th>15935</th>\n",
       "      <td>10549</td>\n",
       "      <td>139</td>\n",
       "      <td>21.086711</td>\n",
       "      <td>1907</td>\n",
       "      <td>2021-06-28 16:20:21</td>\n",
       "      <td>52.159775</td>\n",
       "      <td>54</td>\n",
       "      <td>219.0</td>\n",
       "      <td>POINT (7505933.457 5780679.933)</td>\n",
       "      <td>235.309835</td>\n",
       "      <td>0 days 00:01:00</td>\n",
       "      <td>60.0</td>\n",
       "      <td>3.921831</td>\n",
       "      <td>14.118590</td>\n",
       "    </tr>\n",
       "    <tr>\n",
       "      <th>15936</th>\n",
       "      <td>12027</td>\n",
       "      <td>139</td>\n",
       "      <td>21.086711</td>\n",
       "      <td>1907</td>\n",
       "      <td>2021-06-28 16:21:01</td>\n",
       "      <td>52.159775</td>\n",
       "      <td>54</td>\n",
       "      <td>219.0</td>\n",
       "      <td>POINT (7505933.457 5780679.933)</td>\n",
       "      <td>0.000000</td>\n",
       "      <td>0 days 00:00:40</td>\n",
       "      <td>40.0</td>\n",
       "      <td>0.000000</td>\n",
       "      <td>0.000000</td>\n",
       "    </tr>\n",
       "  </tbody>\n",
       "</table>\n",
       "</div>"
      ],
      "text/plain": [
       "        index Lines        Lon VehicleNumber                Time        Lat  \\\n",
       "15927  113832   251  21.045263          1906 2021-06-28 17:29:34  52.175081   \n",
       "15928     219   139  21.848253          1907 2021-06-28 16:07:16  52.223384   \n",
       "15929    1690   139  21.939664          1907 2021-06-28 16:08:16  52.220501   \n",
       "15930    3167   139  22.405142          1907 2021-06-28 16:11:16  51.810956   \n",
       "15931    4639   139  22.630547          1907 2021-06-28 16:14:17  51.671944   \n",
       "15932    6115   139  21.084335          1907 2021-06-28 16:17:26  52.163698   \n",
       "15933    7593   139  21.084472          1907 2021-06-28 16:18:26  52.162945   \n",
       "15934    9073   139  21.085237          1907 2021-06-28 16:19:21  52.161686   \n",
       "15935   10549   139  21.086711          1907 2021-06-28 16:20:21  52.159775   \n",
       "15936   12027   139  21.086711          1907 2021-06-28 16:21:01  52.159775   \n",
       "\n",
       "      Brigade  Unnamed: 0                         geometry       distance  \\\n",
       "15927      52       220.0  POINT (7503096.186 5782380.307)      63.041996   \n",
       "15928      54       219.0  POINT (7557960.933 5788092.824)            NaN   \n",
       "15929      54       219.0  POINT (7564211.057 5787849.131)    6254.873131   \n",
       "15930      54       219.0  POINT (7596898.585 5742801.297)   55657.720150   \n",
       "15931      54       219.0  POINT (7612787.264 5727660.814)   21947.308453   \n",
       "15932      54       219.0  POINT (7505770.372 5781116.266)  119624.832391   \n",
       "15933      54       219.0  POINT (7505779.850 5781032.419)      84.381172   \n",
       "15934      54       219.0  POINT (7505832.324 5780892.401)     149.527308   \n",
       "15935      54       219.0  POINT (7505933.457 5780679.933)     235.309835   \n",
       "15936      54       219.0  POINT (7505933.457 5780679.933)       0.000000   \n",
       "\n",
       "            TimeDelta  seconds   speed_m/s   speed_km/h  \n",
       "15927 0 days 00:00:50     50.0    1.260840     4.539024  \n",
       "15928             NaT      NaN         NaN          NaN  \n",
       "15929 0 days 00:01:00     60.0  104.247886   375.292388  \n",
       "15930 0 days 00:03:00    180.0  309.209556  1113.154403  \n",
       "15931 0 days 00:03:01    181.0  121.255848   436.521052  \n",
       "15932 0 days 00:03:09    189.0  632.935621  2278.568236  \n",
       "15933 0 days 00:01:00     60.0    1.406353     5.062870  \n",
       "15934 0 days 00:00:55     55.0    2.718678     9.787242  \n",
       "15935 0 days 00:01:00     60.0    3.921831    14.118590  \n",
       "15936 0 days 00:00:40     40.0    0.000000     0.000000  "
      ]
     },
     "execution_count": 54,
     "metadata": {},
     "output_type": "execute_result"
    }
   ],
   "source": [
    "gdf_day.iloc[15927:15937]"
   ]
  },
  {
   "cell_type": "code",
   "execution_count": null,
   "id": "fd669c41-6749-4812-98fe-96365c9c3651",
   "metadata": {},
   "outputs": [],
   "source": []
  },
  {
   "cell_type": "code",
   "execution_count": null,
   "id": "db0c9a81-1028-4a37-9d6e-fb97bd2159cb",
   "metadata": {},
   "outputs": [],
   "source": []
  },
  {
   "cell_type": "markdown",
   "id": "ef12f197-9e99-4c1d-a40e-cbace5e68ca6",
   "metadata": {},
   "source": [
    "Sortowanie czy sprawdzanie czy w której autobus jest dzielnicy (albo czy jest poza Warszawą)"
   ]
  },
  {
   "cell_type": "code",
   "execution_count": 48,
   "id": "704de6f7-8099-4996-83ae-7a4dccd77e6f",
   "metadata": {},
   "outputs": [],
   "source": [
    "for i in warsaw.index:\n",
    "    pip = gdf_night.within(warsaw.loc[i, 'geometry'])\n",
    "    gdf_night.loc[pip, 'Districs'] = warsaw.loc[i, 'name']\n",
    "    "
   ]
  },
  {
   "cell_type": "code",
   "execution_count": 52,
   "id": "16f1626a-12c3-4613-8c70-13fcad9266ba",
   "metadata": {},
   "outputs": [
    {
     "data": {
      "text/plain": [
       "geopandas.geodataframe.GeoDataFrame"
      ]
     },
     "execution_count": 52,
     "metadata": {},
     "output_type": "execute_result"
    }
   ],
   "source": [
    "type(gdf_night)"
   ]
  },
  {
   "cell_type": "code",
   "execution_count": null,
   "id": "2b541df2-26f9-4839-890a-c891e64266c8",
   "metadata": {},
   "outputs": [],
   "source": []
  },
  {
   "cell_type": "code",
   "execution_count": 53,
   "id": "d8e047c7-8669-4454-a7f4-149702618cd6",
   "metadata": {},
   "outputs": [],
   "source": [
    "bus = gdf_night.iloc[[829]]"
   ]
  },
  {
   "cell_type": "code",
   "execution_count": 54,
   "id": "72ed2e99-5cc8-4f27-a80d-72e3aaa7d920",
   "metadata": {},
   "outputs": [
    {
     "data": {
      "text/html": [
       "<div>\n",
       "<style scoped>\n",
       "    .dataframe tbody tr th:only-of-type {\n",
       "        vertical-align: middle;\n",
       "    }\n",
       "\n",
       "    .dataframe tbody tr th {\n",
       "        vertical-align: top;\n",
       "    }\n",
       "\n",
       "    .dataframe thead th {\n",
       "        text-align: right;\n",
       "    }\n",
       "</style>\n",
       "<table border=\"1\" class=\"dataframe\">\n",
       "  <thead>\n",
       "    <tr style=\"text-align: right;\">\n",
       "      <th></th>\n",
       "      <th>Lines</th>\n",
       "      <th>Lon</th>\n",
       "      <th>VehicleNumber</th>\n",
       "      <th>Time</th>\n",
       "      <th>Lat</th>\n",
       "      <th>Brigade</th>\n",
       "      <th>Unnamed: 0</th>\n",
       "      <th>geometry</th>\n",
       "      <th>distance</th>\n",
       "      <th>TimeDelta</th>\n",
       "      <th>seconds</th>\n",
       "      <th>speed_m/s</th>\n",
       "      <th>speed_km/h</th>\n",
       "      <th>Districs</th>\n",
       "    </tr>\n",
       "  </thead>\n",
       "  <tbody>\n",
       "    <tr>\n",
       "      <th>61</th>\n",
       "      <td>735</td>\n",
       "      <td>21.045591</td>\n",
       "      <td>1509</td>\n",
       "      <td>2021-06-26 19:04:04</td>\n",
       "      <td>52.264248</td>\n",
       "      <td>M4</td>\n",
       "      <td>61.0</td>\n",
       "      <td>POINT (7503112.390 5792301.326)</td>\n",
       "      <td>NaN</td>\n",
       "      <td>NaT</td>\n",
       "      <td>NaN</td>\n",
       "      <td>NaN</td>\n",
       "      <td>NaN</td>\n",
       "      <td>Praga Północ</td>\n",
       "    </tr>\n",
       "  </tbody>\n",
       "</table>\n",
       "</div>"
      ],
      "text/plain": [
       "   Lines        Lon VehicleNumber                Time        Lat Brigade  \\\n",
       "61   735  21.045591          1509 2021-06-26 19:04:04  52.264248      M4   \n",
       "\n",
       "    Unnamed: 0                         geometry  distance TimeDelta  seconds  \\\n",
       "61        61.0  POINT (7503112.390 5792301.326)       NaN       NaT      NaN   \n",
       "\n",
       "    speed_m/s  speed_km/h      Districs  \n",
       "61        NaN         NaN  Praga Północ  "
      ]
     },
     "execution_count": 54,
     "metadata": {},
     "output_type": "execute_result"
    }
   ],
   "source": [
    "bus"
   ]
  },
  {
   "cell_type": "code",
   "execution_count": 55,
   "id": "5a4323da-291e-4545-9678-89a56ff75fd7",
   "metadata": {},
   "outputs": [
    {
     "ename": "NameError",
     "evalue": "name 'speeding_buses' is not defined",
     "output_type": "error",
     "traceback": [
      "\u001b[0;31m---------------------------------------------------------------------------\u001b[0m",
      "\u001b[0;31mNameError\u001b[0m                                 Traceback (most recent call last)",
      "\u001b[0;32m<ipython-input-55-5afc0a43207c>\u001b[0m in \u001b[0;36m<module>\u001b[0;34m\u001b[0m\n\u001b[1;32m      1\u001b[0m \u001b[0mfig\u001b[0m\u001b[0;34m,\u001b[0m \u001b[0max\u001b[0m \u001b[0;34m=\u001b[0m \u001b[0mplt\u001b[0m\u001b[0;34m.\u001b[0m\u001b[0msubplots\u001b[0m\u001b[0;34m(\u001b[0m\u001b[0;34m)\u001b[0m\u001b[0;34m\u001b[0m\u001b[0;34m\u001b[0m\u001b[0m\n\u001b[1;32m      2\u001b[0m \u001b[0mwarsaw\u001b[0m\u001b[0;34m.\u001b[0m\u001b[0mplot\u001b[0m\u001b[0;34m(\u001b[0m\u001b[0max\u001b[0m\u001b[0;34m=\u001b[0m\u001b[0max\u001b[0m\u001b[0;34m)\u001b[0m\u001b[0;34m\u001b[0m\u001b[0;34m\u001b[0m\u001b[0m\n\u001b[0;32m----> 3\u001b[0;31m \u001b[0mspeeding_buses\u001b[0m\u001b[0;34m.\u001b[0m\u001b[0mplot\u001b[0m\u001b[0;34m(\u001b[0m\u001b[0max\u001b[0m\u001b[0;34m=\u001b[0m\u001b[0max\u001b[0m\u001b[0;34m,\u001b[0m \u001b[0mcolor\u001b[0m\u001b[0;34m=\u001b[0m\u001b[0;34m'red'\u001b[0m\u001b[0;34m)\u001b[0m\u001b[0;34m\u001b[0m\u001b[0;34m\u001b[0m\u001b[0m\n\u001b[0m",
      "\u001b[0;31mNameError\u001b[0m: name 'speeding_buses' is not defined"
     ]
    },
    {
     "data": {
      "image/png": "[encoded data removed]",
      "text/plain": [
       "<Figure size 432x288 with 1 Axes>"
      ]
     },
     "metadata": {
      "needs_background": "light"
     },
     "output_type": "display_data"
    }
   ],
   "source": [
    "fig, ax = plt.subplots()\n",
    "warsaw.plot(ax=ax)\n",
    "speeding_buses.plot(ax=ax, color='red')"
   ]
  },
  {
   "cell_type": "code",
   "execution_count": null,
   "id": "458a1f6b-34ee-46db-85d3-393d71367170",
   "metadata": {},
   "outputs": [],
   "source": []
  },
  {
   "cell_type": "code",
   "execution_count": null,
   "id": "39923432-3958-4c81-8c41-4d88dfffccd6",
   "metadata": {},
   "outputs": [],
   "source": [
    "pip = gdf.within(warsaw.loc[1, 'geometry'])"
   ]
  },
  {
   "cell_type": "code",
   "execution_count": null,
   "id": "13c81109-4450-465e-b65f-a24bc86666d1",
   "metadata": {},
   "outputs": [],
   "source": [
    "gdf.loc[pip, 'dupa'] = 'dupa'"
   ]
  },
  {
   "cell_type": "code",
   "execution_count": null,
   "id": "36b7ec3e-48c7-49ab-a3ca-5575628f7f3c",
   "metadata": {},
   "outputs": [],
   "source": [
    "gdf"
   ]
  },
  {
   "cell_type": "code",
   "execution_count": null,
   "id": "dbbea0f1-ff5a-4b29-84d9-c308ae5d96cc",
   "metadata": {},
   "outputs": [],
   "source": [
    "pip"
   ]
  },
  {
   "cell_type": "code",
   "execution_count": null,
   "id": "dfbd1faa-1e5f-4729-a8fd-ae55552a1b48",
   "metadata": {},
   "outputs": [],
   "source": [
    "pip = gdf.within(pr_regions.loc[0, 'geometry'])"
   ]
  },
  {
   "cell_type": "code",
   "execution_count": null,
   "id": "d8d797f5-8c4d-4fca-85fb-6dc6081f5ccd",
   "metadata": {},
   "outputs": [],
   "source": [
    "pip = gdf.within(pr_regions.loc[0, 'geometry'])\n",
    "\n",
    "#creating a new gdf keep only the intersecting records\n",
    "so_pr = gdf.loc[pip].copy()\n",
    "\n",
    "#assign region name \n",
    "so_pr['region'] = pr_regions.Name[0]\n",
    "\n",
    "so_pr.head()"
   ]
  },
  {
   "cell_type": "code",
   "execution_count": null,
   "id": "bea0d1c9-775d-4d25-b5d5-d28bfd1ce443",
   "metadata": {},
   "outputs": [],
   "source": [
    "set_vehicle_number = set(df[\"VehicleNumber\"])\n",
    "to_check_list = []\n",
    "#\n",
    "#                         .iloc[0:10]"
   ]
  },
  {
   "cell_type": "code",
   "execution_count": null,
   "id": "ad50c6a1-b221-4e88-9e4d-0dba4ef55e28",
   "metadata": {},
   "outputs": [],
   "source": []
  },
  {
   "cell_type": "code",
   "execution_count": null,
   "id": "732da084-fb2f-4400-82ae-f8f32f880dbe",
   "metadata": {},
   "outputs": [],
   "source": [
    "# set_vehicle_number"
   ]
  },
  {
   "cell_type": "code",
   "execution_count": null,
   "id": "f93e855f-1790-4096-a413-48c556f4267e",
   "metadata": {},
   "outputs": [],
   "source": [
    "for n in set_vehicle_number:\n",
    "    if len(df[df[\"VehicleNumber\"]==n]) > 5:\n",
    "        to_check_list.append(n)\n",
    "#         set_vehicle_number = set(df[\"VehicleNumber\"])\n",
    "#         to_check_list = []"
   ]
  },
  {
   "cell_type": "code",
   "execution_count": null,
   "id": "80834459-602a-4b5b-90fa-59e0d562edd1",
   "metadata": {},
   "outputs": [],
   "source": [
    "to_check_list"
   ]
  },
  {
   "cell_type": "code",
   "execution_count": null,
   "id": "17bc9110-208c-40ad-8db5-c2d4eb25c874",
   "metadata": {},
   "outputs": [],
   "source": [
    "lines"
   ]
  },
  {
   "cell_type": "code",
   "execution_count": null,
   "id": "2979186c-3820-4b2d-ac48-ad5a1376d4e0",
   "metadata": {},
   "outputs": [],
   "source": []
  },
  {
   "cell_type": "code",
   "execution_count": null,
   "id": "98fa2a72-3672-42e6-a4cb-659f202185c8",
   "metadata": {},
   "outputs": [],
   "source": [
    "gdf_ = gpd.GeoDataFrame()"
   ]
  },
  {
   "cell_type": "code",
   "execution_count": null,
   "id": "054e740b-8b1f-4433-bdd9-aecb934bb178",
   "metadata": {},
   "outputs": [],
   "source": [
    "gdf_ = gpd.GeoDataFrame()\n",
    "for bus_num in lines:\n",
    "    print(bus_num)\n",
    "    vehicle = gdf[gdf['VehicleNumber'] == bus_num]\n",
    "    vehicle['distance'] = vehicle.distance(vehicle.shift())\n",
    "#     y = s - s.shift()\n",
    "    vehicle['TimeDelta'] = vehicle['Time'] - vehicle['Time'].shift()\n",
    "    # here calculate timedeltas\n",
    "    gdf_ = pd.concat([gdf_, vehicle])\n",
    "\n",
    "return gdf_"
   ]
  },
  {
   "cell_type": "code",
   "execution_count": null,
   "id": "9937de1c-e36f-479e-9cc2-788c004d0199",
   "metadata": {},
   "outputs": [],
   "source": [
    "len(gdf_.drop_duplicates())"
   ]
  },
  {
   "cell_type": "code",
   "execution_count": null,
   "id": "ca8e9a7a-09d7-4624-a050-f19232f955ac",
   "metadata": {},
   "outputs": [],
   "source": [
    "gdf1.distance(gdf1.shift())"
   ]
  },
  {
   "cell_type": "code",
   "execution_count": null,
   "id": "61f04c48-f9df-4da1-baab-16758dfb9c4a",
   "metadata": {},
   "outputs": [],
   "source": []
  },
  {
   "cell_type": "code",
   "execution_count": null,
   "id": "b4153807-76f1-46ba-929a-28e151089eea",
   "metadata": {},
   "outputs": [],
   "source": []
  },
  {
   "cell_type": "code",
   "execution_count": null,
   "id": "ab8e823a-737b-4310-bc8b-b17dc2f94975",
   "metadata": {},
   "outputs": [],
   "source": [
    "for bus_num in gdf[\"VehicleNumber\"]:\n",
    "    print(bus_num)"
   ]
  },
  {
   "cell_type": "code",
   "execution_count": null,
   "id": "b5356504-7b21-4574-b74f-424b21b31125",
   "metadata": {},
   "outputs": [],
   "source": []
  },
  {
   "cell_type": "code",
   "execution_count": null,
   "id": "25126020-4506-4bfd-af6e-ce3f86d1a7ab",
   "metadata": {},
   "outputs": [],
   "source": []
  },
  {
   "cell_type": "code",
   "execution_count": null,
   "id": "084e39fd-51c4-4dee-972e-43cd5ced6262",
   "metadata": {},
   "outputs": [],
   "source": []
  },
  {
   "cell_type": "code",
   "execution_count": null,
   "id": "c9a8a4ce-861b-4975-8538-2085b60f5803",
   "metadata": {},
   "outputs": [],
   "source": [
    "df[df['VehicleNumber'] == list_more7[0]]"
   ]
  },
  {
   "cell_type": "code",
   "execution_count": null,
   "id": "e8ce2fd3-e021-4a50-903f-7d61212952b5",
   "metadata": {},
   "outputs": [],
   "source": [
    "list_more7 = []\n",
    "for i in range(1000, 9955):\n",
    "    if len(df[df['VehicleNumber'] == i]) > 7:\n",
    "        list_more7.append(i)\n",
    "    "
   ]
  },
  {
   "cell_type": "code",
   "execution_count": null,
   "id": "19761763-22f9-41dc-b829-a5beac70e62d",
   "metadata": {},
   "outputs": [],
   "source": [
    "list_more7[0]"
   ]
  },
  {
   "cell_type": "code",
   "execution_count": null,
   "id": "9c974c67-1676-45f2-8db8-1d72178622d8",
   "metadata": {},
   "outputs": [],
   "source": [
    "df"
   ]
  },
  {
   "cell_type": "code",
   "execution_count": null,
   "id": "3f1edee6-1fbb-4cd3-b456-5b0e38b0e0c2",
   "metadata": {},
   "outputs": [],
   "source": [
    "import geopandas as gpd\n",
    "from shapely.geometry import Point\n",
    "\n",
    "\n",
    "geom=[Point(xy) for xy in zip([117.454361,117.459880],[38.8459879,38.846255])]\n",
    "gdf=gpd.GeoDataFrame(geometry=geom,crs={'init':'epsg:4326'})\n",
    "dis=gdf.distance(gdf.shift())\n",
    "print(dis)"
   ]
  },
  {
   "cell_type": "code",
   "execution_count": null,
   "id": "83765d0f-637e-4a99-9d9b-a0ed5ff879df",
   "metadata": {},
   "outputs": [],
   "source": [
    "df[df['VehicleNumber'] == list_more7[0]].iloc[1]['Time']"
   ]
  },
  {
   "cell_type": "code",
   "execution_count": null,
   "id": "6f2060dc-80a9-46bc-a4b2-1f26ed44f2cd",
   "metadata": {},
   "outputs": [],
   "source": [
    "df[df['VehicleNumber'] == list_more7[0]].iloc[2]['Time']"
   ]
  },
  {
   "cell_type": "code",
   "execution_count": null,
   "id": "092e1af7-c645-44df-8018-6739d03f3536",
   "metadata": {},
   "outputs": [],
   "source": [
    "import geopandas"
   ]
  },
  {
   "cell_type": "code",
   "execution_count": null,
   "id": "c598c820-3451-4857-933e-35c5cca31edb",
   "metadata": {},
   "outputs": [],
   "source": [
    "# Importing the great_circle module from the library\n",
    "from geopy.distance import great_circle\n",
    "  \n",
    "# Loading the lat-long data for Kolkata & Delhi\n",
    "kolkata = (22.5726, 88.3639)\n",
    "delhi = (28.7041, 77.1025)\n",
    "  \n",
    "# Print the distance calculated in km\n",
    "print(great_circle(kolkata, delhi).km)"
   ]
  },
  {
   "cell_type": "code",
   "execution_count": null,
   "id": "7ddafcee-ac4c-4b51-a325-77762d53e29c",
   "metadata": {},
   "outputs": [],
   "source": [
    "pl1 = (52.17152, 21.226742)"
   ]
  },
  {
   "cell_type": "code",
   "execution_count": null,
   "id": "7af1fdf5-ff42-45a1-aa40-af4e8e509348",
   "metadata": {},
   "outputs": [],
   "source": [
    "pl2 = (52.171343, 21.226571)"
   ]
  },
  {
   "cell_type": "code",
   "execution_count": null,
   "id": "be9dc19c-9bcc-45a6-bdd5-cf868cbed3f5",
   "metadata": {},
   "outputs": [],
   "source": [
    "great_circle(pl1, pl2).m"
   ]
  },
  {
   "cell_type": "code",
   "execution_count": null,
   "id": "61831529-5043-447f-991c-df1b28f4547e",
   "metadata": {},
   "outputs": [],
   "source": [
    "df['Time'] = pd.to_datetime(df['Time'])"
   ]
  },
  {
   "cell_type": "code",
   "execution_count": null,
   "id": "aaa97338-1a5c-4833-98bf-e7eabee9d0f3",
   "metadata": {},
   "outputs": [],
   "source": [
    "df"
   ]
  },
  {
   "cell_type": "code",
   "execution_count": null,
   "id": "9805b7ad-2ec0-4a70-98a7-6dcaf33b7201",
   "metadata": {},
   "outputs": [],
   "source": [
    "df[df['VehicleNumber'] == list_more7[0]].iloc[1]['Time']"
   ]
  },
  {
   "cell_type": "code",
   "execution_count": null,
   "id": "1dae958c-d900-4778-9769-560c317d0826",
   "metadata": {},
   "outputs": [],
   "source": [
    "delta = df[df['VehicleNumber'] == list_more7[0]].iloc[2]['Time'] - df[df['VehicleNumber'] == list_more7[0]].iloc[1]['Time']"
   ]
  },
  {
   "cell_type": "code",
   "execution_count": null,
   "id": "d2fec9b8-706c-44b9-8d8e-07e5c7298c25",
   "metadata": {},
   "outputs": [],
   "source": [
    "delta.seconds"
   ]
  },
  {
   "cell_type": "code",
   "execution_count": null,
   "id": "4394f8c2-7c4e-471b-9f8f-dd0ebe9c1079",
   "metadata": {},
   "outputs": [],
   "source": [
    "22.8769267442839/12"
   ]
  },
  {
   "cell_type": "code",
   "execution_count": null,
   "id": "6cbce93c-06a9-4084-a839-93a9747b5798",
   "metadata": {},
   "outputs": [],
   "source": [
    "1.9064105620236582 * (3600/1000)"
   ]
  },
  {
   "cell_type": "code",
   "execution_count": null,
   "id": "04708f8f-f901-4e23-bdb2-b45f70ec8056",
   "metadata": {},
   "outputs": [],
   "source": []
  },
  {
   "cell_type": "code",
   "execution_count": null,
   "id": "b1ebbf9b-5677-4af1-b5ef-a4c48a95c16e",
   "metadata": {},
   "outputs": [],
   "source": []
  },
  {
   "cell_type": "code",
   "execution_count": null,
   "id": "2dbce706-a125-466f-9737-35e9b74f6866",
   "metadata": {},
   "outputs": [],
   "source": []
  },
  {
   "cell_type": "code",
   "execution_count": null,
   "id": "f8f0a77c-6003-4b88-a7f1-1fecb673b9b1",
   "metadata": {},
   "outputs": [],
   "source": []
  },
  {
   "cell_type": "code",
   "execution_count": null,
   "id": "36607766-9561-4c74-82bc-910f5df84afe",
   "metadata": {},
   "outputs": [],
   "source": []
  }
 ],
 "metadata": {
  "kernelspec": {
   "display_name": "nlp",
   "language": "python",
   "name": "nlp"
  },
  "language_info": {
   "codemirror_mode": {
    "name": "ipython",
    "version": 3
   },
   "file_extension": ".py",
   "mimetype": "text/x-python",
   "name": "python",
   "nbconvert_exporter": "python",
   "pygments_lexer": "ipython3",
   "version": "3.9.2"
  }
 },
 "nbformat": 4,
 "nbformat_minor": 5
}
