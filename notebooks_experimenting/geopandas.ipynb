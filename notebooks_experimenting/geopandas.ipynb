{
 "cells": [
  {
   "cell_type": "code",
   "execution_count": 4,
   "id": "94e71dd4-8769-4266-ae75-311ca0dc0fbc",
   "metadata": {},
   "outputs": [],
   "source": [
    "import fiona"
   ]
  },
  {
   "cell_type": "code",
   "execution_count": 5,
   "id": "fa191be8-3228-45ed-b46c-b7e89d45f763",
   "metadata": {},
   "outputs": [],
   "source": [
    "import geopandas"
   ]
  },
  {
   "cell_type": "code",
   "execution_count": 7,
   "id": "60a0d541-cc74-4f68-8378-6eb15add1ab1",
   "metadata": {},
   "outputs": [],
   "source": [
    "srodmiescie = \"https://github.com/andilabs/warszawa-dzielnice-geojson/blob/master/%C5%9Br%C3%B3dmie%C5%9Bcie.geojson\""
   ]
  },
  {
   "cell_type": "code",
   "execution_count": 105,
   "id": "26ebe745-28a5-430e-be60-253dff96cd78",
   "metadata": {},
   "outputs": [],
   "source": [
    "warsaw_file = \"https://raw.githubusercontent.com/andilabs/warszawa-dzielnice-geojson/master/warszawa-dzielnice.geojson\""
   ]
  },
  {
   "cell_type": "code",
   "execution_count": 106,
   "id": "65fcd6b2-492b-4c6e-b2dc-4afebe58336d",
   "metadata": {},
   "outputs": [],
   "source": [
    "warsaw = geopandas.read_file(warsaw_file)"
   ]
  },
  {
   "cell_type": "code",
   "execution_count": 107,
   "id": "7e6a505f-90a6-4c4d-af50-e178a06e23c9",
   "metadata": {},
   "outputs": [],
   "source": [
    "warsaw = warsaw.set_index(\"name\")"
   ]
  },
  {
   "cell_type": "code",
   "execution_count": 108,
   "id": "02829f9b-7420-4072-9844-e36a6eb528de",
   "metadata": {},
   "outputs": [
    {
     "data": {
      "text/html": [
       "<div>\n",
       "<style scoped>\n",
       "    .dataframe tbody tr th:only-of-type {\n",
       "        vertical-align: middle;\n",
       "    }\n",
       "\n",
       "    .dataframe tbody tr th {\n",
       "        vertical-align: top;\n",
       "    }\n",
       "\n",
       "    .dataframe thead th {\n",
       "        text-align: right;\n",
       "    }\n",
       "</style>\n",
       "<table border=\"1\" class=\"dataframe\">\n",
       "  <thead>\n",
       "    <tr style=\"text-align: right;\">\n",
       "      <th></th>\n",
       "      <th>cartodb_id</th>\n",
       "      <th>geometry</th>\n",
       "    </tr>\n",
       "    <tr>\n",
       "      <th>name</th>\n",
       "      <th></th>\n",
       "      <th></th>\n",
       "    </tr>\n",
       "  </thead>\n",
       "  <tbody>\n",
       "    <tr>\n",
       "      <th>Warszawa</th>\n",
       "      <td>1</td>\n",
       "      <td>MULTIPOLYGON (((21.02753 52.36513, 21.02539 52...</td>\n",
       "    </tr>\n",
       "    <tr>\n",
       "      <th>Ochota</th>\n",
       "      <td>22</td>\n",
       "      <td>MULTIPOLYGON (((21.00152 52.22807, 20.99059 52...</td>\n",
       "    </tr>\n",
       "    <tr>\n",
       "      <th>Rembertów</th>\n",
       "      <td>25</td>\n",
       "      <td>MULTIPOLYGON (((21.13242 52.23909, 21.13313 52...</td>\n",
       "    </tr>\n",
       "    <tr>\n",
       "      <th>Bemowo</th>\n",
       "      <td>2</td>\n",
       "      <td>MULTIPOLYGON (((20.87309 52.21666, 20.87307 52...</td>\n",
       "    </tr>\n",
       "    <tr>\n",
       "      <th>Białołęka</th>\n",
       "      <td>19</td>\n",
       "      <td>MULTIPOLYGON (((20.99622 52.28734, 20.99782 52...</td>\n",
       "    </tr>\n",
       "    <tr>\n",
       "      <th>Wesoła</th>\n",
       "      <td>31</td>\n",
       "      <td>MULTIPOLYGON (((21.26173 52.21007, 21.26059 52...</td>\n",
       "    </tr>\n",
       "    <tr>\n",
       "      <th>Bielany</th>\n",
       "      <td>20</td>\n",
       "      <td>MULTIPOLYGON (((20.87715 52.29406, 20.87635 52...</td>\n",
       "    </tr>\n",
       "    <tr>\n",
       "      <th>Mokotów</th>\n",
       "      <td>21</td>\n",
       "      <td>MULTIPOLYGON (((21.03086 52.20686, 21.03062 52...</td>\n",
       "    </tr>\n",
       "    <tr>\n",
       "      <th>Praga Południe</th>\n",
       "      <td>23</td>\n",
       "      <td>MULTIPOLYGON (((21.09290 52.21531, 21.09672 52...</td>\n",
       "    </tr>\n",
       "    <tr>\n",
       "      <th>Praga Północ</th>\n",
       "      <td>24</td>\n",
       "      <td>MULTIPOLYGON (((21.01312 52.29485, 21.01296 52...</td>\n",
       "    </tr>\n",
       "    <tr>\n",
       "      <th>Śródmieście</th>\n",
       "      <td>26</td>\n",
       "      <td>MULTIPOLYGON (((21.03685 52.23860, 21.03563 52...</td>\n",
       "    </tr>\n",
       "    <tr>\n",
       "      <th>Targówek</th>\n",
       "      <td>27</td>\n",
       "      <td>MULTIPOLYGON (((21.03688 52.26855, 21.03789 52...</td>\n",
       "    </tr>\n",
       "    <tr>\n",
       "      <th>Ursus</th>\n",
       "      <td>28</td>\n",
       "      <td>MULTIPOLYGON (((20.85192 52.19972, 20.85202 52...</td>\n",
       "    </tr>\n",
       "    <tr>\n",
       "      <th>Wola</th>\n",
       "      <td>34</td>\n",
       "      <td>MULTIPOLYGON (((21.00152 52.22807, 21.00001 52...</td>\n",
       "    </tr>\n",
       "    <tr>\n",
       "      <th>Ursynów</th>\n",
       "      <td>29</td>\n",
       "      <td>MULTIPOLYGON (((20.97961 52.12947, 20.97961 52...</td>\n",
       "    </tr>\n",
       "    <tr>\n",
       "      <th>Wawer</th>\n",
       "      <td>30</td>\n",
       "      <td>MULTIPOLYGON (((21.10542 52.19410, 21.10593 52...</td>\n",
       "    </tr>\n",
       "    <tr>\n",
       "      <th>Wilanów</th>\n",
       "      <td>32</td>\n",
       "      <td>MULTIPOLYGON (((21.13322 52.12301, 21.13473 52...</td>\n",
       "    </tr>\n",
       "    <tr>\n",
       "      <th>Włochy</th>\n",
       "      <td>33</td>\n",
       "      <td>MULTIPOLYGON (((20.98297 52.14043, 20.98330 52...</td>\n",
       "    </tr>\n",
       "    <tr>\n",
       "      <th>Żoliborz</th>\n",
       "      <td>35</td>\n",
       "      <td>MULTIPOLYGON (((20.98103 52.25944, 20.98160 52...</td>\n",
       "    </tr>\n",
       "  </tbody>\n",
       "</table>\n",
       "</div>"
      ],
      "text/plain": [
       "                cartodb_id                                           geometry\n",
       "name                                                                         \n",
       "Warszawa                 1  MULTIPOLYGON (((21.02753 52.36513, 21.02539 52...\n",
       "Ochota                  22  MULTIPOLYGON (((21.00152 52.22807, 20.99059 52...\n",
       "Rembertów               25  MULTIPOLYGON (((21.13242 52.23909, 21.13313 52...\n",
       "Bemowo                   2  MULTIPOLYGON (((20.87309 52.21666, 20.87307 52...\n",
       "Białołęka               19  MULTIPOLYGON (((20.99622 52.28734, 20.99782 52...\n",
       "Wesoła                  31  MULTIPOLYGON (((21.26173 52.21007, 21.26059 52...\n",
       "Bielany                 20  MULTIPOLYGON (((20.87715 52.29406, 20.87635 52...\n",
       "Mokotów                 21  MULTIPOLYGON (((21.03086 52.20686, 21.03062 52...\n",
       "Praga Południe          23  MULTIPOLYGON (((21.09290 52.21531, 21.09672 52...\n",
       "Praga Północ            24  MULTIPOLYGON (((21.01312 52.29485, 21.01296 52...\n",
       "Śródmieście             26  MULTIPOLYGON (((21.03685 52.23860, 21.03563 52...\n",
       "Targówek                27  MULTIPOLYGON (((21.03688 52.26855, 21.03789 52...\n",
       "Ursus                   28  MULTIPOLYGON (((20.85192 52.19972, 20.85202 52...\n",
       "Wola                    34  MULTIPOLYGON (((21.00152 52.22807, 21.00001 52...\n",
       "Ursynów                 29  MULTIPOLYGON (((20.97961 52.12947, 20.97961 52...\n",
       "Wawer                   30  MULTIPOLYGON (((21.10542 52.19410, 21.10593 52...\n",
       "Wilanów                 32  MULTIPOLYGON (((21.13322 52.12301, 21.13473 52...\n",
       "Włochy                  33  MULTIPOLYGON (((20.98297 52.14043, 20.98330 52...\n",
       "Żoliborz                35  MULTIPOLYGON (((20.98103 52.25944, 20.98160 52..."
      ]
     },
     "execution_count": 108,
     "metadata": {},
     "output_type": "execute_result"
    }
   ],
   "source": [
    "warsaw"
   ]
  },
  {
   "cell_type": "code",
   "execution_count": 109,
   "id": "eee0a10d-cf6f-44c7-8c2b-5dc26243282a",
   "metadata": {},
   "outputs": [],
   "source": [
    "warsaw = warsaw[1:]"
   ]
  },
  {
   "cell_type": "code",
   "execution_count": 110,
   "id": "f6941372-e408-45e6-9df7-bb3db722c216",
   "metadata": {},
   "outputs": [
    {
     "data": {
      "text/html": [
       "<div>\n",
       "<style scoped>\n",
       "    .dataframe tbody tr th:only-of-type {\n",
       "        vertical-align: middle;\n",
       "    }\n",
       "\n",
       "    .dataframe tbody tr th {\n",
       "        vertical-align: top;\n",
       "    }\n",
       "\n",
       "    .dataframe thead th {\n",
       "        text-align: right;\n",
       "    }\n",
       "</style>\n",
       "<table border=\"1\" class=\"dataframe\">\n",
       "  <thead>\n",
       "    <tr style=\"text-align: right;\">\n",
       "      <th></th>\n",
       "      <th>cartodb_id</th>\n",
       "      <th>geometry</th>\n",
       "    </tr>\n",
       "    <tr>\n",
       "      <th>name</th>\n",
       "      <th></th>\n",
       "      <th></th>\n",
       "    </tr>\n",
       "  </thead>\n",
       "  <tbody>\n",
       "    <tr>\n",
       "      <th>Ochota</th>\n",
       "      <td>22</td>\n",
       "      <td>MULTIPOLYGON (((21.00152 52.22807, 20.99059 52...</td>\n",
       "    </tr>\n",
       "    <tr>\n",
       "      <th>Rembertów</th>\n",
       "      <td>25</td>\n",
       "      <td>MULTIPOLYGON (((21.13242 52.23909, 21.13313 52...</td>\n",
       "    </tr>\n",
       "    <tr>\n",
       "      <th>Bemowo</th>\n",
       "      <td>2</td>\n",
       "      <td>MULTIPOLYGON (((20.87309 52.21666, 20.87307 52...</td>\n",
       "    </tr>\n",
       "    <tr>\n",
       "      <th>Białołęka</th>\n",
       "      <td>19</td>\n",
       "      <td>MULTIPOLYGON (((20.99622 52.28734, 20.99782 52...</td>\n",
       "    </tr>\n",
       "    <tr>\n",
       "      <th>Wesoła</th>\n",
       "      <td>31</td>\n",
       "      <td>MULTIPOLYGON (((21.26173 52.21007, 21.26059 52...</td>\n",
       "    </tr>\n",
       "    <tr>\n",
       "      <th>Bielany</th>\n",
       "      <td>20</td>\n",
       "      <td>MULTIPOLYGON (((20.87715 52.29406, 20.87635 52...</td>\n",
       "    </tr>\n",
       "    <tr>\n",
       "      <th>Mokotów</th>\n",
       "      <td>21</td>\n",
       "      <td>MULTIPOLYGON (((21.03086 52.20686, 21.03062 52...</td>\n",
       "    </tr>\n",
       "    <tr>\n",
       "      <th>Praga Południe</th>\n",
       "      <td>23</td>\n",
       "      <td>MULTIPOLYGON (((21.09290 52.21531, 21.09672 52...</td>\n",
       "    </tr>\n",
       "    <tr>\n",
       "      <th>Praga Północ</th>\n",
       "      <td>24</td>\n",
       "      <td>MULTIPOLYGON (((21.01312 52.29485, 21.01296 52...</td>\n",
       "    </tr>\n",
       "    <tr>\n",
       "      <th>Śródmieście</th>\n",
       "      <td>26</td>\n",
       "      <td>MULTIPOLYGON (((21.03685 52.23860, 21.03563 52...</td>\n",
       "    </tr>\n",
       "    <tr>\n",
       "      <th>Targówek</th>\n",
       "      <td>27</td>\n",
       "      <td>MULTIPOLYGON (((21.03688 52.26855, 21.03789 52...</td>\n",
       "    </tr>\n",
       "    <tr>\n",
       "      <th>Ursus</th>\n",
       "      <td>28</td>\n",
       "      <td>MULTIPOLYGON (((20.85192 52.19972, 20.85202 52...</td>\n",
       "    </tr>\n",
       "    <tr>\n",
       "      <th>Wola</th>\n",
       "      <td>34</td>\n",
       "      <td>MULTIPOLYGON (((21.00152 52.22807, 21.00001 52...</td>\n",
       "    </tr>\n",
       "    <tr>\n",
       "      <th>Ursynów</th>\n",
       "      <td>29</td>\n",
       "      <td>MULTIPOLYGON (((20.97961 52.12947, 20.97961 52...</td>\n",
       "    </tr>\n",
       "    <tr>\n",
       "      <th>Wawer</th>\n",
       "      <td>30</td>\n",
       "      <td>MULTIPOLYGON (((21.10542 52.19410, 21.10593 52...</td>\n",
       "    </tr>\n",
       "    <tr>\n",
       "      <th>Wilanów</th>\n",
       "      <td>32</td>\n",
       "      <td>MULTIPOLYGON (((21.13322 52.12301, 21.13473 52...</td>\n",
       "    </tr>\n",
       "    <tr>\n",
       "      <th>Włochy</th>\n",
       "      <td>33</td>\n",
       "      <td>MULTIPOLYGON (((20.98297 52.14043, 20.98330 52...</td>\n",
       "    </tr>\n",
       "    <tr>\n",
       "      <th>Żoliborz</th>\n",
       "      <td>35</td>\n",
       "      <td>MULTIPOLYGON (((20.98103 52.25944, 20.98160 52...</td>\n",
       "    </tr>\n",
       "  </tbody>\n",
       "</table>\n",
       "</div>"
      ],
      "text/plain": [
       "                cartodb_id                                           geometry\n",
       "name                                                                         \n",
       "Ochota                  22  MULTIPOLYGON (((21.00152 52.22807, 20.99059 52...\n",
       "Rembertów               25  MULTIPOLYGON (((21.13242 52.23909, 21.13313 52...\n",
       "Bemowo                   2  MULTIPOLYGON (((20.87309 52.21666, 20.87307 52...\n",
       "Białołęka               19  MULTIPOLYGON (((20.99622 52.28734, 20.99782 52...\n",
       "Wesoła                  31  MULTIPOLYGON (((21.26173 52.21007, 21.26059 52...\n",
       "Bielany                 20  MULTIPOLYGON (((20.87715 52.29406, 20.87635 52...\n",
       "Mokotów                 21  MULTIPOLYGON (((21.03086 52.20686, 21.03062 52...\n",
       "Praga Południe          23  MULTIPOLYGON (((21.09290 52.21531, 21.09672 52...\n",
       "Praga Północ            24  MULTIPOLYGON (((21.01312 52.29485, 21.01296 52...\n",
       "Śródmieście             26  MULTIPOLYGON (((21.03685 52.23860, 21.03563 52...\n",
       "Targówek                27  MULTIPOLYGON (((21.03688 52.26855, 21.03789 52...\n",
       "Ursus                   28  MULTIPOLYGON (((20.85192 52.19972, 20.85202 52...\n",
       "Wola                    34  MULTIPOLYGON (((21.00152 52.22807, 21.00001 52...\n",
       "Ursynów                 29  MULTIPOLYGON (((20.97961 52.12947, 20.97961 52...\n",
       "Wawer                   30  MULTIPOLYGON (((21.10542 52.19410, 21.10593 52...\n",
       "Wilanów                 32  MULTIPOLYGON (((21.13322 52.12301, 21.13473 52...\n",
       "Włochy                  33  MULTIPOLYGON (((20.98297 52.14043, 20.98330 52...\n",
       "Żoliborz                35  MULTIPOLYGON (((20.98103 52.25944, 20.98160 52..."
      ]
     },
     "execution_count": 110,
     "metadata": {},
     "output_type": "execute_result"
    }
   ],
   "source": [
    "warsaw"
   ]
  },
  {
   "cell_type": "code",
   "execution_count": 111,
   "id": "56dfa517-02be-4cac-848e-1cbd8a2b037f",
   "metadata": {},
   "outputs": [],
   "source": [
    "warsaw = warsaw.to_crs({'proj':'cea'})"
   ]
  },
  {
   "cell_type": "code",
   "execution_count": null,
   "id": "6e52d196-be51-467d-a02a-0a34163462e3",
   "metadata": {},
   "outputs": [],
   "source": [
    "for c in cnames:\n",
    "    carea = world[world['name'] == c]\n",
    "    for e in epsgs:\n",
    "        carea = carea.to_crs(epsg=e)\n",
    "        area = int(pd.to_numeric(carea['geometry'].area)/10**6)\n",
    "        print(area)"
   ]
  },
  {
   "cell_type": "code",
   "execution_count": 116,
   "id": "93620e9b-efb8-4ffd-bc3c-5245bc101814",
   "metadata": {},
   "outputs": [
    {
     "data": {
      "text/plain": [
       "name\n",
       "Ochota             9.690267\n",
       "Rembertów         19.308218\n",
       "Bemowo            24.993726\n",
       "Białołęka         73.130706\n",
       "Wesoła            22.951873\n",
       "Bielany           32.322991\n",
       "Mokotów           35.608018\n",
       "Praga Południe    22.344850\n",
       "Praga Północ      11.418001\n",
       "Śródmieście       15.612187\n",
       "Targówek          24.137448\n",
       "Ursus              9.350753\n",
       "Wola              19.388302\n",
       "Ursynów           44.057653\n",
       "Wawer             79.656195\n",
       "Wilanów           36.483642\n",
       "Włochy            28.545656\n",
       "Żoliborz           8.359910\n",
       "Name: area, dtype: float64"
      ]
     },
     "execution_count": 116,
     "metadata": {},
     "output_type": "execute_result"
    }
   ],
   "source": [
    "warsaw['area'] = warsaw.geometry.area / (10**6)\n",
    "warsaw['area']"
   ]
  },
  {
   "cell_type": "code",
   "execution_count": 117,
   "id": "cc6fb465-440c-4fbb-a578-d46dbb5e2623",
   "metadata": {},
   "outputs": [
    {
     "data": {
      "text/plain": [
       "name\n",
       "Ochota            MULTILINESTRING ((2337878.958 5021897.970, 233...\n",
       "Rembertów         MULTILINESTRING ((2352450.345 5022651.080, 235...\n",
       "Bemowo            MULTILINESTRING ((2323581.305 5021119.193, 232...\n",
       "Białołęka         MULTILINESTRING ((2337288.630 5025943.588, 233...\n",
       "Wesoła            MULTILINESTRING ((2366844.623 5020668.818, 236...\n",
       "Bielany           MULTILINESTRING ((2324033.485 5026402.053, 232...\n",
       "Mokotów           MULTILINESTRING ((2341144.849 5020449.004, 234...\n",
       "Praga Południe    MULTILINESTRING ((2348050.887 5021026.964, 234...\n",
       "Praga Północ      MULTILINESTRING ((2339170.152 5026455.861, 233...\n",
       "Śródmieście       MULTILINESTRING ((2341811.430 5022617.280, 234...\n",
       "Targówek          MULTILINESTRING ((2341814.992 5024661.948, 234...\n",
       "Ursus             MULTILINESTRING ((2321224.783 5019961.147, 232...\n",
       "Wola              MULTILINESTRING ((2337878.958 5021897.970, 233...\n",
       "Ursynów           MULTILINESTRING ((2335439.280 5015156.826, 233...\n",
       "Wawer             MULTILINESTRING ((2349444.385 5019577.381, 234...\n",
       "Wilanów           MULTILINESTRING ((2352539.623 5014714.134, 235...\n",
       "Włochy            MULTILINESTRING ((2335813.536 5015906.732, 233...\n",
       "Żoliborz          MULTILINESTRING ((2335597.242 5024039.764, 233...\n",
       "Name: boundary, dtype: geometry"
      ]
     },
     "execution_count": 117,
     "metadata": {},
     "output_type": "execute_result"
    }
   ],
   "source": [
    "warsaw['boundary'] = warsaw.boundary\n",
    "warsaw['boundary']"
   ]
  },
  {
   "cell_type": "code",
   "execution_count": null,
   "id": "2dedc2df-9647-4057-a1a9-aafb5b47096f",
   "metadata": {},
   "outputs": [],
   "source": []
  },
  {
   "cell_type": "code",
   "execution_count": 118,
   "id": "383c71d3-cd72-427f-82fb-7023c4a96d6c",
   "metadata": {},
   "outputs": [
    {
     "data": {
      "text/plain": [
       "name\n",
       "Ochota            POINT (2334791.621 5020713.307)\n",
       "Rembertów         POINT (2354414.121 5024215.769)\n",
       "Bemowo            POINT (2327013.200 5023116.826)\n",
       "Białołęka         POINT (2338150.091 5028981.866)\n",
       "Wesoła            POINT (2362784.872 5022198.436)\n",
       "Bielany           POINT (2329506.102 5026346.949)\n",
       "Mokotów           POINT (2342368.015 5019485.390)\n",
       "Praga Południe    POINT (2347127.907 5022674.118)\n",
       "Praga Północ      POINT (2340759.986 5024406.726)\n",
       "Śródmieście       POINT (2339833.072 5022221.434)\n",
       "Targówek          POINT (2344777.103 5025622.208)\n",
       "Ursus             POINT (2324583.808 5019638.500)\n",
       "Wola              POINT (2332922.512 5022337.301)\n",
       "Ursynów           POINT (2341308.130 5015416.881)\n",
       "Wawer             POINT (2357527.368 5019498.778)\n",
       "Wilanów           POINT (2349404.764 5016692.419)\n",
       "Włochy            POINT (2331892.103 5018656.595)\n",
       "Żoliborz          POINT (2335702.926 5024675.072)\n",
       "Name: centroid, dtype: geometry"
      ]
     },
     "execution_count": 118,
     "metadata": {},
     "output_type": "execute_result"
    }
   ],
   "source": [
    "warsaw['centroid'] = warsaw.centroid\n",
    "warsaw['centroid']\n"
   ]
  },
  {
   "cell_type": "code",
   "execution_count": 119,
   "id": "9d76a9f0-4f01-4f54-8bce-e7cdeeca4fca",
   "metadata": {},
   "outputs": [
    {
     "data": {
      "text/plain": [
       "18"
      ]
     },
     "execution_count": 119,
     "metadata": {},
     "output_type": "execute_result"
    }
   ],
   "source": [
    "len(warsaw)"
   ]
  },
  {
   "cell_type": "code",
   "execution_count": 120,
   "id": "67fd02b3-9019-47a5-b15d-a3f8426a539f",
   "metadata": {},
   "outputs": [
    {
     "data": {
      "text/plain": [
       "name\n",
       "Ochota                0.000000\n",
       "Rembertów         19932.629285\n",
       "Bemowo             8141.298559\n",
       "Białołęka          8924.594214\n",
       "Wesoła            28032.618266\n",
       "Bielany            7724.936126\n",
       "Mokotów            7675.253854\n",
       "Praga Południe    12491.145710\n",
       "Praga Północ       7018.741169\n",
       "Śródmieście        5262.192374\n",
       "Targówek          11126.866250\n",
       "Ursus             10264.242506\n",
       "Wola               2476.070156\n",
       "Ursynów            8397.441145\n",
       "Wawer             22768.163448\n",
       "Wilanów           15156.235645\n",
       "Włochy             3554.894207\n",
       "Żoliborz           4065.225614\n",
       "Name: distance, dtype: float64"
      ]
     },
     "execution_count": 120,
     "metadata": {},
     "output_type": "execute_result"
    }
   ],
   "source": [
    "first_point = warsaw['centroid'].iloc[0]\n",
    "warsaw['distance'] = warsaw['centroid'].distance(first_point)\n",
    "warsaw['distance']\n"
   ]
  },
  {
   "cell_type": "code",
   "execution_count": 121,
   "id": "0caba8de-6e78-45ce-b521-f583de416dcf",
   "metadata": {},
   "outputs": [],
   "source": [
    "warsaw['color'] = range(len(warsaw))"
   ]
  },
  {
   "cell_type": "code",
   "execution_count": 122,
   "id": "616dbc14-829d-457a-bb58-fe2b24cd632a",
   "metadata": {},
   "outputs": [
    {
     "data": {
      "text/html": [
       "<div>\n",
       "<style scoped>\n",
       "    .dataframe tbody tr th:only-of-type {\n",
       "        vertical-align: middle;\n",
       "    }\n",
       "\n",
       "    .dataframe tbody tr th {\n",
       "        vertical-align: top;\n",
       "    }\n",
       "\n",
       "    .dataframe thead th {\n",
       "        text-align: right;\n",
       "    }\n",
       "</style>\n",
       "<table border=\"1\" class=\"dataframe\">\n",
       "  <thead>\n",
       "    <tr style=\"text-align: right;\">\n",
       "      <th></th>\n",
       "      <th>cartodb_id</th>\n",
       "      <th>geometry</th>\n",
       "      <th>area</th>\n",
       "      <th>boundary</th>\n",
       "      <th>centroid</th>\n",
       "      <th>distance</th>\n",
       "      <th>color</th>\n",
       "    </tr>\n",
       "    <tr>\n",
       "      <th>name</th>\n",
       "      <th></th>\n",
       "      <th></th>\n",
       "      <th></th>\n",
       "      <th></th>\n",
       "      <th></th>\n",
       "      <th></th>\n",
       "      <th></th>\n",
       "    </tr>\n",
       "  </thead>\n",
       "  <tbody>\n",
       "    <tr>\n",
       "      <th>Ochota</th>\n",
       "      <td>22</td>\n",
       "      <td>MULTIPOLYGON (((2337878.958 5021897.970, 23366...</td>\n",
       "      <td>9.690267</td>\n",
       "      <td>MULTILINESTRING ((2337878.958 5021897.970, 233...</td>\n",
       "      <td>POINT (2334791.621 5020713.307)</td>\n",
       "      <td>0.000000</td>\n",
       "      <td>0</td>\n",
       "    </tr>\n",
       "    <tr>\n",
       "      <th>Rembertów</th>\n",
       "      <td>25</td>\n",
       "      <td>MULTIPOLYGON (((2352450.345 5022651.080, 23525...</td>\n",
       "      <td>19.308218</td>\n",
       "      <td>MULTILINESTRING ((2352450.345 5022651.080, 235...</td>\n",
       "      <td>POINT (2354414.121 5024215.769)</td>\n",
       "      <td>19932.629285</td>\n",
       "      <td>1</td>\n",
       "    </tr>\n",
       "    <tr>\n",
       "      <th>Bemowo</th>\n",
       "      <td>2</td>\n",
       "      <td>MULTIPOLYGON (((2323581.305 5021119.193, 23235...</td>\n",
       "      <td>24.993726</td>\n",
       "      <td>MULTILINESTRING ((2323581.305 5021119.193, 232...</td>\n",
       "      <td>POINT (2327013.200 5023116.826)</td>\n",
       "      <td>8141.298559</td>\n",
       "      <td>2</td>\n",
       "    </tr>\n",
       "    <tr>\n",
       "      <th>Białołęka</th>\n",
       "      <td>19</td>\n",
       "      <td>MULTIPOLYGON (((2337288.630 5025943.588, 23374...</td>\n",
       "      <td>73.130706</td>\n",
       "      <td>MULTILINESTRING ((2337288.630 5025943.588, 233...</td>\n",
       "      <td>POINT (2338150.091 5028981.866)</td>\n",
       "      <td>8924.594214</td>\n",
       "      <td>3</td>\n",
       "    </tr>\n",
       "    <tr>\n",
       "      <th>Wesoła</th>\n",
       "      <td>31</td>\n",
       "      <td>MULTIPOLYGON (((2366844.623 5020668.818, 23667...</td>\n",
       "      <td>22.951873</td>\n",
       "      <td>MULTILINESTRING ((2366844.623 5020668.818, 236...</td>\n",
       "      <td>POINT (2362784.872 5022198.436)</td>\n",
       "      <td>28032.618266</td>\n",
       "      <td>4</td>\n",
       "    </tr>\n",
       "    <tr>\n",
       "      <th>Bielany</th>\n",
       "      <td>20</td>\n",
       "      <td>MULTIPOLYGON (((2324033.485 5026402.053, 23239...</td>\n",
       "      <td>32.322991</td>\n",
       "      <td>MULTILINESTRING ((2324033.485 5026402.053, 232...</td>\n",
       "      <td>POINT (2329506.102 5026346.949)</td>\n",
       "      <td>7724.936126</td>\n",
       "      <td>5</td>\n",
       "    </tr>\n",
       "    <tr>\n",
       "      <th>Mokotów</th>\n",
       "      <td>21</td>\n",
       "      <td>MULTIPOLYGON (((2341144.849 5020449.004, 23411...</td>\n",
       "      <td>35.608018</td>\n",
       "      <td>MULTILINESTRING ((2341144.849 5020449.004, 234...</td>\n",
       "      <td>POINT (2342368.015 5019485.390)</td>\n",
       "      <td>7675.253854</td>\n",
       "      <td>6</td>\n",
       "    </tr>\n",
       "    <tr>\n",
       "      <th>Praga Południe</th>\n",
       "      <td>23</td>\n",
       "      <td>MULTIPOLYGON (((2348050.887 5021026.964, 23484...</td>\n",
       "      <td>22.344850</td>\n",
       "      <td>MULTILINESTRING ((2348050.887 5021026.964, 234...</td>\n",
       "      <td>POINT (2347127.907 5022674.118)</td>\n",
       "      <td>12491.145710</td>\n",
       "      <td>7</td>\n",
       "    </tr>\n",
       "    <tr>\n",
       "      <th>Praga Północ</th>\n",
       "      <td>24</td>\n",
       "      <td>MULTIPOLYGON (((2339170.152 5026455.861, 23391...</td>\n",
       "      <td>11.418001</td>\n",
       "      <td>MULTILINESTRING ((2339170.152 5026455.861, 233...</td>\n",
       "      <td>POINT (2340759.986 5024406.726)</td>\n",
       "      <td>7018.741169</td>\n",
       "      <td>8</td>\n",
       "    </tr>\n",
       "    <tr>\n",
       "      <th>Śródmieście</th>\n",
       "      <td>26</td>\n",
       "      <td>MULTIPOLYGON (((2341811.430 5022617.280, 23416...</td>\n",
       "      <td>15.612187</td>\n",
       "      <td>MULTILINESTRING ((2341811.430 5022617.280, 234...</td>\n",
       "      <td>POINT (2339833.072 5022221.434)</td>\n",
       "      <td>5262.192374</td>\n",
       "      <td>9</td>\n",
       "    </tr>\n",
       "    <tr>\n",
       "      <th>Targówek</th>\n",
       "      <td>27</td>\n",
       "      <td>MULTIPOLYGON (((2341814.992 5024661.948, 23419...</td>\n",
       "      <td>24.137448</td>\n",
       "      <td>MULTILINESTRING ((2341814.992 5024661.948, 234...</td>\n",
       "      <td>POINT (2344777.103 5025622.208)</td>\n",
       "      <td>11126.866250</td>\n",
       "      <td>10</td>\n",
       "    </tr>\n",
       "    <tr>\n",
       "      <th>Ursus</th>\n",
       "      <td>28</td>\n",
       "      <td>MULTIPOLYGON (((2321224.783 5019961.147, 23212...</td>\n",
       "      <td>9.350753</td>\n",
       "      <td>MULTILINESTRING ((2321224.783 5019961.147, 232...</td>\n",
       "      <td>POINT (2324583.808 5019638.500)</td>\n",
       "      <td>10264.242506</td>\n",
       "      <td>11</td>\n",
       "    </tr>\n",
       "    <tr>\n",
       "      <th>Wola</th>\n",
       "      <td>34</td>\n",
       "      <td>MULTIPOLYGON (((2337878.958 5021897.970, 23377...</td>\n",
       "      <td>19.388302</td>\n",
       "      <td>MULTILINESTRING ((2337878.958 5021897.970, 233...</td>\n",
       "      <td>POINT (2332922.512 5022337.301)</td>\n",
       "      <td>2476.070156</td>\n",
       "      <td>12</td>\n",
       "    </tr>\n",
       "    <tr>\n",
       "      <th>Ursynów</th>\n",
       "      <td>29</td>\n",
       "      <td>MULTIPOLYGON (((2335439.280 5015156.826, 23354...</td>\n",
       "      <td>44.057653</td>\n",
       "      <td>MULTILINESTRING ((2335439.280 5015156.826, 233...</td>\n",
       "      <td>POINT (2341308.130 5015416.881)</td>\n",
       "      <td>8397.441145</td>\n",
       "      <td>13</td>\n",
       "    </tr>\n",
       "    <tr>\n",
       "      <th>Wawer</th>\n",
       "      <td>30</td>\n",
       "      <td>MULTIPOLYGON (((2349444.385 5019577.381, 23495...</td>\n",
       "      <td>79.656195</td>\n",
       "      <td>MULTILINESTRING ((2349444.385 5019577.381, 234...</td>\n",
       "      <td>POINT (2357527.368 5019498.778)</td>\n",
       "      <td>22768.163448</td>\n",
       "      <td>14</td>\n",
       "    </tr>\n",
       "    <tr>\n",
       "      <th>Wilanów</th>\n",
       "      <td>32</td>\n",
       "      <td>MULTIPOLYGON (((2352539.623 5014714.134, 23527...</td>\n",
       "      <td>36.483642</td>\n",
       "      <td>MULTILINESTRING ((2352539.623 5014714.134, 235...</td>\n",
       "      <td>POINT (2349404.764 5016692.419)</td>\n",
       "      <td>15156.235645</td>\n",
       "      <td>15</td>\n",
       "    </tr>\n",
       "    <tr>\n",
       "      <th>Włochy</th>\n",
       "      <td>33</td>\n",
       "      <td>MULTIPOLYGON (((2335813.536 5015906.732, 23358...</td>\n",
       "      <td>28.545656</td>\n",
       "      <td>MULTILINESTRING ((2335813.536 5015906.732, 233...</td>\n",
       "      <td>POINT (2331892.103 5018656.595)</td>\n",
       "      <td>3554.894207</td>\n",
       "      <td>16</td>\n",
       "    </tr>\n",
       "    <tr>\n",
       "      <th>Żoliborz</th>\n",
       "      <td>35</td>\n",
       "      <td>MULTIPOLYGON (((2335597.242 5024039.764, 23356...</td>\n",
       "      <td>8.359910</td>\n",
       "      <td>MULTILINESTRING ((2335597.242 5024039.764, 233...</td>\n",
       "      <td>POINT (2335702.926 5024675.072)</td>\n",
       "      <td>4065.225614</td>\n",
       "      <td>17</td>\n",
       "    </tr>\n",
       "  </tbody>\n",
       "</table>\n",
       "</div>"
      ],
      "text/plain": [
       "                cartodb_id                                           geometry  \\\n",
       "name                                                                            \n",
       "Ochota                  22  MULTIPOLYGON (((2337878.958 5021897.970, 23366...   \n",
       "Rembertów               25  MULTIPOLYGON (((2352450.345 5022651.080, 23525...   \n",
       "Bemowo                   2  MULTIPOLYGON (((2323581.305 5021119.193, 23235...   \n",
       "Białołęka               19  MULTIPOLYGON (((2337288.630 5025943.588, 23374...   \n",
       "Wesoła                  31  MULTIPOLYGON (((2366844.623 5020668.818, 23667...   \n",
       "Bielany                 20  MULTIPOLYGON (((2324033.485 5026402.053, 23239...   \n",
       "Mokotów                 21  MULTIPOLYGON (((2341144.849 5020449.004, 23411...   \n",
       "Praga Południe          23  MULTIPOLYGON (((2348050.887 5021026.964, 23484...   \n",
       "Praga Północ            24  MULTIPOLYGON (((2339170.152 5026455.861, 23391...   \n",
       "Śródmieście             26  MULTIPOLYGON (((2341811.430 5022617.280, 23416...   \n",
       "Targówek                27  MULTIPOLYGON (((2341814.992 5024661.948, 23419...   \n",
       "Ursus                   28  MULTIPOLYGON (((2321224.783 5019961.147, 23212...   \n",
       "Wola                    34  MULTIPOLYGON (((2337878.958 5021897.970, 23377...   \n",
       "Ursynów                 29  MULTIPOLYGON (((2335439.280 5015156.826, 23354...   \n",
       "Wawer                   30  MULTIPOLYGON (((2349444.385 5019577.381, 23495...   \n",
       "Wilanów                 32  MULTIPOLYGON (((2352539.623 5014714.134, 23527...   \n",
       "Włochy                  33  MULTIPOLYGON (((2335813.536 5015906.732, 23358...   \n",
       "Żoliborz                35  MULTIPOLYGON (((2335597.242 5024039.764, 23356...   \n",
       "\n",
       "                     area                                           boundary  \\\n",
       "name                                                                           \n",
       "Ochota           9.690267  MULTILINESTRING ((2337878.958 5021897.970, 233...   \n",
       "Rembertów       19.308218  MULTILINESTRING ((2352450.345 5022651.080, 235...   \n",
       "Bemowo          24.993726  MULTILINESTRING ((2323581.305 5021119.193, 232...   \n",
       "Białołęka       73.130706  MULTILINESTRING ((2337288.630 5025943.588, 233...   \n",
       "Wesoła          22.951873  MULTILINESTRING ((2366844.623 5020668.818, 236...   \n",
       "Bielany         32.322991  MULTILINESTRING ((2324033.485 5026402.053, 232...   \n",
       "Mokotów         35.608018  MULTILINESTRING ((2341144.849 5020449.004, 234...   \n",
       "Praga Południe  22.344850  MULTILINESTRING ((2348050.887 5021026.964, 234...   \n",
       "Praga Północ    11.418001  MULTILINESTRING ((2339170.152 5026455.861, 233...   \n",
       "Śródmieście     15.612187  MULTILINESTRING ((2341811.430 5022617.280, 234...   \n",
       "Targówek        24.137448  MULTILINESTRING ((2341814.992 5024661.948, 234...   \n",
       "Ursus            9.350753  MULTILINESTRING ((2321224.783 5019961.147, 232...   \n",
       "Wola            19.388302  MULTILINESTRING ((2337878.958 5021897.970, 233...   \n",
       "Ursynów         44.057653  MULTILINESTRING ((2335439.280 5015156.826, 233...   \n",
       "Wawer           79.656195  MULTILINESTRING ((2349444.385 5019577.381, 234...   \n",
       "Wilanów         36.483642  MULTILINESTRING ((2352539.623 5014714.134, 235...   \n",
       "Włochy          28.545656  MULTILINESTRING ((2335813.536 5015906.732, 233...   \n",
       "Żoliborz         8.359910  MULTILINESTRING ((2335597.242 5024039.764, 233...   \n",
       "\n",
       "                                       centroid      distance  color  \n",
       "name                                                                  \n",
       "Ochota          POINT (2334791.621 5020713.307)      0.000000      0  \n",
       "Rembertów       POINT (2354414.121 5024215.769)  19932.629285      1  \n",
       "Bemowo          POINT (2327013.200 5023116.826)   8141.298559      2  \n",
       "Białołęka       POINT (2338150.091 5028981.866)   8924.594214      3  \n",
       "Wesoła          POINT (2362784.872 5022198.436)  28032.618266      4  \n",
       "Bielany         POINT (2329506.102 5026346.949)   7724.936126      5  \n",
       "Mokotów         POINT (2342368.015 5019485.390)   7675.253854      6  \n",
       "Praga Południe  POINT (2347127.907 5022674.118)  12491.145710      7  \n",
       "Praga Północ    POINT (2340759.986 5024406.726)   7018.741169      8  \n",
       "Śródmieście     POINT (2339833.072 5022221.434)   5262.192374      9  \n",
       "Targówek        POINT (2344777.103 5025622.208)  11126.866250     10  \n",
       "Ursus           POINT (2324583.808 5019638.500)  10264.242506     11  \n",
       "Wola            POINT (2332922.512 5022337.301)   2476.070156     12  \n",
       "Ursynów         POINT (2341308.130 5015416.881)   8397.441145     13  \n",
       "Wawer           POINT (2357527.368 5019498.778)  22768.163448     14  \n",
       "Wilanów         POINT (2349404.764 5016692.419)  15156.235645     15  \n",
       "Włochy          POINT (2331892.103 5018656.595)   3554.894207     16  \n",
       "Żoliborz        POINT (2335702.926 5024675.072)   4065.225614     17  "
      ]
     },
     "execution_count": 122,
     "metadata": {},
     "output_type": "execute_result"
    }
   ],
   "source": [
    "warsaw"
   ]
  },
  {
   "cell_type": "code",
   "execution_count": 123,
   "id": "52821c3b-b927-49e7-b544-871c9381f0fe",
   "metadata": {},
   "outputs": [
    {
     "data": {
      "text/plain": [
       "<AxesSubplot:>"
      ]
     },
     "execution_count": 123,
     "metadata": {},
     "output_type": "execute_result"
    },
    {
     "data": {
      "image/png": "[encoded data removed]",
      "text/plain": [
       "<Figure size 432x288 with 2 Axes>"
      ]
     },
     "metadata": {
      "needs_background": "light"
     },
     "output_type": "display_data"
    }
   ],
   "source": [
    "warsaw.plot(\"color\", legend=True)"
   ]
  },
  {
   "cell_type": "code",
   "execution_count": 88,
   "id": "fe116725-8d05-48cd-823e-54dc2d098bc1",
   "metadata": {},
   "outputs": [
    {
     "data": {
      "text/plain": [
       "<AxesSubplot:>"
      ]
     },
     "execution_count": 88,
     "metadata": {},
     "output_type": "execute_result"
    },
    {
     "data": {
      "image/png": "[encoded data removed]",
      "text/plain": [
       "<Figure size 432x288 with 1 Axes>"
      ]
     },
     "metadata": {
      "needs_background": "light"
     },
     "output_type": "display_data"
    }
   ],
   "source": [
    "warsaw.plot()"
   ]
  },
  {
   "cell_type": "code",
   "execution_count": 104,
   "id": "59ad5ab2-9941-47e4-8749-8d6a44690346",
   "metadata": {},
   "outputs": [
    {
     "data": {
      "text/plain": [
       "<AxesSubplot:>"
      ]
     },
     "execution_count": 104,
     "metadata": {},
     "output_type": "execute_result"
    },
    {
     "data": {
      "image/png": "[encoded data removed]",
      "text/plain": [
       "<Figure size 432x288 with 1 Axes>"
      ]
     },
     "metadata": {
      "needs_background": "light"
     },
     "output_type": "display_data"
    }
   ],
   "source": [
    "warsaw.plot(\"color\")"
   ]
  },
  {
   "cell_type": "code",
   "execution_count": null,
   "id": "22b8456c-aee5-4e20-941e-f5089cd9428c",
   "metadata": {},
   "outputs": [],
   "source": []
  },
  {
   "cell_type": "code",
   "execution_count": null,
   "id": "45e5b024-4952-43da-b361-20985b03b8c5",
   "metadata": {},
   "outputs": [],
   "source": []
  }
 ],
 "metadata": {
  "kernelspec": {
   "display_name": "nlp",
   "language": "python",
   "name": "nlp"
  },
  "language_info": {
   "codemirror_mode": {
    "name": "ipython",
    "version": 3
   },
   "file_extension": ".py",
   "mimetype": "text/x-python",
   "name": "python",
   "nbconvert_exporter": "python",
   "pygments_lexer": "ipython3",
   "version": "3.9.2"
  }
 },
 "nbformat": 4,
 "nbformat_minor": 5
}
