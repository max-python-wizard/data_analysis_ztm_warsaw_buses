{
 "cells": [
  {
   "cell_type": "code",
   "execution_count": null,
   "id": "67fa0fa3-8509-4459-a47e-e3072ad8bf00",
   "metadata": {},
   "outputs": [],
   "source": [
    "# https://python.plainenglish.io/from-api-to-pandas-getting-json-data-with-python-df127f699b6b"
   ]
  },
  {
   "cell_type": "code",
   "execution_count": 1,
   "id": "a9a480ea-7b49-444b-92bc-ef2d758947ca",
   "metadata": {},
   "outputs": [],
   "source": [
    "# to handle  data retrieval\n",
    "import urllib3\n",
    "from urllib3 import request# to handle certificate verification\n",
    "import certifi# to manage json data\n",
    "import json# for pandas dataframes\n",
    "import pandas as pd# uncomment below if installation needed (not necessary in Colab)\n",
    "#!pip install certifi"
   ]
  },
  {
   "cell_type": "code",
   "execution_count": null,
   "id": "b82ab964-ff33-43d8-965f-f67a588f88c0",
   "metadata": {},
   "outputs": [],
   "source": [
    "from datetime import datetime"
   ]
  },
  {
   "cell_type": "code",
   "execution_count": null,
   "id": "777b4394-5ede-4faf-bc0a-43fa18a688a9",
   "metadata": {},
   "outputs": [],
   "source": []
  },
  {
   "cell_type": "code",
   "execution_count": 2,
   "id": "7823e007-7384-444a-8030-9c954fc436cb",
   "metadata": {},
   "outputs": [],
   "source": [
    "# handle certificate verification and SSL warnings\n",
    "# https://urllib3.readthedocs.io/en/latest/user-guide.html#ssl\n",
    "\n",
    "http = urllib3.PoolManager(cert_reqs='CERT_REQUIRED', ca_certs=certifi.where())"
   ]
  },
  {
   "cell_type": "code",
   "execution_count": null,
   "id": "8f973136-7ef7-4223-b33c-3decac037819",
   "metadata": {},
   "outputs": [],
   "source": [
    "# get data from the API\n",
    "url = 'https://api.um.warszawa.pl/api/action/busestrams_get/?resource_id=f2e5503e-927d-4ad3-9500-4ab9e55deb59&apikey=7a621357-5917-4df8-ae3d-8889bb779dd4&type=1'"
   ]
  },
  {
   "cell_type": "code",
   "execution_count": 21,
   "id": "10046c1b-5851-4b57-816d-4c17e30e49a4",
   "metadata": {},
   "outputs": [],
   "source": [
    "def load_api_save_file():\n",
    "    r = http.request('GET', url)\n",
    "    r.status\n",
    "    \n",
    "    # decode json data into a dict object\n",
    "    data = json.loads(r.data.decode('utf-8'))\n",
    "    data['result'][:5]\n",
    "    \n",
    "    df = pd.json_normalize(data, 'result')\n",
    "    df.head(10)\n",
    "    \n",
    "    # datetime object containing current date and time\n",
    "    now = datetime.now()\n",
    "\n",
    "    # dd/mm/YY H:M:S\n",
    "    dt_string = now.strftime(\"%d-%m-%Y %H:%M:%S\")\n",
    "    print(\"date and time =\", dt_string)\t\n",
    "\n",
    "    directory = 'ztm_file_export/'\n",
    "    file_name = \"ztm_bus_data_\"\n",
    "    file_name += dt_string\n",
    "\n",
    "    df.to_csv(directory+file_name)\n",
    "    \n",
    "    "
   ]
  },
  {
   "cell_type": "code",
   "execution_count": 22,
   "id": "773079ae-5d90-492b-a09a-1f680b38ea94",
   "metadata": {},
   "outputs": [
    {
     "name": "stdout",
     "output_type": "stream",
     "text": [
      "date and time = 26-06-2021 14:33:50\n"
     ]
    }
   ],
   "source": [
    "load_api_save_file()"
   ]
  },
  {
   "cell_type": "code",
   "execution_count": 3,
   "id": "80993f62-5f20-42f4-82fb-42d3297bdea8",
   "metadata": {},
   "outputs": [
    {
     "data": {
      "text/plain": [
       "200"
      ]
     },
     "execution_count": 3,
     "metadata": {},
     "output_type": "execute_result"
    }
   ],
   "source": [
    "\n",
    "r = http.request('GET', url)\n",
    "r.status"
   ]
  },
  {
   "cell_type": "code",
   "execution_count": 4,
   "id": "33863b25-30f8-441d-ba92-37862c982b25",
   "metadata": {},
   "outputs": [
    {
     "data": {
      "text/plain": [
       "[{'Lines': '213',\n",
       "  'Lon': 21.1152613,\n",
       "  'VehicleNumber': '1000',\n",
       "  'Time': '2021-06-25 23:22:58',\n",
       "  'Lat': 52.2346205,\n",
       "  'Brigade': '3'},\n",
       " {'Lines': '213',\n",
       "  'Lon': 21.115043,\n",
       "  'VehicleNumber': '1001',\n",
       "  'Time': '2021-06-25 23:56:49',\n",
       "  'Lat': 52.23463,\n",
       "  'Brigade': '1'},\n",
       " {'Lines': '213',\n",
       "  'Lon': 21.2196693,\n",
       "  'VehicleNumber': '1003',\n",
       "  'Time': '2021-06-26 14:19:17',\n",
       "  'Lat': 52.1637016,\n",
       "  'Brigade': '1'},\n",
       " {'Lines': '311',\n",
       "  'Lon': 21.115233,\n",
       "  'VehicleNumber': '1004',\n",
       "  'Time': '2021-06-25 21:52:40',\n",
       "  'Lat': 52.23458,\n",
       "  'Brigade': '2'},\n",
       " {'Lines': '196',\n",
       "  'Lon': 21.11514,\n",
       "  'VehicleNumber': '1005',\n",
       "  'Time': '2021-06-25 23:48:58',\n",
       "  'Lat': 52.234611,\n",
       "  'Brigade': '1'}]"
      ]
     },
     "execution_count": 4,
     "metadata": {},
     "output_type": "execute_result"
    }
   ],
   "source": [
    "# decode json data into a dict object\n",
    "data = json.loads(r.data.decode('utf-8'))\n",
    "data['result'][:5]"
   ]
  },
  {
   "cell_type": "code",
   "execution_count": 5,
   "id": "56b59c25-d2a3-42bd-b7e6-0fe7736a2c35",
   "metadata": {},
   "outputs": [
    {
     "data": {
      "text/html": [
       "<div>\n",
       "<style scoped>\n",
       "    .dataframe tbody tr th:only-of-type {\n",
       "        vertical-align: middle;\n",
       "    }\n",
       "\n",
       "    .dataframe tbody tr th {\n",
       "        vertical-align: top;\n",
       "    }\n",
       "\n",
       "    .dataframe thead th {\n",
       "        text-align: right;\n",
       "    }\n",
       "</style>\n",
       "<table border=\"1\" class=\"dataframe\">\n",
       "  <thead>\n",
       "    <tr style=\"text-align: right;\">\n",
       "      <th></th>\n",
       "      <th>Lines</th>\n",
       "      <th>Lon</th>\n",
       "      <th>VehicleNumber</th>\n",
       "      <th>Time</th>\n",
       "      <th>Lat</th>\n",
       "      <th>Brigade</th>\n",
       "    </tr>\n",
       "  </thead>\n",
       "  <tbody>\n",
       "    <tr>\n",
       "      <th>0</th>\n",
       "      <td>213</td>\n",
       "      <td>21.115261</td>\n",
       "      <td>1000</td>\n",
       "      <td>2021-06-25 23:22:58</td>\n",
       "      <td>52.234620</td>\n",
       "      <td>3</td>\n",
       "    </tr>\n",
       "    <tr>\n",
       "      <th>1</th>\n",
       "      <td>213</td>\n",
       "      <td>21.115043</td>\n",
       "      <td>1001</td>\n",
       "      <td>2021-06-25 23:56:49</td>\n",
       "      <td>52.234630</td>\n",
       "      <td>1</td>\n",
       "    </tr>\n",
       "    <tr>\n",
       "      <th>2</th>\n",
       "      <td>213</td>\n",
       "      <td>21.219669</td>\n",
       "      <td>1003</td>\n",
       "      <td>2021-06-26 14:19:17</td>\n",
       "      <td>52.163702</td>\n",
       "      <td>1</td>\n",
       "    </tr>\n",
       "    <tr>\n",
       "      <th>3</th>\n",
       "      <td>311</td>\n",
       "      <td>21.115233</td>\n",
       "      <td>1004</td>\n",
       "      <td>2021-06-25 21:52:40</td>\n",
       "      <td>52.234580</td>\n",
       "      <td>2</td>\n",
       "    </tr>\n",
       "    <tr>\n",
       "      <th>4</th>\n",
       "      <td>196</td>\n",
       "      <td>21.115140</td>\n",
       "      <td>1005</td>\n",
       "      <td>2021-06-25 23:48:58</td>\n",
       "      <td>52.234611</td>\n",
       "      <td>1</td>\n",
       "    </tr>\n",
       "    <tr>\n",
       "      <th>5</th>\n",
       "      <td>130</td>\n",
       "      <td>21.115590</td>\n",
       "      <td>1008</td>\n",
       "      <td>2021-06-25 20:19:05</td>\n",
       "      <td>52.234613</td>\n",
       "      <td>04</td>\n",
       "    </tr>\n",
       "    <tr>\n",
       "      <th>6</th>\n",
       "      <td>213</td>\n",
       "      <td>21.089413</td>\n",
       "      <td>1010</td>\n",
       "      <td>2021-06-26 14:19:14</td>\n",
       "      <td>52.220626</td>\n",
       "      <td>2</td>\n",
       "    </tr>\n",
       "    <tr>\n",
       "      <th>7</th>\n",
       "      <td>213</td>\n",
       "      <td>21.223388</td>\n",
       "      <td>1011</td>\n",
       "      <td>2021-06-26 14:19:21</td>\n",
       "      <td>52.160044</td>\n",
       "      <td>4</td>\n",
       "    </tr>\n",
       "    <tr>\n",
       "      <th>8</th>\n",
       "      <td>311</td>\n",
       "      <td>21.115517</td>\n",
       "      <td>1012</td>\n",
       "      <td>2021-06-25 21:16:38</td>\n",
       "      <td>52.234615</td>\n",
       "      <td>1</td>\n",
       "    </tr>\n",
       "    <tr>\n",
       "      <th>9</th>\n",
       "      <td>213</td>\n",
       "      <td>21.089450</td>\n",
       "      <td>1015</td>\n",
       "      <td>2021-06-26 14:19:10</td>\n",
       "      <td>52.220059</td>\n",
       "      <td>3</td>\n",
       "    </tr>\n",
       "  </tbody>\n",
       "</table>\n",
       "</div>"
      ],
      "text/plain": [
       "  Lines        Lon VehicleNumber                 Time        Lat Brigade\n",
       "0   213  21.115261          1000  2021-06-25 23:22:58  52.234620       3\n",
       "1   213  21.115043          1001  2021-06-25 23:56:49  52.234630       1\n",
       "2   213  21.219669          1003  2021-06-26 14:19:17  52.163702       1\n",
       "3   311  21.115233          1004  2021-06-25 21:52:40  52.234580       2\n",
       "4   196  21.115140          1005  2021-06-25 23:48:58  52.234611       1\n",
       "5   130  21.115590          1008  2021-06-25 20:19:05  52.234613      04\n",
       "6   213  21.089413          1010  2021-06-26 14:19:14  52.220626       2\n",
       "7   213  21.223388          1011  2021-06-26 14:19:21  52.160044       4\n",
       "8   311  21.115517          1012  2021-06-25 21:16:38  52.234615       1\n",
       "9   213  21.089450          1015  2021-06-26 14:19:10  52.220059       3"
      ]
     },
     "execution_count": 5,
     "metadata": {},
     "output_type": "execute_result"
    }
   ],
   "source": [
    "df = pd.json_normalize(data, 'result')\n",
    "df.head(10)"
   ]
  },
  {
   "cell_type": "code",
   "execution_count": 7,
   "id": "3b2609bb-6df9-4711-8ef6-2e467f86be49",
   "metadata": {},
   "outputs": [
    {
     "data": {
      "text/plain": [
       "0      False\n",
       "1      False\n",
       "2      False\n",
       "3      False\n",
       "4      False\n",
       "       ...  \n",
       "985    False\n",
       "986    False\n",
       "987    False\n",
       "988    False\n",
       "989    False\n",
       "Name: Lines, Length: 990, dtype: bool"
      ]
     },
     "execution_count": 7,
     "metadata": {},
     "output_type": "execute_result"
    }
   ],
   "source": [
    "df['Lines'] == '111'"
   ]
  },
  {
   "cell_type": "code",
   "execution_count": 8,
   "id": "47fa4365-3e60-4011-9bc4-f09880dc4aa1",
   "metadata": {},
   "outputs": [
    {
     "data": {
      "text/html": [
       "<div>\n",
       "<style scoped>\n",
       "    .dataframe tbody tr th:only-of-type {\n",
       "        vertical-align: middle;\n",
       "    }\n",
       "\n",
       "    .dataframe tbody tr th {\n",
       "        vertical-align: top;\n",
       "    }\n",
       "\n",
       "    .dataframe thead th {\n",
       "        text-align: right;\n",
       "    }\n",
       "</style>\n",
       "<table border=\"1\" class=\"dataframe\">\n",
       "  <thead>\n",
       "    <tr style=\"text-align: right;\">\n",
       "      <th></th>\n",
       "      <th>Lines</th>\n",
       "      <th>Lon</th>\n",
       "      <th>VehicleNumber</th>\n",
       "      <th>Time</th>\n",
       "      <th>Lat</th>\n",
       "      <th>Brigade</th>\n",
       "    </tr>\n",
       "  </thead>\n",
       "  <tbody>\n",
       "    <tr>\n",
       "      <th>436</th>\n",
       "      <td>111</td>\n",
       "      <td>21.062666</td>\n",
       "      <td>5900</td>\n",
       "      <td>2021-06-26 14:19:18</td>\n",
       "      <td>52.230801</td>\n",
       "      <td>4</td>\n",
       "    </tr>\n",
       "    <tr>\n",
       "      <th>445</th>\n",
       "      <td>111</td>\n",
       "      <td>21.101866</td>\n",
       "      <td>5920</td>\n",
       "      <td>2021-06-26 14:19:15</td>\n",
       "      <td>52.225124</td>\n",
       "      <td>6</td>\n",
       "    </tr>\n",
       "    <tr>\n",
       "      <th>447</th>\n",
       "      <td>111</td>\n",
       "      <td>21.107388</td>\n",
       "      <td>5922</td>\n",
       "      <td>2021-06-26 07:42:12</td>\n",
       "      <td>52.233645</td>\n",
       "      <td></td>\n",
       "    </tr>\n",
       "    <tr>\n",
       "      <th>448</th>\n",
       "      <td>111</td>\n",
       "      <td>21.116245</td>\n",
       "      <td>5926</td>\n",
       "      <td>2021-06-26 00:24:55</td>\n",
       "      <td>52.234005</td>\n",
       "      <td>5</td>\n",
       "    </tr>\n",
       "    <tr>\n",
       "      <th>449</th>\n",
       "      <td>111</td>\n",
       "      <td>21.009554</td>\n",
       "      <td>5927</td>\n",
       "      <td>2021-06-26 14:19:17</td>\n",
       "      <td>52.233833</td>\n",
       "      <td>3</td>\n",
       "    </tr>\n",
       "    <tr>\n",
       "      <th>450</th>\n",
       "      <td>111</td>\n",
       "      <td>21.006691</td>\n",
       "      <td>5931</td>\n",
       "      <td>2021-06-26 14:19:15</td>\n",
       "      <td>52.238033</td>\n",
       "      <td>8</td>\n",
       "    </tr>\n",
       "    <tr>\n",
       "      <th>482</th>\n",
       "      <td>111</td>\n",
       "      <td>21.102476</td>\n",
       "      <td>5984</td>\n",
       "      <td>2021-06-26 14:19:18</td>\n",
       "      <td>52.222061</td>\n",
       "      <td>5</td>\n",
       "    </tr>\n",
       "    <tr>\n",
       "      <th>483</th>\n",
       "      <td>111</td>\n",
       "      <td>21.057146</td>\n",
       "      <td>5985</td>\n",
       "      <td>2021-06-26 14:19:18</td>\n",
       "      <td>52.237259</td>\n",
       "      <td>7</td>\n",
       "    </tr>\n",
       "    <tr>\n",
       "      <th>484</th>\n",
       "      <td>111</td>\n",
       "      <td>20.982103</td>\n",
       "      <td>5986</td>\n",
       "      <td>2021-06-26 14:19:18</td>\n",
       "      <td>52.245338</td>\n",
       "      <td>2</td>\n",
       "    </tr>\n",
       "    <tr>\n",
       "      <th>495</th>\n",
       "      <td>111</td>\n",
       "      <td>20.979559</td>\n",
       "      <td>5999</td>\n",
       "      <td>2021-06-26 14:19:16</td>\n",
       "      <td>52.244495</td>\n",
       "      <td>1</td>\n",
       "    </tr>\n",
       "  </tbody>\n",
       "</table>\n",
       "</div>"
      ],
      "text/plain": [
       "    Lines        Lon VehicleNumber                 Time        Lat Brigade\n",
       "436   111  21.062666          5900  2021-06-26 14:19:18  52.230801       4\n",
       "445   111  21.101866          5920  2021-06-26 14:19:15  52.225124       6\n",
       "447   111  21.107388          5922  2021-06-26 07:42:12  52.233645        \n",
       "448   111  21.116245          5926  2021-06-26 00:24:55  52.234005       5\n",
       "449   111  21.009554          5927  2021-06-26 14:19:17  52.233833       3\n",
       "450   111  21.006691          5931  2021-06-26 14:19:15  52.238033       8\n",
       "482   111  21.102476          5984  2021-06-26 14:19:18  52.222061       5\n",
       "483   111  21.057146          5985  2021-06-26 14:19:18  52.237259       7\n",
       "484   111  20.982103          5986  2021-06-26 14:19:18  52.245338       2\n",
       "495   111  20.979559          5999  2021-06-26 14:19:16  52.244495       1"
      ]
     },
     "execution_count": 8,
     "metadata": {},
     "output_type": "execute_result"
    }
   ],
   "source": [
    "df[df['Lines'] == '111']"
   ]
  },
  {
   "cell_type": "code",
   "execution_count": 29,
   "id": "4c3bc351-ec7a-4aba-a0b5-fc158631d2ce",
   "metadata": {},
   "outputs": [
    {
     "ename": "SyntaxError",
     "evalue": "expression cannot contain assignment, perhaps you meant \"==\"? (<ipython-input-29-5cd15f9ab011>, line 1)",
     "output_type": "error",
     "traceback": [
      "\u001b[0;36m  File \u001b[0;32m\"<ipython-input-29-5cd15f9ab011>\"\u001b[0;36m, line \u001b[0;32m1\u001b[0m\n\u001b[0;31m    print(df['Lines'] = 213)\u001b[0m\n\u001b[0m          ^\u001b[0m\n\u001b[0;31mSyntaxError\u001b[0m\u001b[0;31m:\u001b[0m expression cannot contain assignment, perhaps you meant \"==\"?\n"
     ]
    }
   ],
   "source": [
    "print(df['Lines'] = 213)"
   ]
  },
  {
   "cell_type": "code",
   "execution_count": null,
   "id": "e33d6b5f-adf1-4fdb-a6c2-637e67cf50c7",
   "metadata": {},
   "outputs": [],
   "source": [
    "from datetime import datetime"
   ]
  },
  {
   "cell_type": "code",
   "execution_count": 12,
   "id": "ce7b1240-19ac-40b0-bca5-d4436e28bd6c",
   "metadata": {},
   "outputs": [
    {
     "name": "stdout",
     "output_type": "stream",
     "text": [
      "now = 2021-06-26 14:33:50.498460\n",
      "date and time = 26-06-2021 14:33:50\n"
     ]
    }
   ],
   "source": [
    "# datetime object containing current date and time\n",
    "now = datetime.now()\n",
    " \n",
    "print(\"now =\", now)\n",
    "\n",
    "# dd/mm/YY H:M:S\n",
    "dt_string = now.strftime(\"%d-%m-%Y %H:%M:%S\")\n",
    "print(\"date and time =\", dt_string)\t"
   ]
  },
  {
   "cell_type": "code",
   "execution_count": 16,
   "id": "1a211561-1795-4f62-af59-fd806af9e695",
   "metadata": {},
   "outputs": [],
   "source": [
    "# datetime object containing current date and time\n",
    "\n",
    "# dd/mm/YY H:M:S\n",
    "dt_string = now.strftime(\"%d-%m-%Y %H:%M:%S\")\n",
    "print(\"date and time =\", dt_string)\t\n",
    "\n",
    "directory = 'ztm_file_export/'\n",
    "file_name = \"ztm_bus_data_\"\n",
    "file_name += dt_string\n",
    "\n",
    "df.to_csv(directory+file_name)"
   ]
  },
  {
   "cell_type": "code",
   "execution_count": 18,
   "id": "7b07c698-b345-4afc-9950-eee3be97f914",
   "metadata": {},
   "outputs": [],
   "source": []
  },
  {
   "cell_type": "code",
   "execution_count": null,
   "id": "8fdaa0e6-1c8d-4358-aa66-da4537a78227",
   "metadata": {},
   "outputs": [],
   "source": [
    "https://api.um.warszawa.pl/api/action/busestrams_get/?resource_id=f2e5503e-927d-4ad3-9500-4ab9e55deb59&apikey=7a621357-5917-4df8-ae3d-8889bb779dd4&type=1\n",
    "\n",
    "7a621357-5917-4df8-ae3d-8889bb779dd4"
   ]
  }
 ],
 "metadata": {
  "kernelspec": {
   "display_name": "nlp",
   "language": "python",
   "name": "nlp"
  },
  "language_info": {
   "codemirror_mode": {
    "name": "ipython",
    "version": 3
   },
   "file_extension": ".py",
   "mimetype": "text/x-python",
   "name": "python",
   "nbconvert_exporter": "python",
   "pygments_lexer": "ipython3",
   "version": "3.9.2"
  }
 },
 "nbformat": 4,
 "nbformat_minor": 5
}
