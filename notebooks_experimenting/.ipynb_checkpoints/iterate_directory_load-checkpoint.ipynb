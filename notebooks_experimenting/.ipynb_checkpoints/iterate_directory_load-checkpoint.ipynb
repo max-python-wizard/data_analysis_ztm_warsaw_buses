{
 "cells": [
  {
   "cell_type": "code",
   "execution_count": 2,
   "id": "32dedb18-b5ab-4934-8ce8-3e345cd66fb1",
   "metadata": {},
   "outputs": [],
   "source": [
    "import pandas as pd"
   ]
  },
  {
   "cell_type": "code",
   "execution_count": 1,
   "id": "a55cdc44-65ab-4a38-846f-e3b4271811c0",
   "metadata": {},
   "outputs": [
    {
     "name": "stdout",
     "output_type": "stream",
     "text": [
      "ztm_file_export/ztm_bus_data_26-06-2021 14:33:50\n",
      "ztm_file_export/ztm_bus_data_26-06-2021 14:50:16\n",
      "ztm_file_export/ztm_bus_data_26-06-2021 14:50:29\n",
      "ztm_file_export/ztm_bus_data_26-06-2021 14:50:34\n",
      "ztm_file_export/ztm_bus_data_26-06-2021 14:50:37\n",
      "ztm_file_export/ztm_bus_data_26-06-2021 15:32:06\n",
      "ztm_file_export/ztm_bus_data_26-06-2021 15:32:11\n",
      "ztm_file_export/ztm_bus_data_26-06-2021 15:32:17\n",
      "ztm_file_export/ztm_bus_data_26-06-2021 15:32:22\n",
      "ztm_file_export/ztm_bus_data_26-06-2021 15:32:27\n",
      "ztm_file_export/ztm_bus_data_26-06-2021 15:43:49\n"
     ]
    }
   ],
   "source": [
    "# import required module\n",
    "import os\n",
    "# assign directory\n",
    "directory = 'ztm1_file_export'\n",
    " \n",
    "# iterate over files in\n",
    "# that directory\n",
    "for filename in os.listdir(directory):\n",
    "    f = os.path.join(directory, filename)\n",
    "    # checking if it is a file\n",
    "    if os.path.isfile(f):\n",
    "        print(f)"
   ]
  },
  {
   "cell_type": "code",
   "execution_count": 4,
   "id": "2275d1ee-8b82-45e2-af5f-6e20b4bac7e0",
   "metadata": {},
   "outputs": [],
   "source": [
    "df = pd.read_csv('ztm_file_export/ztm_bus_data_26-06-2021 14:33:50')"
   ]
  },
  {
   "cell_type": "code",
   "execution_count": 5,
   "id": "46e92de7-473d-477b-ba1b-42c9cb902e1d",
   "metadata": {},
   "outputs": [
    {
     "data": {
      "text/html": [
       "<div>\n",
       "<style scoped>\n",
       "    .dataframe tbody tr th:only-of-type {\n",
       "        vertical-align: middle;\n",
       "    }\n",
       "\n",
       "    .dataframe tbody tr th {\n",
       "        vertical-align: top;\n",
       "    }\n",
       "\n",
       "    .dataframe thead th {\n",
       "        text-align: right;\n",
       "    }\n",
       "</style>\n",
       "<table border=\"1\" class=\"dataframe\">\n",
       "  <thead>\n",
       "    <tr style=\"text-align: right;\">\n",
       "      <th></th>\n",
       "      <th>Unnamed: 0</th>\n",
       "      <th>Lines</th>\n",
       "      <th>Lon</th>\n",
       "      <th>VehicleNumber</th>\n",
       "      <th>Time</th>\n",
       "      <th>Lat</th>\n",
       "      <th>Brigade</th>\n",
       "    </tr>\n",
       "  </thead>\n",
       "  <tbody>\n",
       "    <tr>\n",
       "      <th>0</th>\n",
       "      <td>0</td>\n",
       "      <td>213</td>\n",
       "      <td>21.115261</td>\n",
       "      <td>1000</td>\n",
       "      <td>2021-06-25 23:22:58</td>\n",
       "      <td>52.234620</td>\n",
       "      <td>3</td>\n",
       "    </tr>\n",
       "    <tr>\n",
       "      <th>1</th>\n",
       "      <td>1</td>\n",
       "      <td>213</td>\n",
       "      <td>21.115043</td>\n",
       "      <td>1001</td>\n",
       "      <td>2021-06-25 23:56:49</td>\n",
       "      <td>52.234630</td>\n",
       "      <td>1</td>\n",
       "    </tr>\n",
       "    <tr>\n",
       "      <th>2</th>\n",
       "      <td>2</td>\n",
       "      <td>213</td>\n",
       "      <td>21.211867</td>\n",
       "      <td>1003</td>\n",
       "      <td>2021-06-26 14:46:16</td>\n",
       "      <td>52.160585</td>\n",
       "      <td>1</td>\n",
       "    </tr>\n",
       "    <tr>\n",
       "      <th>3</th>\n",
       "      <td>3</td>\n",
       "      <td>311</td>\n",
       "      <td>21.115233</td>\n",
       "      <td>1004</td>\n",
       "      <td>2021-06-25 21:52:40</td>\n",
       "      <td>52.234580</td>\n",
       "      <td>2</td>\n",
       "    </tr>\n",
       "    <tr>\n",
       "      <th>4</th>\n",
       "      <td>4</td>\n",
       "      <td>196</td>\n",
       "      <td>21.115140</td>\n",
       "      <td>1005</td>\n",
       "      <td>2021-06-25 23:48:58</td>\n",
       "      <td>52.234611</td>\n",
       "      <td>1</td>\n",
       "    </tr>\n",
       "    <tr>\n",
       "      <th>...</th>\n",
       "      <td>...</td>\n",
       "      <td>...</td>\n",
       "      <td>...</td>\n",
       "      <td>...</td>\n",
       "      <td>...</td>\n",
       "      <td>...</td>\n",
       "      <td>...</td>\n",
       "    </tr>\n",
       "    <tr>\n",
       "      <th>982</th>\n",
       "      <td>982</td>\n",
       "      <td>190</td>\n",
       "      <td>21.069029</td>\n",
       "      <td>9949</td>\n",
       "      <td>2021-06-26 14:46:11</td>\n",
       "      <td>52.279461</td>\n",
       "      <td>6</td>\n",
       "    </tr>\n",
       "    <tr>\n",
       "      <th>983</th>\n",
       "      <td>983</td>\n",
       "      <td>190</td>\n",
       "      <td>21.085354</td>\n",
       "      <td>9951</td>\n",
       "      <td>2021-06-26 14:46:15</td>\n",
       "      <td>52.304966</td>\n",
       "      <td>7</td>\n",
       "    </tr>\n",
       "    <tr>\n",
       "      <th>984</th>\n",
       "      <td>984</td>\n",
       "      <td>190</td>\n",
       "      <td>20.908255</td>\n",
       "      <td>9953</td>\n",
       "      <td>2021-06-26 14:46:13</td>\n",
       "      <td>52.228401</td>\n",
       "      <td>1</td>\n",
       "    </tr>\n",
       "    <tr>\n",
       "      <th>985</th>\n",
       "      <td>985</td>\n",
       "      <td>186</td>\n",
       "      <td>20.942226</td>\n",
       "      <td>9954</td>\n",
       "      <td>2021-06-26 14:46:10</td>\n",
       "      <td>52.334217</td>\n",
       "      <td>67</td>\n",
       "    </tr>\n",
       "    <tr>\n",
       "      <th>986</th>\n",
       "      <td>986</td>\n",
       "      <td>o43A</td>\n",
       "      <td>21.423235</td>\n",
       "      <td>9999</td>\n",
       "      <td>2021-06-25 14:26:34</td>\n",
       "      <td>50.302956</td>\n",
       "      <td>1</td>\n",
       "    </tr>\n",
       "  </tbody>\n",
       "</table>\n",
       "<p>987 rows × 7 columns</p>\n",
       "</div>"
      ],
      "text/plain": [
       "     Unnamed: 0 Lines        Lon  VehicleNumber                 Time  \\\n",
       "0             0   213  21.115261           1000  2021-06-25 23:22:58   \n",
       "1             1   213  21.115043           1001  2021-06-25 23:56:49   \n",
       "2             2   213  21.211867           1003  2021-06-26 14:46:16   \n",
       "3             3   311  21.115233           1004  2021-06-25 21:52:40   \n",
       "4             4   196  21.115140           1005  2021-06-25 23:48:58   \n",
       "..          ...   ...        ...            ...                  ...   \n",
       "982         982   190  21.069029           9949  2021-06-26 14:46:11   \n",
       "983         983   190  21.085354           9951  2021-06-26 14:46:15   \n",
       "984         984   190  20.908255           9953  2021-06-26 14:46:13   \n",
       "985         985   186  20.942226           9954  2021-06-26 14:46:10   \n",
       "986         986  o43A  21.423235           9999  2021-06-25 14:26:34   \n",
       "\n",
       "           Lat Brigade  \n",
       "0    52.234620       3  \n",
       "1    52.234630       1  \n",
       "2    52.160585       1  \n",
       "3    52.234580       2  \n",
       "4    52.234611       1  \n",
       "..         ...     ...  \n",
       "982  52.279461       6  \n",
       "983  52.304966       7  \n",
       "984  52.228401       1  \n",
       "985  52.334217      67  \n",
       "986  50.302956       1  \n",
       "\n",
       "[987 rows x 7 columns]"
      ]
     },
     "execution_count": 5,
     "metadata": {},
     "output_type": "execute_result"
    }
   ],
   "source": [
    "df"
   ]
  },
  {
   "cell_type": "code",
   "execution_count": null,
   "id": "e973c2da-149f-48cd-bbc7-0ebc25a9295e",
   "metadata": {},
   "outputs": [],
   "source": []
  },
  {
   "cell_type": "code",
   "execution_count": 8,
   "id": "a81ebf8f-8ae8-4112-bbd3-5efa67bfdee5",
   "metadata": {},
   "outputs": [],
   "source": []
  },
  {
   "cell_type": "code",
   "execution_count": 10,
   "id": "567ba76a-c84c-4755-b1ab-23639f8a3939",
   "metadata": {},
   "outputs": [
    {
     "name": "stdout",
     "output_type": "stream",
     "text": [
      "\u001b[0m\u001b[01;34mgarbage\u001b[0m          iterate_directory_load.ipynb  \u001b[01;34mztm1\u001b[0m  \u001b[01;34mztm_file_export_whole_hour\u001b[0m\n",
      "geopandas.ipynb  loading_data.ipynb            \u001b[01;34mztm2\u001b[0m\n"
     ]
    }
   ],
   "source": [
    "!ls"
   ]
  },
  {
   "cell_type": "code",
   "execution_count": 11,
   "id": "8e49e9dc-b538-45c3-8fc3-dddd99be8a89",
   "metadata": {},
   "outputs": [],
   "source": [
    "# Python program to rename all file\n",
    "# names in your directory \n",
    "import os"
   ]
  },
  {
   "cell_type": "code",
   "execution_count": null,
   "id": "4fb82c2a-429f-4ba0-b0e2-51212d49c005",
   "metadata": {},
   "outputs": [],
   "source": [
    "ztm_file_export_whole_hour"
   ]
  },
  {
   "cell_type": "code",
   "execution_count": 15,
   "id": "34c58923-3a0b-46c9-b5b7-4498541f4645",
   "metadata": {},
   "outputs": [
    {
     "name": "stdout",
     "output_type": "stream",
     "text": [
      "/home/byun/programowanie/ztm_project/notebooks_experimenting/ztm1\n"
     ]
    }
   ],
   "source": [
    "os.chdir('../ztm6')\n",
    "print(os.getcwd())\n",
    "COUNT = 1\n",
    "  \n",
    "# Function to increment count \n",
    "# to make the files sorted.\n",
    "\n",
    "def increment():\n",
    "    global COUNT\n",
    "    COUNT = COUNT + 1\n",
    "\n",
    "\n",
    "for f in os.listdir():\n",
    "    printf(f)\n",
    "    f_name, f_ext = os.path.splitext(f)\n",
    "    f_name = \"ztm\" + str(COUNT)\n",
    "    increment()\n",
    "  \n",
    "    new_name = '{} {}'.format(f_name, f_ext)\n",
    "    os.rename(f, new_name)"
   ]
  },
  {
   "cell_type": "code",
   "execution_count": null,
   "id": "4419620f-80fe-4bc3-8418-82c03918bd58",
   "metadata": {},
   "outputs": [],
   "source": []
  },
  {
   "cell_type": "code",
   "execution_count": 16,
   "id": "0284d247-3568-4969-a857-9b5fb75ee213",
   "metadata": {},
   "outputs": [
    {
     "ename": "FileNotFoundError",
     "evalue": "[Errno 2] No such file or directory: 'ztm1_file_export'",
     "output_type": "error",
     "traceback": [
      "\u001b[0;31m---------------------------------------------------------------------------\u001b[0m",
      "\u001b[0;31mFileNotFoundError\u001b[0m                         Traceback (most recent call last)",
      "\u001b[0;32m<ipython-input-16-126b86c1cbbe>\u001b[0m in \u001b[0;36m<module>\u001b[0;34m\u001b[0m\n\u001b[1;32m      6\u001b[0m \u001b[0;31m# iterate over files in\u001b[0m\u001b[0;34m\u001b[0m\u001b[0;34m\u001b[0m\u001b[0;34m\u001b[0m\u001b[0m\n\u001b[1;32m      7\u001b[0m \u001b[0;31m# that directory\u001b[0m\u001b[0;34m\u001b[0m\u001b[0;34m\u001b[0m\u001b[0;34m\u001b[0m\u001b[0m\n\u001b[0;32m----> 8\u001b[0;31m \u001b[0;32mfor\u001b[0m \u001b[0mfilename\u001b[0m \u001b[0;32min\u001b[0m \u001b[0mos\u001b[0m\u001b[0;34m.\u001b[0m\u001b[0mlistdir\u001b[0m\u001b[0;34m(\u001b[0m\u001b[0mdirectory\u001b[0m\u001b[0;34m)\u001b[0m\u001b[0;34m:\u001b[0m\u001b[0;34m\u001b[0m\u001b[0;34m\u001b[0m\u001b[0m\n\u001b[0m\u001b[1;32m      9\u001b[0m     \u001b[0mf\u001b[0m \u001b[0;34m=\u001b[0m \u001b[0mos\u001b[0m\u001b[0;34m.\u001b[0m\u001b[0mpath\u001b[0m\u001b[0;34m.\u001b[0m\u001b[0mjoin\u001b[0m\u001b[0;34m(\u001b[0m\u001b[0mdirectory\u001b[0m\u001b[0;34m,\u001b[0m \u001b[0mfilename\u001b[0m\u001b[0;34m)\u001b[0m\u001b[0;34m\u001b[0m\u001b[0;34m\u001b[0m\u001b[0m\n\u001b[1;32m     10\u001b[0m     \u001b[0;31m# checking if it is a file\u001b[0m\u001b[0;34m\u001b[0m\u001b[0;34m\u001b[0m\u001b[0;34m\u001b[0m\u001b[0m\n",
      "\u001b[0;31mFileNotFoundError\u001b[0m: [Errno 2] No such file or directory: 'ztm1_file_export'"
     ]
    }
   ],
   "source": [
    "# import required module\n",
    "import os\n",
    "# assign directory\n",
    "directory = 'ztm1_file_export'\n",
    " \n",
    "# iterate over files in\n",
    "# that directory\n",
    "for filename in os.listdir(directory):\n",
    "    f = os.path.join(directory, filename)\n",
    "    # checking if it is a file\n",
    "    if os.path.isfile(f):\n",
    "        print(f)"
   ]
  },
  {
   "cell_type": "code",
   "execution_count": 17,
   "id": "b623cf4f-3007-43b6-8262-1b67727a05ac",
   "metadata": {},
   "outputs": [
    {
     "data": {
      "text/plain": [
       "['ztm1 ', 'ztm2 ', 'ztm3 ', 'ztm4 ', 'ztm5 ', 'ztm6 ']"
      ]
     },
     "execution_count": 17,
     "metadata": {},
     "output_type": "execute_result"
    }
   ],
   "source": [
    "os.listdir()"
   ]
  },
  {
   "cell_type": "code",
   "execution_count": null,
   "id": "a18777f1-d3ab-4813-8922-48aaaff20a85",
   "metadata": {},
   "outputs": [],
   "source": []
  }
 ],
 "metadata": {
  "kernelspec": {
   "display_name": "nlp",
   "language": "python",
   "name": "nlp"
  },
  "language_info": {
   "codemirror_mode": {
    "name": "ipython",
    "version": 3
   },
   "file_extension": ".py",
   "mimetype": "text/x-python",
   "name": "python",
   "nbconvert_exporter": "python",
   "pygments_lexer": "ipython3",
   "version": "3.9.2"
  }
 },
 "nbformat": 4,
 "nbformat_minor": 5
}
